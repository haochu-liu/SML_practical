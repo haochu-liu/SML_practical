{
  "cells": [
    {
      "cell_type": "markdown",
      "id": "bb32710c",
      "metadata": {
        "id": "bb32710c"
      },
      "source": [
        "# Sample Python Code\n",
        "MSc in Statistical Science\\\n",
        "University of Oxford\\\n",
        "Group-assessed practical\\\n",
        "HT 2024\n"
      ]
    },
    {
      "cell_type": "code",
      "execution_count": 3,
      "id": "7b5c7d92",
      "metadata": {
        "id": "7b5c7d92"
      },
      "outputs": [
        {
          "name": "stderr",
          "output_type": "stream",
          "text": [
            "2024-03-10 22:14:23.162580: I tensorflow/core/platform/cpu_feature_guard.cc:193] This TensorFlow binary is optimized with oneAPI Deep Neural Network Library (oneDNN) to use the following CPU instructions in performance-critical operations:  AVX2 AVX512F AVX512_VNNI FMA\n",
            "To enable them in other operations, rebuild TensorFlow with the appropriate compiler flags.\n"
          ]
        }
      ],
      "source": [
        "# Import libraries\n",
        "import pandas as pd\n",
        "import numpy as np\n",
        "from sklearn.neighbors import KNeighborsClassifier\n",
        "import numpy as np\n",
        "import tensorflow as tf\n",
        "from sklearn.model_selection import train_test_split\n",
        "from tensorflow.keras.models import Sequential\n",
        "from tensorflow.keras.layers import Dense, Dropout\n",
        "from tensorflow.keras.optimizers import Adam\n",
        "from sklearn.preprocessing import StandardScaler\n",
        "from tensorflow.keras.utils import to_categorical\n"
      ]
    },
    {
      "cell_type": "markdown",
      "id": "ff94689a",
      "metadata": {
        "id": "ff94689a"
      },
      "source": [
        "## Load dataset"
      ]
    },
    {
      "cell_type": "code",
      "execution_count": 4,
      "id": "ec509956",
      "metadata": {
        "colab": {
          "base_uri": "https://localhost:8080/",
          "height": 428
        },
        "id": "ec509956",
        "outputId": "0e323c39-9126-4b85-d3f8-a8b891ffe8cf"
      },
      "outputs": [],
      "source": [
        "# Load the training data and the test inputs\n",
        "X_train = pd.read_csv('/Users/chenyuxing/Downloads/(无主题)/X_train.csv', index_col = 0, header=[0, 1, 2]) # inputs of the training set\n",
        "y_train = pd.read_csv('/Users/chenyuxing/Downloads/(无主题)/y_train.csv', index_col = 0).to_numpy() # outputs of the training set\n",
        "X_test =  pd.read_csv('/Users/chenyuxing/Downloads/(无主题)/X_test.csv', index_col = 0, header=[0, 1, 2]) # inputs of the test set"
      ]
    },
    {
      "cell_type": "code",
      "execution_count": 19,
      "id": "135c1798",
      "metadata": {
        "colab": {
          "base_uri": "https://localhost:8080/",
          "height": 537
        },
        "id": "135c1798",
        "outputId": "a617f3e3-22ff-4f01-c238-c28db67e9686",
        "scrolled": true
      },
      "outputs": [
        {
          "data": {
            "text/html": [
              "<div>\n",
              "<style scoped>\n",
              "    .dataframe tbody tr th:only-of-type {\n",
              "        vertical-align: middle;\n",
              "    }\n",
              "\n",
              "    .dataframe tbody tr th {\n",
              "        vertical-align: top;\n",
              "    }\n",
              "\n",
              "    .dataframe thead tr th {\n",
              "        text-align: left;\n",
              "    }\n",
              "\n",
              "    .dataframe thead tr:last-of-type th {\n",
              "        text-align: right;\n",
              "    }\n",
              "</style>\n",
              "<table border=\"1\" class=\"dataframe\">\n",
              "  <thead>\n",
              "    <tr>\n",
              "      <th>feature</th>\n",
              "      <th colspan=\"10\" halign=\"left\">chroma_cens</th>\n",
              "      <th>...</th>\n",
              "      <th colspan=\"3\" halign=\"left\">tonnetz</th>\n",
              "      <th colspan=\"7\" halign=\"left\">zcr</th>\n",
              "    </tr>\n",
              "    <tr>\n",
              "      <th>statistics</th>\n",
              "      <th colspan=\"10\" halign=\"left\">kurtosis</th>\n",
              "      <th>...</th>\n",
              "      <th colspan=\"3\" halign=\"left\">std</th>\n",
              "      <th>kurtosis</th>\n",
              "      <th>max</th>\n",
              "      <th>mean</th>\n",
              "      <th>median</th>\n",
              "      <th>min</th>\n",
              "      <th>skew</th>\n",
              "      <th>std</th>\n",
              "    </tr>\n",
              "    <tr>\n",
              "      <th>number</th>\n",
              "      <th>01</th>\n",
              "      <th>02</th>\n",
              "      <th>03</th>\n",
              "      <th>04</th>\n",
              "      <th>05</th>\n",
              "      <th>06</th>\n",
              "      <th>07</th>\n",
              "      <th>08</th>\n",
              "      <th>09</th>\n",
              "      <th>10</th>\n",
              "      <th>...</th>\n",
              "      <th>04</th>\n",
              "      <th>05</th>\n",
              "      <th>06</th>\n",
              "      <th>01</th>\n",
              "      <th>01</th>\n",
              "      <th>01</th>\n",
              "      <th>01</th>\n",
              "      <th>01</th>\n",
              "      <th>01</th>\n",
              "      <th>01</th>\n",
              "    </tr>\n",
              "    <tr>\n",
              "      <th>Id</th>\n",
              "      <th></th>\n",
              "      <th></th>\n",
              "      <th></th>\n",
              "      <th></th>\n",
              "      <th></th>\n",
              "      <th></th>\n",
              "      <th></th>\n",
              "      <th></th>\n",
              "      <th></th>\n",
              "      <th></th>\n",
              "      <th></th>\n",
              "      <th></th>\n",
              "      <th></th>\n",
              "      <th></th>\n",
              "      <th></th>\n",
              "      <th></th>\n",
              "      <th></th>\n",
              "      <th></th>\n",
              "      <th></th>\n",
              "      <th></th>\n",
              "      <th></th>\n",
              "    </tr>\n",
              "  </thead>\n",
              "  <tbody>\n",
              "    <tr>\n",
              "      <th>0</th>\n",
              "      <td>-0.266585</td>\n",
              "      <td>-0.984668</td>\n",
              "      <td>-0.729823</td>\n",
              "      <td>-0.895122</td>\n",
              "      <td>2.138628</td>\n",
              "      <td>0.935209</td>\n",
              "      <td>0.104089</td>\n",
              "      <td>-0.698659</td>\n",
              "      <td>-0.736408</td>\n",
              "      <td>-0.334376</td>\n",
              "      <td>...</td>\n",
              "      <td>0.065003</td>\n",
              "      <td>0.016522</td>\n",
              "      <td>0.015776</td>\n",
              "      <td>5.743597</td>\n",
              "      <td>0.307617</td>\n",
              "      <td>0.051370</td>\n",
              "      <td>0.042480</td>\n",
              "      <td>0.002441</td>\n",
              "      <td>1.976972</td>\n",
              "      <td>0.034533</td>\n",
              "    </tr>\n",
              "    <tr>\n",
              "      <th>1</th>\n",
              "      <td>-0.180061</td>\n",
              "      <td>0.260884</td>\n",
              "      <td>-0.069373</td>\n",
              "      <td>0.208734</td>\n",
              "      <td>-0.078855</td>\n",
              "      <td>-0.577818</td>\n",
              "      <td>0.583788</td>\n",
              "      <td>0.143781</td>\n",
              "      <td>0.291556</td>\n",
              "      <td>0.007314</td>\n",
              "      <td>...</td>\n",
              "      <td>0.087692</td>\n",
              "      <td>0.016355</td>\n",
              "      <td>0.016605</td>\n",
              "      <td>64.870987</td>\n",
              "      <td>0.812988</td>\n",
              "      <td>0.082784</td>\n",
              "      <td>0.069824</td>\n",
              "      <td>0.003906</td>\n",
              "      <td>7.374503</td>\n",
              "      <td>0.074870</td>\n",
              "    </tr>\n",
              "    <tr>\n",
              "      <th>2</th>\n",
              "      <td>-0.692900</td>\n",
              "      <td>0.356662</td>\n",
              "      <td>0.062617</td>\n",
              "      <td>0.248280</td>\n",
              "      <td>3.470037</td>\n",
              "      <td>0.166613</td>\n",
              "      <td>0.823874</td>\n",
              "      <td>0.181112</td>\n",
              "      <td>0.551939</td>\n",
              "      <td>0.357985</td>\n",
              "      <td>...</td>\n",
              "      <td>0.132387</td>\n",
              "      <td>0.025847</td>\n",
              "      <td>0.023922</td>\n",
              "      <td>34.251705</td>\n",
              "      <td>0.850098</td>\n",
              "      <td>0.058200</td>\n",
              "      <td>0.036621</td>\n",
              "      <td>0.010254</td>\n",
              "      <td>5.927942</td>\n",
              "      <td>0.117603</td>\n",
              "    </tr>\n",
              "    <tr>\n",
              "      <th>3</th>\n",
              "      <td>0.243339</td>\n",
              "      <td>0.214182</td>\n",
              "      <td>-0.049026</td>\n",
              "      <td>1.456255</td>\n",
              "      <td>-0.360826</td>\n",
              "      <td>-0.875256</td>\n",
              "      <td>-0.770200</td>\n",
              "      <td>0.315500</td>\n",
              "      <td>0.789956</td>\n",
              "      <td>0.448319</td>\n",
              "      <td>...</td>\n",
              "      <td>0.071478</td>\n",
              "      <td>0.019166</td>\n",
              "      <td>0.025535</td>\n",
              "      <td>1.364990</td>\n",
              "      <td>0.342285</td>\n",
              "      <td>0.081713</td>\n",
              "      <td>0.075195</td>\n",
              "      <td>0.000000</td>\n",
              "      <td>1.100437</td>\n",
              "      <td>0.041754</td>\n",
              "    </tr>\n",
              "    <tr>\n",
              "      <th>4</th>\n",
              "      <td>-0.968576</td>\n",
              "      <td>0.309255</td>\n",
              "      <td>0.223164</td>\n",
              "      <td>0.160960</td>\n",
              "      <td>0.919838</td>\n",
              "      <td>-0.111985</td>\n",
              "      <td>-1.012521</td>\n",
              "      <td>-0.665692</td>\n",
              "      <td>-0.316646</td>\n",
              "      <td>-0.264381</td>\n",
              "      <td>...</td>\n",
              "      <td>0.106220</td>\n",
              "      <td>0.023536</td>\n",
              "      <td>0.019742</td>\n",
              "      <td>3.589230</td>\n",
              "      <td>0.322266</td>\n",
              "      <td>0.073736</td>\n",
              "      <td>0.069336</td>\n",
              "      <td>0.004395</td>\n",
              "      <td>1.210593</td>\n",
              "      <td>0.036459</td>\n",
              "    </tr>\n",
              "    <tr>\n",
              "      <th>...</th>\n",
              "      <td>...</td>\n",
              "      <td>...</td>\n",
              "      <td>...</td>\n",
              "      <td>...</td>\n",
              "      <td>...</td>\n",
              "      <td>...</td>\n",
              "      <td>...</td>\n",
              "      <td>...</td>\n",
              "      <td>...</td>\n",
              "      <td>...</td>\n",
              "      <td>...</td>\n",
              "      <td>...</td>\n",
              "      <td>...</td>\n",
              "      <td>...</td>\n",
              "      <td>...</td>\n",
              "      <td>...</td>\n",
              "      <td>...</td>\n",
              "      <td>...</td>\n",
              "      <td>...</td>\n",
              "      <td>...</td>\n",
              "      <td>...</td>\n",
              "    </tr>\n",
              "    <tr>\n",
              "      <th>5995</th>\n",
              "      <td>0.503490</td>\n",
              "      <td>-0.540720</td>\n",
              "      <td>-0.690117</td>\n",
              "      <td>-0.107338</td>\n",
              "      <td>-0.647856</td>\n",
              "      <td>-0.681969</td>\n",
              "      <td>-0.246245</td>\n",
              "      <td>-0.546552</td>\n",
              "      <td>0.062783</td>\n",
              "      <td>0.070393</td>\n",
              "      <td>...</td>\n",
              "      <td>0.084929</td>\n",
              "      <td>0.017250</td>\n",
              "      <td>0.020335</td>\n",
              "      <td>4.868783</td>\n",
              "      <td>0.668945</td>\n",
              "      <td>0.076452</td>\n",
              "      <td>0.044434</td>\n",
              "      <td>0.001465</td>\n",
              "      <td>2.045856</td>\n",
              "      <td>0.084214</td>\n",
              "    </tr>\n",
              "    <tr>\n",
              "      <th>5996</th>\n",
              "      <td>-0.600597</td>\n",
              "      <td>0.406386</td>\n",
              "      <td>-0.748409</td>\n",
              "      <td>-0.316157</td>\n",
              "      <td>-0.507428</td>\n",
              "      <td>-0.054214</td>\n",
              "      <td>-0.476804</td>\n",
              "      <td>-0.373120</td>\n",
              "      <td>-0.930158</td>\n",
              "      <td>-1.080690</td>\n",
              "      <td>...</td>\n",
              "      <td>0.075407</td>\n",
              "      <td>0.014998</td>\n",
              "      <td>0.020683</td>\n",
              "      <td>7.893681</td>\n",
              "      <td>0.584961</td>\n",
              "      <td>0.076210</td>\n",
              "      <td>0.048340</td>\n",
              "      <td>0.000000</td>\n",
              "      <td>2.561808</td>\n",
              "      <td>0.073010</td>\n",
              "    </tr>\n",
              "    <tr>\n",
              "      <th>5997</th>\n",
              "      <td>-1.014298</td>\n",
              "      <td>-0.950744</td>\n",
              "      <td>0.618304</td>\n",
              "      <td>0.204298</td>\n",
              "      <td>-0.788411</td>\n",
              "      <td>-0.794254</td>\n",
              "      <td>-0.586847</td>\n",
              "      <td>0.099172</td>\n",
              "      <td>-0.313476</td>\n",
              "      <td>-0.523417</td>\n",
              "      <td>...</td>\n",
              "      <td>0.138591</td>\n",
              "      <td>0.024969</td>\n",
              "      <td>0.023658</td>\n",
              "      <td>27.257378</td>\n",
              "      <td>0.373047</td>\n",
              "      <td>0.042598</td>\n",
              "      <td>0.037598</td>\n",
              "      <td>0.000000</td>\n",
              "      <td>3.778109</td>\n",
              "      <td>0.027813</td>\n",
              "    </tr>\n",
              "    <tr>\n",
              "      <th>5998</th>\n",
              "      <td>-0.002938</td>\n",
              "      <td>0.646034</td>\n",
              "      <td>-0.732819</td>\n",
              "      <td>1.205990</td>\n",
              "      <td>-0.898733</td>\n",
              "      <td>-0.684953</td>\n",
              "      <td>0.134642</td>\n",
              "      <td>-0.374792</td>\n",
              "      <td>-0.019524</td>\n",
              "      <td>-1.016032</td>\n",
              "      <td>...</td>\n",
              "      <td>0.137695</td>\n",
              "      <td>0.030371</td>\n",
              "      <td>0.029970</td>\n",
              "      <td>431.200500</td>\n",
              "      <td>0.384277</td>\n",
              "      <td>0.025731</td>\n",
              "      <td>0.025391</td>\n",
              "      <td>0.008301</td>\n",
              "      <td>10.260160</td>\n",
              "      <td>0.006870</td>\n",
              "    </tr>\n",
              "    <tr>\n",
              "      <th>5999</th>\n",
              "      <td>-0.881917</td>\n",
              "      <td>-0.615638</td>\n",
              "      <td>0.891155</td>\n",
              "      <td>4.850262</td>\n",
              "      <td>-0.349280</td>\n",
              "      <td>-1.010980</td>\n",
              "      <td>-0.577905</td>\n",
              "      <td>-0.046604</td>\n",
              "      <td>-0.828026</td>\n",
              "      <td>-0.457468</td>\n",
              "      <td>...</td>\n",
              "      <td>0.175120</td>\n",
              "      <td>0.039703</td>\n",
              "      <td>0.025094</td>\n",
              "      <td>13.567758</td>\n",
              "      <td>0.233398</td>\n",
              "      <td>0.047689</td>\n",
              "      <td>0.044922</td>\n",
              "      <td>0.015625</td>\n",
              "      <td>2.553229</td>\n",
              "      <td>0.018049</td>\n",
              "    </tr>\n",
              "  </tbody>\n",
              "</table>\n",
              "<p>6000 rows × 518 columns</p>\n",
              "</div>"
            ],
            "text/plain": [
              "feature    chroma_cens                                                    \\\n",
              "statistics    kurtosis                                                     \n",
              "number              01        02        03        04        05        06   \n",
              "Id                                                                         \n",
              "0            -0.266585 -0.984668 -0.729823 -0.895122  2.138628  0.935209   \n",
              "1            -0.180061  0.260884 -0.069373  0.208734 -0.078855 -0.577818   \n",
              "2            -0.692900  0.356662  0.062617  0.248280  3.470037  0.166613   \n",
              "3             0.243339  0.214182 -0.049026  1.456255 -0.360826 -0.875256   \n",
              "4            -0.968576  0.309255  0.223164  0.160960  0.919838 -0.111985   \n",
              "...                ...       ...       ...       ...       ...       ...   \n",
              "5995          0.503490 -0.540720 -0.690117 -0.107338 -0.647856 -0.681969   \n",
              "5996         -0.600597  0.406386 -0.748409 -0.316157 -0.507428 -0.054214   \n",
              "5997         -1.014298 -0.950744  0.618304  0.204298 -0.788411 -0.794254   \n",
              "5998         -0.002938  0.646034 -0.732819  1.205990 -0.898733 -0.684953   \n",
              "5999         -0.881917 -0.615638  0.891155  4.850262 -0.349280 -1.010980   \n",
              "\n",
              "feature                                             ...   tonnetz            \\\n",
              "statistics                                          ...       std             \n",
              "number            07        08        09        10  ...        04        05   \n",
              "Id                                                  ...                       \n",
              "0           0.104089 -0.698659 -0.736408 -0.334376  ...  0.065003  0.016522   \n",
              "1           0.583788  0.143781  0.291556  0.007314  ...  0.087692  0.016355   \n",
              "2           0.823874  0.181112  0.551939  0.357985  ...  0.132387  0.025847   \n",
              "3          -0.770200  0.315500  0.789956  0.448319  ...  0.071478  0.019166   \n",
              "4          -1.012521 -0.665692 -0.316646 -0.264381  ...  0.106220  0.023536   \n",
              "...              ...       ...       ...       ...  ...       ...       ...   \n",
              "5995       -0.246245 -0.546552  0.062783  0.070393  ...  0.084929  0.017250   \n",
              "5996       -0.476804 -0.373120 -0.930158 -1.080690  ...  0.075407  0.014998   \n",
              "5997       -0.586847  0.099172 -0.313476 -0.523417  ...  0.138591  0.024969   \n",
              "5998        0.134642 -0.374792 -0.019524 -1.016032  ...  0.137695  0.030371   \n",
              "5999       -0.577905 -0.046604 -0.828026 -0.457468  ...  0.175120  0.039703   \n",
              "\n",
              "feature                      zcr                                          \\\n",
              "statistics              kurtosis       max      mean    median       min   \n",
              "number            06          01        01        01        01        01   \n",
              "Id                                                                         \n",
              "0           0.015776    5.743597  0.307617  0.051370  0.042480  0.002441   \n",
              "1           0.016605   64.870987  0.812988  0.082784  0.069824  0.003906   \n",
              "2           0.023922   34.251705  0.850098  0.058200  0.036621  0.010254   \n",
              "3           0.025535    1.364990  0.342285  0.081713  0.075195  0.000000   \n",
              "4           0.019742    3.589230  0.322266  0.073736  0.069336  0.004395   \n",
              "...              ...         ...       ...       ...       ...       ...   \n",
              "5995        0.020335    4.868783  0.668945  0.076452  0.044434  0.001465   \n",
              "5996        0.020683    7.893681  0.584961  0.076210  0.048340  0.000000   \n",
              "5997        0.023658   27.257378  0.373047  0.042598  0.037598  0.000000   \n",
              "5998        0.029970  431.200500  0.384277  0.025731  0.025391  0.008301   \n",
              "5999        0.025094   13.567758  0.233398  0.047689  0.044922  0.015625   \n",
              "\n",
              "feature                          \n",
              "statistics       skew       std  \n",
              "number             01        01  \n",
              "Id                               \n",
              "0            1.976972  0.034533  \n",
              "1            7.374503  0.074870  \n",
              "2            5.927942  0.117603  \n",
              "3            1.100437  0.041754  \n",
              "4            1.210593  0.036459  \n",
              "...               ...       ...  \n",
              "5995         2.045856  0.084214  \n",
              "5996         2.561808  0.073010  \n",
              "5997         3.778109  0.027813  \n",
              "5998        10.260160  0.006870  \n",
              "5999         2.553229  0.018049  \n",
              "\n",
              "[6000 rows x 518 columns]"
            ]
          },
          "execution_count": 19,
          "metadata": {},
          "output_type": "execute_result"
        }
      ],
      "source": [
        "# X_train is a 6,000 * 518 dataframe.\n",
        "# Entries (i,j) correspond to the j'th dimension of the observation i\n",
        "X_train"
      ]
    },
    {
      "cell_type": "code",
      "execution_count": 49,
      "id": "e2ecccb9",
      "metadata": {},
      "outputs": [
        {
          "data": {
            "text/html": [
              "<div>\n",
              "<style scoped>\n",
              "    .dataframe tbody tr th:only-of-type {\n",
              "        vertical-align: middle;\n",
              "    }\n",
              "\n",
              "    .dataframe tbody tr th {\n",
              "        vertical-align: top;\n",
              "    }\n",
              "\n",
              "    .dataframe thead th {\n",
              "        text-align: right;\n",
              "    }\n",
              "</style>\n",
              "<table border=\"1\" class=\"dataframe\">\n",
              "  <thead>\n",
              "    <tr style=\"text-align: right;\">\n",
              "      <th></th>\n",
              "      <th></th>\n",
              "      <th></th>\n",
              "      <th>count</th>\n",
              "      <th>mean</th>\n",
              "      <th>std</th>\n",
              "      <th>min</th>\n",
              "      <th>25%</th>\n",
              "      <th>50%</th>\n",
              "      <th>75%</th>\n",
              "      <th>max</th>\n",
              "    </tr>\n",
              "    <tr>\n",
              "      <th>feature</th>\n",
              "      <th>statistics</th>\n",
              "      <th>number</th>\n",
              "      <th></th>\n",
              "      <th></th>\n",
              "      <th></th>\n",
              "      <th></th>\n",
              "      <th></th>\n",
              "      <th></th>\n",
              "      <th></th>\n",
              "      <th></th>\n",
              "    </tr>\n",
              "  </thead>\n",
              "  <tbody>\n",
              "    <tr>\n",
              "      <th rowspan=\"10\" valign=\"top\">chroma_cens</th>\n",
              "      <th rowspan=\"10\" valign=\"top\">kurtosis</th>\n",
              "      <th>01</th>\n",
              "      <td>6000.0</td>\n",
              "      <td>0.107609</td>\n",
              "      <td>1.622556</td>\n",
              "      <td>-1.750532</td>\n",
              "      <td>-0.687784</td>\n",
              "      <td>-0.221944</td>\n",
              "      <td>0.422105</td>\n",
              "      <td>42.851593</td>\n",
              "    </tr>\n",
              "    <tr>\n",
              "      <th>02</th>\n",
              "      <td>6000.0</td>\n",
              "      <td>0.012346</td>\n",
              "      <td>1.911876</td>\n",
              "      <td>-1.816620</td>\n",
              "      <td>-0.732581</td>\n",
              "      <td>-0.288179</td>\n",
              "      <td>0.336494</td>\n",
              "      <td>79.781960</td>\n",
              "    </tr>\n",
              "    <tr>\n",
              "      <th>03</th>\n",
              "      <td>6000.0</td>\n",
              "      <td>0.127187</td>\n",
              "      <td>1.897625</td>\n",
              "      <td>-1.825738</td>\n",
              "      <td>-0.688573</td>\n",
              "      <td>-0.219804</td>\n",
              "      <td>0.427675</td>\n",
              "      <td>75.713921</td>\n",
              "    </tr>\n",
              "    <tr>\n",
              "      <th>04</th>\n",
              "      <td>6000.0</td>\n",
              "      <td>-0.002926</td>\n",
              "      <td>1.241022</td>\n",
              "      <td>-1.760243</td>\n",
              "      <td>-0.700126</td>\n",
              "      <td>-0.262057</td>\n",
              "      <td>0.325397</td>\n",
              "      <td>23.989765</td>\n",
              "    </tr>\n",
              "    <tr>\n",
              "      <th>05</th>\n",
              "      <td>6000.0</td>\n",
              "      <td>0.061176</td>\n",
              "      <td>1.659644</td>\n",
              "      <td>-1.781202</td>\n",
              "      <td>-0.728725</td>\n",
              "      <td>-0.271311</td>\n",
              "      <td>0.375869</td>\n",
              "      <td>43.405674</td>\n",
              "    </tr>\n",
              "    <tr>\n",
              "      <th>06</th>\n",
              "      <td>6000.0</td>\n",
              "      <td>0.085161</td>\n",
              "      <td>1.663135</td>\n",
              "      <td>-1.718097</td>\n",
              "      <td>-0.696937</td>\n",
              "      <td>-0.233475</td>\n",
              "      <td>0.407473</td>\n",
              "      <td>47.604107</td>\n",
              "    </tr>\n",
              "    <tr>\n",
              "      <th>07</th>\n",
              "      <td>6000.0</td>\n",
              "      <td>0.005912</td>\n",
              "      <td>1.961710</td>\n",
              "      <td>-1.778957</td>\n",
              "      <td>-0.731275</td>\n",
              "      <td>-0.312631</td>\n",
              "      <td>0.307703</td>\n",
              "      <td>101.148888</td>\n",
              "    </tr>\n",
              "    <tr>\n",
              "      <th>08</th>\n",
              "      <td>6000.0</td>\n",
              "      <td>0.124224</td>\n",
              "      <td>3.093569</td>\n",
              "      <td>-1.745497</td>\n",
              "      <td>-0.702508</td>\n",
              "      <td>-0.247105</td>\n",
              "      <td>0.425011</td>\n",
              "      <td>188.753738</td>\n",
              "    </tr>\n",
              "    <tr>\n",
              "      <th>09</th>\n",
              "      <td>6000.0</td>\n",
              "      <td>0.004583</td>\n",
              "      <td>1.844294</td>\n",
              "      <td>-1.802878</td>\n",
              "      <td>-0.738029</td>\n",
              "      <td>-0.299719</td>\n",
              "      <td>0.331440</td>\n",
              "      <td>74.518082</td>\n",
              "    </tr>\n",
              "    <tr>\n",
              "      <th>10</th>\n",
              "      <td>6000.0</td>\n",
              "      <td>0.090390</td>\n",
              "      <td>2.095963</td>\n",
              "      <td>-1.787692</td>\n",
              "      <td>-0.724942</td>\n",
              "      <td>-0.258721</td>\n",
              "      <td>0.399562</td>\n",
              "      <td>75.878792</td>\n",
              "    </tr>\n",
              "  </tbody>\n",
              "</table>\n",
              "</div>"
            ],
            "text/plain": [
              "                                count      mean       std       min       25%  \\\n",
              "feature     statistics number                                                   \n",
              "chroma_cens kurtosis   01      6000.0  0.107609  1.622556 -1.750532 -0.687784   \n",
              "                       02      6000.0  0.012346  1.911876 -1.816620 -0.732581   \n",
              "                       03      6000.0  0.127187  1.897625 -1.825738 -0.688573   \n",
              "                       04      6000.0 -0.002926  1.241022 -1.760243 -0.700126   \n",
              "                       05      6000.0  0.061176  1.659644 -1.781202 -0.728725   \n",
              "                       06      6000.0  0.085161  1.663135 -1.718097 -0.696937   \n",
              "                       07      6000.0  0.005912  1.961710 -1.778957 -0.731275   \n",
              "                       08      6000.0  0.124224  3.093569 -1.745497 -0.702508   \n",
              "                       09      6000.0  0.004583  1.844294 -1.802878 -0.738029   \n",
              "                       10      6000.0  0.090390  2.095963 -1.787692 -0.724942   \n",
              "\n",
              "                                    50%       75%         max  \n",
              "feature     statistics number                                  \n",
              "chroma_cens kurtosis   01     -0.221944  0.422105   42.851593  \n",
              "                       02     -0.288179  0.336494   79.781960  \n",
              "                       03     -0.219804  0.427675   75.713921  \n",
              "                       04     -0.262057  0.325397   23.989765  \n",
              "                       05     -0.271311  0.375869   43.405674  \n",
              "                       06     -0.233475  0.407473   47.604107  \n",
              "                       07     -0.312631  0.307703  101.148888  \n",
              "                       08     -0.247105  0.425011  188.753738  \n",
              "                       09     -0.299719  0.331440   74.518082  \n",
              "                       10     -0.258721  0.399562   75.878792  "
            ]
          },
          "execution_count": 49,
          "metadata": {},
          "output_type": "execute_result"
        }
      ],
      "source": [
        "X_train.describe().T[:10]"
      ]
    },
    {
      "cell_type": "code",
      "execution_count": 21,
      "id": "J5krkqSiqMuJ",
      "metadata": {
        "colab": {
          "base_uri": "https://localhost:8080/"
        },
        "id": "J5krkqSiqMuJ",
        "outputId": "19037d16-ca78-4036-dce7-ea13bd4873cc"
      },
      "outputs": [
        {
          "data": {
            "text/plain": [
              "6000"
            ]
          },
          "execution_count": 21,
          "metadata": {},
          "output_type": "execute_result"
        }
      ],
      "source": [
        "number_classes=np.unique(y_train)\n",
        "len(y_train)"
      ]
    },
    {
      "cell_type": "code",
      "execution_count": 3,
      "id": "5b5cdefe",
      "metadata": {
        "colab": {
          "base_uri": "https://localhost:8080/"
        },
        "id": "5b5cdefe",
        "outputId": "4079d12b-3008-4001-f282-78c65282a149"
      },
      "outputs": [
        {
          "data": {
            "text/plain": [
              "array(['Electronic', 'Rock', 'Instrumental', ..., 'Pop', 'Instrumental',\n",
              "       'Instrumental'], dtype=object)"
            ]
          },
          "execution_count": 3,
          "metadata": {},
          "output_type": "execute_result"
        }
      ],
      "source": [
        "#y_train contains the true class:  Electronic, Experimental, Folk, Hip-Hop, Instrumental, International, Pop or Rock\n",
        "y_train.ravel()"
      ]
    },
    {
      "cell_type": "code",
      "execution_count": 23,
      "id": "551a7367",
      "metadata": {
        "colab": {
          "base_uri": "https://localhost:8080/",
          "height": 176
        },
        "id": "551a7367",
        "outputId": "206859cc-a2d2-4394-b832-6111dab59f3b"
      },
      "outputs": [
        {
          "data": {
            "text/html": [
              "<div>\n",
              "<style scoped>\n",
              "    .dataframe tbody tr th:only-of-type {\n",
              "        vertical-align: middle;\n",
              "    }\n",
              "\n",
              "    .dataframe tbody tr th {\n",
              "        vertical-align: top;\n",
              "    }\n",
              "\n",
              "    .dataframe thead tr th {\n",
              "        text-align: left;\n",
              "    }\n",
              "\n",
              "    .dataframe thead tr:last-of-type th {\n",
              "        text-align: right;\n",
              "    }\n",
              "</style>\n",
              "<table border=\"1\" class=\"dataframe\">\n",
              "  <thead>\n",
              "    <tr>\n",
              "      <th>feature</th>\n",
              "      <th colspan=\"10\" halign=\"left\">chroma_cens</th>\n",
              "      <th>...</th>\n",
              "      <th colspan=\"3\" halign=\"left\">tonnetz</th>\n",
              "      <th colspan=\"7\" halign=\"left\">zcr</th>\n",
              "    </tr>\n",
              "    <tr>\n",
              "      <th>statistics</th>\n",
              "      <th colspan=\"10\" halign=\"left\">kurtosis</th>\n",
              "      <th>...</th>\n",
              "      <th colspan=\"3\" halign=\"left\">std</th>\n",
              "      <th>kurtosis</th>\n",
              "      <th>max</th>\n",
              "      <th>mean</th>\n",
              "      <th>median</th>\n",
              "      <th>min</th>\n",
              "      <th>skew</th>\n",
              "      <th>std</th>\n",
              "    </tr>\n",
              "    <tr>\n",
              "      <th>number</th>\n",
              "      <th>01</th>\n",
              "      <th>02</th>\n",
              "      <th>03</th>\n",
              "      <th>04</th>\n",
              "      <th>05</th>\n",
              "      <th>06</th>\n",
              "      <th>07</th>\n",
              "      <th>08</th>\n",
              "      <th>09</th>\n",
              "      <th>10</th>\n",
              "      <th>...</th>\n",
              "      <th>04</th>\n",
              "      <th>05</th>\n",
              "      <th>06</th>\n",
              "      <th>01</th>\n",
              "      <th>01</th>\n",
              "      <th>01</th>\n",
              "      <th>01</th>\n",
              "      <th>01</th>\n",
              "      <th>01</th>\n",
              "      <th>01</th>\n",
              "    </tr>\n",
              "    <tr>\n",
              "      <th>Id</th>\n",
              "      <th></th>\n",
              "      <th></th>\n",
              "      <th></th>\n",
              "      <th></th>\n",
              "      <th></th>\n",
              "      <th></th>\n",
              "      <th></th>\n",
              "      <th></th>\n",
              "      <th></th>\n",
              "      <th></th>\n",
              "      <th></th>\n",
              "      <th></th>\n",
              "      <th></th>\n",
              "      <th></th>\n",
              "      <th></th>\n",
              "      <th></th>\n",
              "      <th></th>\n",
              "      <th></th>\n",
              "      <th></th>\n",
              "      <th></th>\n",
              "      <th></th>\n",
              "    </tr>\n",
              "  </thead>\n",
              "  <tbody>\n",
              "    <tr>\n",
              "      <th>0</th>\n",
              "      <td>3.974762</td>\n",
              "      <td>4.354650</td>\n",
              "      <td>3.394523</td>\n",
              "      <td>0.033462</td>\n",
              "      <td>5.611623</td>\n",
              "      <td>2.592655</td>\n",
              "      <td>3.041094</td>\n",
              "      <td>2.815378</td>\n",
              "      <td>3.954026</td>\n",
              "      <td>2.365586</td>\n",
              "      <td>...</td>\n",
              "      <td>0.052970</td>\n",
              "      <td>0.013487</td>\n",
              "      <td>0.022031</td>\n",
              "      <td>70.844788</td>\n",
              "      <td>0.671387</td>\n",
              "      <td>0.035129</td>\n",
              "      <td>0.026367</td>\n",
              "      <td>0.010254</td>\n",
              "      <td>8.394708</td>\n",
              "      <td>0.067026</td>\n",
              "    </tr>\n",
              "    <tr>\n",
              "      <th>1</th>\n",
              "      <td>0.033636</td>\n",
              "      <td>-0.139950</td>\n",
              "      <td>0.678688</td>\n",
              "      <td>-0.553824</td>\n",
              "      <td>-0.165293</td>\n",
              "      <td>0.370275</td>\n",
              "      <td>-0.314710</td>\n",
              "      <td>-0.368706</td>\n",
              "      <td>-0.437181</td>\n",
              "      <td>-0.441662</td>\n",
              "      <td>...</td>\n",
              "      <td>0.093105</td>\n",
              "      <td>0.022865</td>\n",
              "      <td>0.028800</td>\n",
              "      <td>18.427612</td>\n",
              "      <td>0.538574</td>\n",
              "      <td>0.055975</td>\n",
              "      <td>0.039062</td>\n",
              "      <td>0.000000</td>\n",
              "      <td>3.638194</td>\n",
              "      <td>0.053879</td>\n",
              "    </tr>\n",
              "    <tr>\n",
              "      <th>2</th>\n",
              "      <td>0.044094</td>\n",
              "      <td>4.285359</td>\n",
              "      <td>0.977213</td>\n",
              "      <td>3.240997</td>\n",
              "      <td>0.400350</td>\n",
              "      <td>1.026224</td>\n",
              "      <td>0.772464</td>\n",
              "      <td>0.807625</td>\n",
              "      <td>1.942534</td>\n",
              "      <td>1.938970</td>\n",
              "      <td>...</td>\n",
              "      <td>0.081955</td>\n",
              "      <td>0.017371</td>\n",
              "      <td>0.016673</td>\n",
              "      <td>38.401405</td>\n",
              "      <td>0.405762</td>\n",
              "      <td>0.030685</td>\n",
              "      <td>0.028809</td>\n",
              "      <td>0.002930</td>\n",
              "      <td>2.620369</td>\n",
              "      <td>0.016835</td>\n",
              "    </tr>\n",
              "    <tr>\n",
              "      <th>3</th>\n",
              "      <td>-0.425218</td>\n",
              "      <td>0.793007</td>\n",
              "      <td>0.509624</td>\n",
              "      <td>-0.967103</td>\n",
              "      <td>-1.432252</td>\n",
              "      <td>-0.900761</td>\n",
              "      <td>-0.501279</td>\n",
              "      <td>-0.855886</td>\n",
              "      <td>-0.556825</td>\n",
              "      <td>7.404243</td>\n",
              "      <td>...</td>\n",
              "      <td>0.098877</td>\n",
              "      <td>0.019089</td>\n",
              "      <td>0.016183</td>\n",
              "      <td>4.129582</td>\n",
              "      <td>0.252441</td>\n",
              "      <td>0.037955</td>\n",
              "      <td>0.024902</td>\n",
              "      <td>0.000000</td>\n",
              "      <td>1.898847</td>\n",
              "      <td>0.034382</td>\n",
              "    </tr>\n",
              "    <tr>\n",
              "      <th>4</th>\n",
              "      <td>-1.120238</td>\n",
              "      <td>-0.503659</td>\n",
              "      <td>0.303515</td>\n",
              "      <td>-0.596549</td>\n",
              "      <td>-0.716761</td>\n",
              "      <td>-0.874363</td>\n",
              "      <td>-0.708101</td>\n",
              "      <td>-0.642351</td>\n",
              "      <td>-0.327327</td>\n",
              "      <td>-0.342220</td>\n",
              "      <td>...</td>\n",
              "      <td>0.102545</td>\n",
              "      <td>0.023823</td>\n",
              "      <td>0.025166</td>\n",
              "      <td>16.758356</td>\n",
              "      <td>0.380371</td>\n",
              "      <td>0.027851</td>\n",
              "      <td>0.019043</td>\n",
              "      <td>0.000000</td>\n",
              "      <td>3.244483</td>\n",
              "      <td>0.027128</td>\n",
              "    </tr>\n",
              "    <tr>\n",
              "      <th>...</th>\n",
              "      <td>...</td>\n",
              "      <td>...</td>\n",
              "      <td>...</td>\n",
              "      <td>...</td>\n",
              "      <td>...</td>\n",
              "      <td>...</td>\n",
              "      <td>...</td>\n",
              "      <td>...</td>\n",
              "      <td>...</td>\n",
              "      <td>...</td>\n",
              "      <td>...</td>\n",
              "      <td>...</td>\n",
              "      <td>...</td>\n",
              "      <td>...</td>\n",
              "      <td>...</td>\n",
              "      <td>...</td>\n",
              "      <td>...</td>\n",
              "      <td>...</td>\n",
              "      <td>...</td>\n",
              "      <td>...</td>\n",
              "      <td>...</td>\n",
              "    </tr>\n",
              "    <tr>\n",
              "      <th>1995</th>\n",
              "      <td>-0.166039</td>\n",
              "      <td>-0.660406</td>\n",
              "      <td>-0.955245</td>\n",
              "      <td>-0.689303</td>\n",
              "      <td>-0.916851</td>\n",
              "      <td>-0.136661</td>\n",
              "      <td>-0.367279</td>\n",
              "      <td>-1.135291</td>\n",
              "      <td>-1.174082</td>\n",
              "      <td>-0.609749</td>\n",
              "      <td>...</td>\n",
              "      <td>0.060857</td>\n",
              "      <td>0.022777</td>\n",
              "      <td>0.017722</td>\n",
              "      <td>8.467750</td>\n",
              "      <td>0.444824</td>\n",
              "      <td>0.055770</td>\n",
              "      <td>0.039062</td>\n",
              "      <td>0.001465</td>\n",
              "      <td>2.520271</td>\n",
              "      <td>0.056601</td>\n",
              "    </tr>\n",
              "    <tr>\n",
              "      <th>1996</th>\n",
              "      <td>2.010343</td>\n",
              "      <td>0.344572</td>\n",
              "      <td>2.738141</td>\n",
              "      <td>1.238262</td>\n",
              "      <td>2.815471</td>\n",
              "      <td>0.689118</td>\n",
              "      <td>4.040531</td>\n",
              "      <td>2.749969</td>\n",
              "      <td>2.658481</td>\n",
              "      <td>4.763800</td>\n",
              "      <td>...</td>\n",
              "      <td>0.050589</td>\n",
              "      <td>0.015169</td>\n",
              "      <td>0.013096</td>\n",
              "      <td>-0.649581</td>\n",
              "      <td>0.357422</td>\n",
              "      <td>0.126850</td>\n",
              "      <td>0.120117</td>\n",
              "      <td>0.000000</td>\n",
              "      <td>0.234551</td>\n",
              "      <td>0.055476</td>\n",
              "    </tr>\n",
              "    <tr>\n",
              "      <th>1997</th>\n",
              "      <td>-0.869148</td>\n",
              "      <td>-0.600280</td>\n",
              "      <td>0.105814</td>\n",
              "      <td>0.553810</td>\n",
              "      <td>-0.839182</td>\n",
              "      <td>-0.706434</td>\n",
              "      <td>-0.360566</td>\n",
              "      <td>0.053638</td>\n",
              "      <td>-0.791513</td>\n",
              "      <td>-0.669329</td>\n",
              "      <td>...</td>\n",
              "      <td>0.079556</td>\n",
              "      <td>0.025229</td>\n",
              "      <td>0.026858</td>\n",
              "      <td>1.563682</td>\n",
              "      <td>0.152344</td>\n",
              "      <td>0.039138</td>\n",
              "      <td>0.035156</td>\n",
              "      <td>0.002441</td>\n",
              "      <td>1.084503</td>\n",
              "      <td>0.020284</td>\n",
              "    </tr>\n",
              "    <tr>\n",
              "      <th>1998</th>\n",
              "      <td>-0.854251</td>\n",
              "      <td>-0.804227</td>\n",
              "      <td>1.347275</td>\n",
              "      <td>-0.748155</td>\n",
              "      <td>-0.408385</td>\n",
              "      <td>-0.909165</td>\n",
              "      <td>-0.870467</td>\n",
              "      <td>-0.077660</td>\n",
              "      <td>-0.538250</td>\n",
              "      <td>-0.108390</td>\n",
              "      <td>...</td>\n",
              "      <td>0.147899</td>\n",
              "      <td>0.023989</td>\n",
              "      <td>0.027429</td>\n",
              "      <td>22.050222</td>\n",
              "      <td>0.319824</td>\n",
              "      <td>0.032715</td>\n",
              "      <td>0.028809</td>\n",
              "      <td>0.000000</td>\n",
              "      <td>3.429668</td>\n",
              "      <td>0.022654</td>\n",
              "    </tr>\n",
              "    <tr>\n",
              "      <th>1999</th>\n",
              "      <td>0.929528</td>\n",
              "      <td>0.922116</td>\n",
              "      <td>1.074849</td>\n",
              "      <td>0.431512</td>\n",
              "      <td>0.040441</td>\n",
              "      <td>-0.361733</td>\n",
              "      <td>0.371801</td>\n",
              "      <td>0.470401</td>\n",
              "      <td>-0.566806</td>\n",
              "      <td>0.082485</td>\n",
              "      <td>...</td>\n",
              "      <td>0.119940</td>\n",
              "      <td>0.023605</td>\n",
              "      <td>0.024036</td>\n",
              "      <td>2.444547</td>\n",
              "      <td>0.256836</td>\n",
              "      <td>0.047209</td>\n",
              "      <td>0.041016</td>\n",
              "      <td>0.002441</td>\n",
              "      <td>1.266626</td>\n",
              "      <td>0.030202</td>\n",
              "    </tr>\n",
              "  </tbody>\n",
              "</table>\n",
              "<p>2000 rows × 518 columns</p>\n",
              "</div>"
            ],
            "text/plain": [
              "feature    chroma_cens                                                    \\\n",
              "statistics    kurtosis                                                     \n",
              "number              01        02        03        04        05        06   \n",
              "Id                                                                         \n",
              "0             3.974762  4.354650  3.394523  0.033462  5.611623  2.592655   \n",
              "1             0.033636 -0.139950  0.678688 -0.553824 -0.165293  0.370275   \n",
              "2             0.044094  4.285359  0.977213  3.240997  0.400350  1.026224   \n",
              "3            -0.425218  0.793007  0.509624 -0.967103 -1.432252 -0.900761   \n",
              "4            -1.120238 -0.503659  0.303515 -0.596549 -0.716761 -0.874363   \n",
              "...                ...       ...       ...       ...       ...       ...   \n",
              "1995         -0.166039 -0.660406 -0.955245 -0.689303 -0.916851 -0.136661   \n",
              "1996          2.010343  0.344572  2.738141  1.238262  2.815471  0.689118   \n",
              "1997         -0.869148 -0.600280  0.105814  0.553810 -0.839182 -0.706434   \n",
              "1998         -0.854251 -0.804227  1.347275 -0.748155 -0.408385 -0.909165   \n",
              "1999          0.929528  0.922116  1.074849  0.431512  0.040441 -0.361733   \n",
              "\n",
              "feature                                             ...   tonnetz            \\\n",
              "statistics                                          ...       std             \n",
              "number            07        08        09        10  ...        04        05   \n",
              "Id                                                  ...                       \n",
              "0           3.041094  2.815378  3.954026  2.365586  ...  0.052970  0.013487   \n",
              "1          -0.314710 -0.368706 -0.437181 -0.441662  ...  0.093105  0.022865   \n",
              "2           0.772464  0.807625  1.942534  1.938970  ...  0.081955  0.017371   \n",
              "3          -0.501279 -0.855886 -0.556825  7.404243  ...  0.098877  0.019089   \n",
              "4          -0.708101 -0.642351 -0.327327 -0.342220  ...  0.102545  0.023823   \n",
              "...              ...       ...       ...       ...  ...       ...       ...   \n",
              "1995       -0.367279 -1.135291 -1.174082 -0.609749  ...  0.060857  0.022777   \n",
              "1996        4.040531  2.749969  2.658481  4.763800  ...  0.050589  0.015169   \n",
              "1997       -0.360566  0.053638 -0.791513 -0.669329  ...  0.079556  0.025229   \n",
              "1998       -0.870467 -0.077660 -0.538250 -0.108390  ...  0.147899  0.023989   \n",
              "1999        0.371801  0.470401 -0.566806  0.082485  ...  0.119940  0.023605   \n",
              "\n",
              "feature                     zcr                                          \\\n",
              "statistics             kurtosis       max      mean    median       min   \n",
              "number            06         01        01        01        01        01   \n",
              "Id                                                                        \n",
              "0           0.022031  70.844788  0.671387  0.035129  0.026367  0.010254   \n",
              "1           0.028800  18.427612  0.538574  0.055975  0.039062  0.000000   \n",
              "2           0.016673  38.401405  0.405762  0.030685  0.028809  0.002930   \n",
              "3           0.016183   4.129582  0.252441  0.037955  0.024902  0.000000   \n",
              "4           0.025166  16.758356  0.380371  0.027851  0.019043  0.000000   \n",
              "...              ...        ...       ...       ...       ...       ...   \n",
              "1995        0.017722   8.467750  0.444824  0.055770  0.039062  0.001465   \n",
              "1996        0.013096  -0.649581  0.357422  0.126850  0.120117  0.000000   \n",
              "1997        0.026858   1.563682  0.152344  0.039138  0.035156  0.002441   \n",
              "1998        0.027429  22.050222  0.319824  0.032715  0.028809  0.000000   \n",
              "1999        0.024036   2.444547  0.256836  0.047209  0.041016  0.002441   \n",
              "\n",
              "feature                         \n",
              "statistics      skew       std  \n",
              "number            01        01  \n",
              "Id                              \n",
              "0           8.394708  0.067026  \n",
              "1           3.638194  0.053879  \n",
              "2           2.620369  0.016835  \n",
              "3           1.898847  0.034382  \n",
              "4           3.244483  0.027128  \n",
              "...              ...       ...  \n",
              "1995        2.520271  0.056601  \n",
              "1996        0.234551  0.055476  \n",
              "1997        1.084503  0.020284  \n",
              "1998        3.429668  0.022654  \n",
              "1999        1.266626  0.030202  \n",
              "\n",
              "[2000 rows x 518 columns]"
            ]
          },
          "execution_count": 23,
          "metadata": {},
          "output_type": "execute_result"
        }
      ],
      "source": [
        "# X_test is the array of test inputs, of the same format as X_train. The objective is to predict the class (Electronic, Experimental, Folk, Hip-Hop, Instrumental, International, Pop or Rock) of the output\n",
        "X_test"
      ]
    },
    {
      "cell_type": "markdown",
      "id": "88af44d8",
      "metadata": {},
      "source": [
        "# EDA"
      ]
    },
    {
      "cell_type": "markdown",
      "id": "e7032008",
      "metadata": {},
      "source": [
        "## Feature selection"
      ]
    },
    {
      "cell_type": "markdown",
      "id": "xDDhjqWqq49H",
      "metadata": {
        "id": "xDDhjqWqq49H"
      },
      "source": [
        "## Neural Network"
      ]
    },
    {
      "cell_type": "code",
      "execution_count": 5,
      "id": "GGJA5PV9twjw",
      "metadata": {
        "id": "GGJA5PV9twjw"
      },
      "outputs": [
        {
          "name": "stderr",
          "output_type": "stream",
          "text": [
            "/opt/anaconda3/lib/python3.9/site-packages/sklearn/preprocessing/_label.py:115: DataConversionWarning: A column-vector y was passed when a 1d array was expected. Please change the shape of y to (n_samples, ), for example using ravel().\n",
            "  y = column_or_1d(y, warn=True)\n"
          ]
        }
      ],
      "source": [
        "from sklearn.preprocessing import LabelEncoder\n",
        "\n",
        "# Initialize the LabelEncoder\n",
        "label_encoder = LabelEncoder()\n",
        "\n",
        "# Fit label encoder and return encoded labels\n",
        "y_train_encoded = label_encoder.fit_transform(y_train)\n",
        "\n",
        "# Now y_train_encoded contains integers representing the categories\n"
      ]
    },
    {
      "cell_type": "code",
      "execution_count": 6,
      "id": "wpkfucepqXdb",
      "metadata": {
        "id": "wpkfucepqXdb"
      },
      "outputs": [
        {
          "name": "stderr",
          "output_type": "stream",
          "text": [
            "/opt/anaconda3/lib/python3.9/site-packages/sklearn/utils/validation.py:1688: FutureWarning: Feature names only support names that are all strings. Got feature names with dtypes: ['tuple']. An error will be raised in 1.2.\n",
            "  warnings.warn(\n",
            "/opt/anaconda3/lib/python3.9/site-packages/sklearn/utils/validation.py:1688: FutureWarning: Feature names only support names that are all strings. Got feature names with dtypes: ['tuple']. An error will be raised in 1.2.\n",
            "  warnings.warn(\n"
          ]
        }
      ],
      "source": [
        "# Standardize the features\n",
        "scaler = StandardScaler()\n",
        "X_scaled = scaler.fit_transform(X_train)\n",
        "\n",
        "# Convert labels to one-hot encoding\n",
        "y_onehot = to_categorical(y_train_encoded)\n",
        "\n",
        "# Split the dataset into training and validation sets\n",
        "X_training, X_val, y_training, y_val = train_test_split(X_scaled, y_onehot , test_size=0.2, random_state=42)"
      ]
    },
    {
      "cell_type": "markdown",
      "id": "xViYw5X798VA",
      "metadata": {
        "id": "xViYw5X798VA"
      },
      "source": [
        "# Try a NN model first"
      ]
    },
    {
      "cell_type": "code",
      "execution_count": 26,
      "id": "K-0Nu4rMs4U0",
      "metadata": {
        "id": "K-0Nu4rMs4U0"
      },
      "outputs": [],
      "source": [
        "model = Sequential([\n",
        "    Dense(512, activation='relu', input_shape=(518,)),  # Adjust input_shape based on your feature count\n",
        "    Dropout(0.5),  # Helps prevent overfitting\n",
        "    Dense(256, activation='relu'),\n",
        "    Dropout(0.5),\n",
        "    Dense(256, activation='relu'),\n",
        "    Dropout(0.5),\n",
        "    Dense(256, activation='relu'),\n",
        "    Dropout(0.5),\n",
        "    Dense(128, activation='relu'),\n",
        "    Dense(8, activation='softmax')  # Output layer: one neuron per class, softmax for multi-class classification\n",
        "])\n"
      ]
    },
    {
      "cell_type": "code",
      "execution_count": 34,
      "id": "QiwQwMRBuL61",
      "metadata": {
        "id": "QiwQwMRBuL61"
      },
      "outputs": [],
      "source": [
        "model.compile(optimizer=Adam(learning_rate=0.001),\n",
        "              loss='categorical_crossentropy',  # Suitable for multi-class classification\n",
        "              metrics=['accuracy'])"
      ]
    },
    {
      "cell_type": "code",
      "execution_count": 35,
      "id": "eapfZ3fJuRKp",
      "metadata": {
        "colab": {
          "base_uri": "https://localhost:8080/"
        },
        "id": "eapfZ3fJuRKp",
        "outputId": "2f353575-f5cd-4513-b3ae-86b08f7aba8d"
      },
      "outputs": [
        {
          "name": "stdout",
          "output_type": "stream",
          "text": [
            "Epoch 1/30\n",
            "75/75 [==============================] - 1s 11ms/step - loss: 2.1196 - accuracy: 0.1700 - val_loss: 1.8564 - val_accuracy: 0.2992\n",
            "Epoch 2/30\n",
            "75/75 [==============================] - 0s 6ms/step - loss: 1.8567 - accuracy: 0.2802 - val_loss: 1.6717 - val_accuracy: 0.4250\n",
            "Epoch 3/30\n",
            "75/75 [==============================] - 0s 6ms/step - loss: 1.7145 - accuracy: 0.3560 - val_loss: 1.5420 - val_accuracy: 0.4367\n",
            "Epoch 4/30\n",
            "75/75 [==============================] - 1s 7ms/step - loss: 1.5982 - accuracy: 0.4148 - val_loss: 1.4555 - val_accuracy: 0.5058\n",
            "Epoch 5/30\n",
            "75/75 [==============================] - 0s 6ms/step - loss: 1.5331 - accuracy: 0.4542 - val_loss: 1.4339 - val_accuracy: 0.5092\n",
            "Epoch 6/30\n",
            "75/75 [==============================] - 0s 6ms/step - loss: 1.4577 - accuracy: 0.4825 - val_loss: 1.4250 - val_accuracy: 0.5308\n",
            "Epoch 7/30\n",
            "75/75 [==============================] - 0s 6ms/step - loss: 1.4143 - accuracy: 0.4992 - val_loss: 1.3847 - val_accuracy: 0.5392\n",
            "Epoch 8/30\n",
            "75/75 [==============================] - 0s 6ms/step - loss: 1.3515 - accuracy: 0.5294 - val_loss: 1.3780 - val_accuracy: 0.5475\n",
            "Epoch 9/30\n",
            "75/75 [==============================] - 0s 6ms/step - loss: 1.3317 - accuracy: 0.5433 - val_loss: 1.3564 - val_accuracy: 0.5458\n",
            "Epoch 10/30\n",
            "75/75 [==============================] - 0s 6ms/step - loss: 1.2937 - accuracy: 0.5558 - val_loss: 1.3549 - val_accuracy: 0.5408\n",
            "Epoch 11/30\n",
            "75/75 [==============================] - 1s 7ms/step - loss: 1.2418 - accuracy: 0.5698 - val_loss: 1.3199 - val_accuracy: 0.5392\n",
            "Epoch 12/30\n",
            "75/75 [==============================] - 1s 7ms/step - loss: 1.2325 - accuracy: 0.5654 - val_loss: 1.3461 - val_accuracy: 0.5408\n",
            "Epoch 13/30\n",
            "75/75 [==============================] - 1s 8ms/step - loss: 1.2010 - accuracy: 0.5865 - val_loss: 1.2927 - val_accuracy: 0.5700\n",
            "Epoch 14/30\n",
            "75/75 [==============================] - 0s 6ms/step - loss: 1.1781 - accuracy: 0.5971 - val_loss: 1.3026 - val_accuracy: 0.5692\n",
            "Epoch 15/30\n",
            "75/75 [==============================] - 0s 6ms/step - loss: 1.1467 - accuracy: 0.6044 - val_loss: 1.2901 - val_accuracy: 0.5642\n",
            "Epoch 16/30\n",
            "75/75 [==============================] - 0s 6ms/step - loss: 1.1054 - accuracy: 0.6244 - val_loss: 1.2897 - val_accuracy: 0.5758\n",
            "Epoch 17/30\n",
            "75/75 [==============================] - 1s 6ms/step - loss: 1.0946 - accuracy: 0.6187 - val_loss: 1.2964 - val_accuracy: 0.5725\n",
            "Epoch 18/30\n",
            "75/75 [==============================] - 0s 6ms/step - loss: 1.0786 - accuracy: 0.6290 - val_loss: 1.2985 - val_accuracy: 0.5633\n",
            "Epoch 19/30\n",
            "75/75 [==============================] - 0s 6ms/step - loss: 1.0549 - accuracy: 0.6435 - val_loss: 1.2997 - val_accuracy: 0.5592\n",
            "Epoch 20/30\n",
            "75/75 [==============================] - 0s 6ms/step - loss: 1.0116 - accuracy: 0.6515 - val_loss: 1.2837 - val_accuracy: 0.5700\n",
            "Epoch 21/30\n",
            "75/75 [==============================] - 0s 6ms/step - loss: 1.0195 - accuracy: 0.6581 - val_loss: 1.2763 - val_accuracy: 0.5708\n",
            "Epoch 22/30\n",
            "75/75 [==============================] - 0s 6ms/step - loss: 0.9834 - accuracy: 0.6715 - val_loss: 1.2823 - val_accuracy: 0.5700\n",
            "Epoch 23/30\n",
            "75/75 [==============================] - 1s 7ms/step - loss: 0.9676 - accuracy: 0.6737 - val_loss: 1.2869 - val_accuracy: 0.5633\n",
            "Epoch 24/30\n",
            "75/75 [==============================] - 0s 6ms/step - loss: 0.9710 - accuracy: 0.6771 - val_loss: 1.2738 - val_accuracy: 0.5725\n",
            "Epoch 25/30\n",
            "75/75 [==============================] - 0s 6ms/step - loss: 0.9064 - accuracy: 0.7015 - val_loss: 1.2726 - val_accuracy: 0.5750\n",
            "Epoch 26/30\n",
            "75/75 [==============================] - 0s 6ms/step - loss: 0.9107 - accuracy: 0.7017 - val_loss: 1.2807 - val_accuracy: 0.5708\n",
            "Epoch 27/30\n",
            "75/75 [==============================] - 0s 6ms/step - loss: 0.8952 - accuracy: 0.7069 - val_loss: 1.2814 - val_accuracy: 0.5775\n",
            "Epoch 28/30\n",
            "75/75 [==============================] - 0s 7ms/step - loss: 0.8716 - accuracy: 0.7129 - val_loss: 1.2824 - val_accuracy: 0.5708\n",
            "Epoch 29/30\n",
            "75/75 [==============================] - 1s 7ms/step - loss: 0.8445 - accuracy: 0.7200 - val_loss: 1.2562 - val_accuracy: 0.5833\n",
            "Epoch 30/30\n",
            "75/75 [==============================] - 1s 8ms/step - loss: 0.8226 - accuracy: 0.7271 - val_loss: 1.2962 - val_accuracy: 0.5858\n"
          ]
        }
      ],
      "source": [
        "history = model.fit(X_training, y_training,\n",
        "                    validation_data=(X_val, y_val),\n",
        "                    epochs=30,\n",
        "                    batch_size=64)  # Tune based on your hardware capabilities\n"
      ]
    },
    {
      "cell_type": "code",
      "execution_count": 15,
      "id": "CQx75KCx1BfN",
      "metadata": {
        "colab": {
          "base_uri": "https://localhost:8080/"
        },
        "id": "CQx75KCx1BfN",
        "outputId": "db2d3a0f-2929-46a9-de71-b3c80e755a75"
      },
      "outputs": [
        {
          "name": "stdout",
          "output_type": "stream",
          "text": [
            "63/63 [==============================] - 0s 783us/step\n"
          ]
        }
      ],
      "source": [
        "# predict the y labels for X_test\n",
        "y_pred=model.predict(X_test)"
      ]
    },
    {
      "cell_type": "markdown",
      "id": "2Ub7Qb_HfvaK",
      "metadata": {
        "id": "2Ub7Qb_HfvaK"
      },
      "source": [
        "## NN tuning parameters"
      ]
    },
    {
      "cell_type": "code",
      "execution_count": 6,
      "id": "ovO2Ep5PfxqH",
      "metadata": {
        "id": "ovO2Ep5PfxqH"
      },
      "outputs": [],
      "source": [
        "from tensorflow.keras.layers import Input\n",
        "from tensorflow.keras.models import Model\n",
        "\n",
        "def create_model(n_layers=3, activation='relu',leanring_rate=0.01,dropout=0.5):\n",
        "    inputs = Input(shape=(518,))\n",
        "    x = inputs\n",
        "    for _ in range(n_layers):\n",
        "        x = Dense(256, activation=activation)(x)\n",
        "        x = Dropout(dropout)(x)\n",
        "    outputs = Dense(8, activation='softmax')(x)  # Assuming 8 classes\n",
        "    model = Model(inputs=inputs, outputs=outputs)\n",
        "    model.compile(optimizer=Adam(learning_rate=leanring_rate),\n",
        "                  loss='categorical_crossentropy',\n",
        "                  metrics=['accuracy'])\n",
        "    return model\n"
      ]
    },
    {
      "cell_type": "code",
      "execution_count": 7,
      "id": "vKYLHk5Jf6hI",
      "metadata": {
        "id": "vKYLHk5Jf6hI"
      },
      "outputs": [],
      "source": [
        "from sklearn.model_selection import KFold\n",
        "\n",
        "n_splits = 5  # For example, 5-fold cross-validation\n",
        "kf = KFold(n_splits=n_splits, shuffle=True, random_state=42)\n"
      ]
    },
    {
      "cell_type": "code",
      "execution_count": 9,
      "id": "5KG_Iixwv59j",
      "metadata": {
        "colab": {
          "base_uri": "https://localhost:8080/"
        },
        "id": "5KG_Iixwv59j",
        "outputId": "10113fac-e255-4d8e-87ae-b7a82ceb01a0"
      },
      "outputs": [
        {
          "name": "stdout",
          "output_type": "stream",
          "text": [
            "Requirement already satisfied: keras-tuner in /opt/anaconda3/lib/python3.9/site-packages (1.4.7)\n",
            "Requirement already satisfied: requests in /opt/anaconda3/lib/python3.9/site-packages (from keras-tuner) (2.27.1)\n",
            "Requirement already satisfied: kt-legacy in /opt/anaconda3/lib/python3.9/site-packages (from keras-tuner) (1.0.5)\n",
            "Requirement already satisfied: keras in /opt/anaconda3/lib/python3.9/site-packages (from keras-tuner) (2.10.0)\n",
            "Requirement already satisfied: packaging in /opt/anaconda3/lib/python3.9/site-packages (from keras-tuner) (21.3)\n",
            "Requirement already satisfied: pyparsing!=3.0.5,>=2.0.2 in /opt/anaconda3/lib/python3.9/site-packages (from packaging->keras-tuner) (3.0.4)\n",
            "Requirement already satisfied: idna<4,>=2.5 in /opt/anaconda3/lib/python3.9/site-packages (from requests->keras-tuner) (3.3)\n",
            "Requirement already satisfied: urllib3<1.27,>=1.21.1 in /opt/anaconda3/lib/python3.9/site-packages (from requests->keras-tuner) (1.26.9)\n",
            "Requirement already satisfied: charset-normalizer~=2.0.0 in /opt/anaconda3/lib/python3.9/site-packages (from requests->keras-tuner) (2.0.4)\n",
            "Requirement already satisfied: certifi>=2017.4.17 in /opt/anaconda3/lib/python3.9/site-packages (from requests->keras-tuner) (2021.10.8)\n"
          ]
        },
        {
          "name": "stderr",
          "output_type": "stream",
          "text": [
            "/var/folders/fd/1n6hj0r12rn08ydvlzmrgl9c0000gn/T/ipykernel_30003/722794956.py:2: DeprecationWarning: `import kerastuner` is deprecated, please use `import keras_tuner`.\n",
            "  from kerastuner import RandomSearch\n"
          ]
        }
      ],
      "source": [
        "!pip install -U keras-tuner\n",
        "from kerastuner import RandomSearch"
      ]
    },
    {
      "cell_type": "code",
      "execution_count": 11,
      "id": "wMPWSz3CgfRS",
      "metadata": {
        "colab": {
          "base_uri": "https://localhost:8080/"
        },
        "id": "wMPWSz3CgfRS",
        "outputId": "d5cbe997-3289-47ea-a18f-e043e16f76c3"
      },
      "outputs": [
        {
          "name": "stdout",
          "output_type": "stream",
          "text": [
            "Trial 5 Complete [00h 00m 09s]\n",
            "val_accuracy: 0.5975000262260437\n",
            "\n",
            "Best val_accuracy So Far: 0.5991666913032532\n",
            "Total elapsed time: 00h 01m 04s\n"
          ]
        }
      ],
      "source": [
        "def build_model(hp):\n",
        "    model = Sequential()\n",
        "    model.add(Dense(units=hp.Int('units', min_value=32, max_value=518, step=32),\n",
        "                    activation=hp.Choice('activation', values=['relu', 'softplus', 'tanh', 'sigmoid']),\n",
        "                    input_shape=(518,)))  # Ensure this matches your feature size\n",
        "    # Use hp.Choice to select the dropout rate\n",
        "    model.add(Dropout(rate=hp.Float('dropout_0', min_value=0.0, max_value=0.5, step=0.05)))\n",
        "\n",
        "    for i in range(hp.Int('layers', 1, 5)):\n",
        "        model.add(Dense(units=hp.Int(f'units_{i}', min_value=32, max_value=518, step=32),\n",
        "                        activation=hp.Choice(f'activation_{i}', values=['relu', 'softplus', 'tanh', 'sigmoid'])))\n",
        "        # Use hp.Choice for each layer's dropout rate\n",
        "        model.add(Dropout(rate=hp.Float(f'dropout_{i+1}',  min_value=0.0, max_value=0.5, step=0.05)))\n",
        "\n",
        "    model.add(Dense(8, activation='softmax'))  # Adjust the number of units based on your number of classes\n",
        "    model.compile(optimizer=\"adam\", loss='categorical_crossentropy', metrics=['accuracy'])\n",
        "    return model\n",
        "\n",
        "\n",
        "tuner = RandomSearch(\n",
        "    build_model,\n",
        "    objective='val_accuracy',\n",
        "    max_trials=5,  # Set smaller during experimentation\n",
        "    executions_per_trial=1,  # Increase for more robust results\n",
        "    directory='my_dir',\n",
        "    project_name='hparam_tuning'\n",
        ")\n",
        "\n",
        "tuner.search(X_training, y_training, epochs=20, validation_data=(X_val, y_val))  # Use a lower number of epochs for the search phase"
      ]
    },
    {
      "cell_type": "code",
      "execution_count": 12,
      "id": "rF2sNknjqnrL",
      "metadata": {
        "colab": {
          "base_uri": "https://localhost:8080/"
        },
        "id": "rF2sNknjqnrL",
        "outputId": "6b3220ae-70cd-4dc0-9e04-01e55ccd58a4"
      },
      "outputs": [
        {
          "name": "stdout",
          "output_type": "stream",
          "text": [
            "Model: \"sequential\"\n",
            "_________________________________________________________________\n",
            " Layer (type)                Output Shape              Param #   \n",
            "=================================================================\n",
            " dense (Dense)               (None, 224)               116256    \n",
            "                                                                 \n",
            " dropout (Dropout)           (None, 224)               0         \n",
            "                                                                 \n",
            " dense_1 (Dense)             (None, 512)               115200    \n",
            "                                                                 \n",
            " dropout_1 (Dropout)         (None, 512)               0         \n",
            "                                                                 \n",
            " dense_2 (Dense)             (None, 8)                 4104      \n",
            "                                                                 \n",
            "=================================================================\n",
            "Total params: 235,560\n",
            "Trainable params: 235,560\n",
            "Non-trainable params: 0\n",
            "_________________________________________________________________\n"
          ]
        }
      ],
      "source": [
        "# Get the best model\n",
        "best_model = tuner.get_best_models(num_models=1)[0]\n",
        "best_model.summary()"
      ]
    },
    {
      "cell_type": "code",
      "execution_count": 13,
      "id": "yrrlwJSROVUz",
      "metadata": {
        "id": "yrrlwJSROVUz"
      },
      "outputs": [],
      "source": [
        "# Save the best model to a file\n",
        "best_model.save('best_model.h5')"
      ]
    },
    {
      "cell_type": "code",
      "execution_count": 14,
      "id": "QA5nfAs7QCl_",
      "metadata": {
        "colab": {
          "base_uri": "https://localhost:8080/"
        },
        "id": "QA5nfAs7QCl_",
        "outputId": "39480442-9107-4f7e-be5c-334fc269fcad"
      },
      "outputs": [
        {
          "name": "stdout",
          "output_type": "stream",
          "text": [
            "Layer: dense, Activation Function: sigmoid\n",
            "Layer: dropout, No activation function\n",
            "Layer: dense_1, Activation Function: tanh\n",
            "Layer: dropout_1, No activation function\n",
            "Layer: dense_2, Activation Function: softmax\n"
          ]
        }
      ],
      "source": [
        "for layer in best_model.layers:\n",
        "    config = layer.get_config()  # Get the layer's configuration dict\n",
        "    # The 'activation' key in the config dict contains the activation function name\n",
        "    if 'activation' in config:\n",
        "        print(f\"Layer: {layer.name}, Activation Function: {config['activation']}\")\n",
        "    else:\n",
        "        print(f\"Layer: {layer.name}, No activation function\")\n"
      ]
    },
    {
      "cell_type": "code",
      "execution_count": 15,
      "id": "36e38e01",
      "metadata": {},
      "outputs": [
        {
          "name": "stdout",
          "output_type": "stream",
          "text": [
            "Layer Type: DENSE\n",
            "  - Units: 224\n",
            "  - Activation: sigmoid\n",
            "Layer Type: DROPOUT\n",
            "  - Rate: 0.45\n",
            "Layer Type: DENSE\n",
            "  - Units: 512\n",
            "  - Activation: tanh\n",
            "Layer Type: DROPOUT\n",
            "  - Rate: 0.15000000000000002\n",
            "Layer Type: DENSE\n",
            "  - Units: 8\n",
            "  - Activation: softmax\n"
          ]
        }
      ],
      "source": [
        "for layer in best_model.layers:\n",
        "    config = layer.get_config()  # Extract the layer configuration as a dictionary\n",
        "    layer_type = config['name'].split('_')[0]  # Get the type of layer (e.g., \"dense\", \"dropout\")\n",
        "    \n",
        "    # Print layer type and configuration\n",
        "    print(f\"Layer Type: {layer_type.upper()}\")\n",
        "    if layer_type == 'dense':\n",
        "        print(f\"  - Units: {config['units']}\")\n",
        "        print(f\"  - Activation: {config['activation']}\")\n",
        "    elif layer_type == 'dropout':\n",
        "        print(f\"  - Rate: {config['rate']}\")"
      ]
    },
    {
      "cell_type": "code",
      "execution_count": 16,
      "id": "7435a470",
      "metadata": {},
      "outputs": [
        {
          "name": "stdout",
          "output_type": "stream",
          "text": [
            "38/38 [==============================] - 0s 2ms/step - loss: 1.2719 - accuracy: 0.5992\n",
            "Test Accuracy: 0.5992\n"
          ]
        }
      ],
      "source": [
        "test_loss, test_acc = best_model.evaluate(X_val,y_val)\n",
        "print(f\"Test Accuracy: {test_acc:.4f}\")"
      ]
    },
    {
      "cell_type": "markdown",
      "id": "7e36f83a",
      "metadata": {},
      "source": [
        "## LDA with NN"
      ]
    },
    {
      "cell_type": "code",
      "execution_count": 17,
      "id": "145bb67d",
      "metadata": {},
      "outputs": [],
      "source": [
        "from sklearn.discriminant_analysis import LinearDiscriminantAnalysis as LDA\n",
        "from sklearn.model_selection import cross_val_score\n",
        "# Split the dataset into training and validation sets (using y_train_encoded since LDA does not use one-hot encoding)\n",
        "X_training_l, X_val_l, y_training_l, y_val_l = train_test_split(X_scaled, y_train_encoded, test_size=0.2, random_state=42)\n",
        "\n",
        "# Apply LDA for dimensionality reduction\n",
        "lda = LDA(n_components=None)  # n_components=None for using the maximum number of components less than the number of classes\n",
        "X_training_lda = lda.fit_transform(X_training_l, y_training_l)\n",
        "X_val_lda = lda.transform(X_val_l)\n",
        "\n",
        "# Assuming y_train_encoded is your original label-encoded target array\n",
        "y_training_l_onehot = to_categorical(y_training_l, num_classes=8)\n",
        "y_val_l_onehot = to_categorical(y_val_l, num_classes=8)\n",
        "\n"
      ]
    },
    {
      "cell_type": "code",
      "execution_count": 18,
      "id": "171d1f9c",
      "metadata": {},
      "outputs": [
        {
          "name": "stdout",
          "output_type": "stream",
          "text": [
            "Trial 10 Complete [00h 00m 10s]\n",
            "val_accuracy: 0.54666668176651\n",
            "\n",
            "Best val_accuracy So Far: 0.5616666674613953\n",
            "Total elapsed time: 00h 02m 03s\n"
          ]
        }
      ],
      "source": [
        "def build_model(hp):\n",
        "    model = Sequential()\n",
        "    # Dynamically set the input shape based on LDA's output\n",
        "    input_shape = (X_training_lda.shape[1],)  # Use the feature size from LDA transformation\n",
        "\n",
        "    model.add(Dense(units=hp.Int('units', min_value=32, max_value=518, step=32),\n",
        "                    activation=hp.Choice('activation', values=['relu', 'softplus', 'tanh', 'sigmoid']),\n",
        "                    input_shape=input_shape))  # Adjusted to the dynamic input shape\n",
        "\n",
        "    model.add(Dropout(rate=hp.Float('dropout_0', min_value=0.0, max_value=0.5, step=0.05)))\n",
        "\n",
        "    for i in range(hp.Int('layers', 1, 5)):\n",
        "        model.add(Dense(units=hp.Int(f'units_{i}', min_value=32, max_value=518, step=32),\n",
        "                        activation=hp.Choice(f'activation_{i}', values=['relu', 'softplus', 'tanh', 'sigmoid'])))\n",
        "        model.add(Dropout(rate=hp.Float(f'dropout_{i+1}',  min_value=0.0, max_value=0.5, step=0.05)))\n",
        "\n",
        "    model.add(Dense(8, activation='softmax'))  # Assuming 8 classes, adjust as necessary\n",
        "    model.compile(optimizer=\"adam\", loss='categorical_crossentropy', metrics=['accuracy'])\n",
        "    return model\n",
        "\n",
        "\n",
        "import shutil\n",
        "\n",
        "# Be careful with this operation to avoid deleting important data\n",
        "shutil.rmtree('my_dir/hparam_tuning')\n",
        "\n",
        "# Now, create a new tuner instance as before\n",
        "tuner1 = RandomSearch(\n",
        "    build_model,\n",
        "    objective='val_accuracy',\n",
        "    executions_per_trial=1,\n",
        "    directory='my_dir',\n",
        "    project_name='hparam_tuning'  # The same project name can be reused after deletion\n",
        ")\n",
        "\n",
        "\n",
        "\n",
        "tuner1.search(X_training_lda, y_training_l_onehot, epochs=20, validation_data=(X_val_lda, y_val_l_onehot))  # Use a lower number of epochs for the search phase"
      ]
    },
    {
      "cell_type": "code",
      "execution_count": 19,
      "id": "ba135888",
      "metadata": {},
      "outputs": [
        {
          "name": "stdout",
          "output_type": "stream",
          "text": [
            "Model: \"sequential\"\n",
            "_________________________________________________________________\n",
            " Layer (type)                Output Shape              Param #   \n",
            "=================================================================\n",
            " dense (Dense)               (None, 96)                768       \n",
            "                                                                 \n",
            " dropout (Dropout)           (None, 96)                0         \n",
            "                                                                 \n",
            " dense_1 (Dense)             (None, 224)               21728     \n",
            "                                                                 \n",
            " dropout_1 (Dropout)         (None, 224)               0         \n",
            "                                                                 \n",
            " dense_2 (Dense)             (None, 352)               79200     \n",
            "                                                                 \n",
            " dropout_2 (Dropout)         (None, 352)               0         \n",
            "                                                                 \n",
            " dense_3 (Dense)             (None, 32)                11296     \n",
            "                                                                 \n",
            " dropout_3 (Dropout)         (None, 32)                0         \n",
            "                                                                 \n",
            " dense_4 (Dense)             (None, 32)                1056      \n",
            "                                                                 \n",
            " dropout_4 (Dropout)         (None, 32)                0         \n",
            "                                                                 \n",
            " dense_5 (Dense)             (None, 32)                1056      \n",
            "                                                                 \n",
            " dropout_5 (Dropout)         (None, 32)                0         \n",
            "                                                                 \n",
            " dense_6 (Dense)             (None, 8)                 264       \n",
            "                                                                 \n",
            "=================================================================\n",
            "Total params: 115,368\n",
            "Trainable params: 115,368\n",
            "Non-trainable params: 0\n",
            "_________________________________________________________________\n"
          ]
        }
      ],
      "source": [
        "# Get the best model\n",
        "best_model_lda= tuner1.get_best_models(num_models=1)[0]\n",
        "best_model_lda.summary()"
      ]
    },
    {
      "cell_type": "code",
      "execution_count": 20,
      "id": "eaf21568",
      "metadata": {},
      "outputs": [
        {
          "name": "stdout",
          "output_type": "stream",
          "text": [
            "38/38 [==============================] - 0s 2ms/step - loss: 1.3809 - accuracy: 0.5617\n",
            "Test Accuracy: 0.5617\n"
          ]
        }
      ],
      "source": [
        "test_loss, test_acc = best_model_lda.evaluate(X_val_lda,y_val_l_onehot)\n",
        "print(f\"Test Accuracy: {test_acc:.4f}\")"
      ]
    },
    {
      "cell_type": "code",
      "execution_count": 54,
      "id": "e059d05d",
      "metadata": {},
      "outputs": [
        {
          "name": "stdout",
          "output_type": "stream",
          "text": [
            "LDA Classification Accuracy: 0.555\n"
          ]
        }
      ],
      "source": [
        "# Fit LDA as a classifier\n",
        "#lda_classifier = LDA()\n",
        "\n",
        "#scores = cross_val_score(lda, X_training_l, y_training_l, cv=5)\n",
        "#lda_classifier.fit(X_training_l, y_training_l)\n",
        "#lda.fit(X_training_l, y_training_l)\n",
        "\n",
        "# Make predictions on the validation set\n",
        "#y_pred = lda_classifier.predict(X_val_l)\n",
        "\n",
        "# Evaluate the classifier\n",
        "#from sklearn.metrics import accuracy_score#\n",
        "#print(\"LDA Classification Accuracy:\", accuracy_score(y_val_l, y_pred))"
      ]
    },
    {
      "cell_type": "code",
      "execution_count": 21,
      "id": "793fbe68",
      "metadata": {},
      "outputs": [
        {
          "name": "stdout",
          "output_type": "stream",
          "text": [
            "Layer Type: DENSE\n",
            "  - Units: 96\n",
            "  - Activation: softplus\n",
            "Layer Type: DROPOUT\n",
            "  - Rate: 0.1\n",
            "Layer Type: DENSE\n",
            "  - Units: 224\n",
            "  - Activation: tanh\n",
            "Layer Type: DROPOUT\n",
            "  - Rate: 0.45\n",
            "Layer Type: DENSE\n",
            "  - Units: 352\n",
            "  - Activation: softplus\n",
            "Layer Type: DROPOUT\n",
            "  - Rate: 0.35000000000000003\n",
            "Layer Type: DENSE\n",
            "  - Units: 32\n",
            "  - Activation: relu\n",
            "Layer Type: DROPOUT\n",
            "  - Rate: 0.0\n",
            "Layer Type: DENSE\n",
            "  - Units: 32\n",
            "  - Activation: relu\n",
            "Layer Type: DROPOUT\n",
            "  - Rate: 0.0\n",
            "Layer Type: DENSE\n",
            "  - Units: 32\n",
            "  - Activation: relu\n",
            "Layer Type: DROPOUT\n",
            "  - Rate: 0.0\n",
            "Layer Type: DENSE\n",
            "  - Units: 8\n",
            "  - Activation: softmax\n"
          ]
        }
      ],
      "source": [
        "for layer in best_model_lda.layers:\n",
        "    config = layer.get_config()  # Extract the layer configuration as a dictionary\n",
        "    layer_type = config['name'].split('_')[0]  # Get the type of layer (e.g., \"dense\", \"dropout\")\n",
        "    \n",
        "    # Print layer type and configuration\n",
        "    print(f\"Layer Type: {layer_type.upper()}\")\n",
        "    if layer_type == 'dense':\n",
        "        print(f\"  - Units: {config['units']}\")\n",
        "        print(f\"  - Activation: {config['activation']}\")\n",
        "    elif layer_type == 'dropout':\n",
        "        print(f\"  - Rate: {config['rate']}\")"
      ]
    },
    {
      "cell_type": "markdown",
      "id": "13081026",
      "metadata": {},
      "source": [
        "## PCA with NN"
      ]
    },
    {
      "cell_type": "code",
      "execution_count": 22,
      "id": "424459ea",
      "metadata": {},
      "outputs": [
        {
          "name": "stdout",
          "output_type": "stream",
          "text": [
            "Trial 10 Complete [00h 00m 08s]\n",
            "val_accuracy: 0.596666693687439\n",
            "\n",
            "Best val_accuracy So Far: 0.596666693687439\n",
            "Total elapsed time: 00h 02m 01s\n"
          ]
        }
      ],
      "source": [
        "from sklearn.decomposition import PCA\n",
        "# Apply PCA for dimensionality reduction\n",
        "pca = PCA(n_components=100)  # Select top 100 components\n",
        "X_training_pca = pca.fit_transform(X_training)\n",
        "X_val_pca = pca.transform(X_val)\n",
        "\n",
        "\n",
        "def build_model_pca(hp):\n",
        "    model = Sequential()\n",
        "    model.add(Dense(units=hp.Int('units', min_value=32, max_value=518, step=32),\n",
        "                    activation=hp.Choice('activation', values=['relu', 'softplus', 'tanh', 'sigmoid']),\n",
        "                    input_shape=(100,)))  # Adjusted to match PCA output\n",
        "    model.add(Dropout(rate=hp.Float('dropout_0', min_value=0.0, max_value=0.5, step=0.05)))\n",
        "\n",
        "    for i in range(hp.Int('layers', 1, 5)):\n",
        "        model.add(Dense(units=hp.Int(f'units_{i}', min_value=32, max_value=518, step=32),\n",
        "                        activation=hp.Choice(f'activation_{i}', values=['relu', 'softplus', 'tanh', 'sigmoid'])))\n",
        "        model.add(Dropout(rate=hp.Float(f'dropout_{i+1}',  min_value=0.0, max_value=0.5, step=0.05)))\n",
        "\n",
        "    model.add(Dense(8, activation='softmax'))  # Assuming 8 classes, adjust as necessary\n",
        "    model.compile(optimizer=\"adam\", loss='categorical_crossentropy', metrics=['accuracy'])\n",
        "    return model\n",
        "\n",
        "\n",
        "import shutil\n",
        "\n",
        "# Be careful with this operation to avoid deleting important data\n",
        "shutil.rmtree('my_dir/hparam_tuning')\n",
        "\n",
        "# Now, create a new tuner instance as before\n",
        "tuner2 = RandomSearch(\n",
        "    build_model_pca,\n",
        "    objective='val_accuracy',\n",
        "    executions_per_trial=1,\n",
        "    directory='my_dir',\n",
        "    project_name='hparam_tuning'  # The same project name can be reused after deletion\n",
        ")\n",
        "\n",
        "\n",
        "\n",
        "tuner2.search(X_training_pca, y_training, epochs=20, validation_data=(X_val_pca, y_val))    "
      ]
    },
    {
      "cell_type": "code",
      "execution_count": 23,
      "id": "141519db",
      "metadata": {},
      "outputs": [
        {
          "name": "stdout",
          "output_type": "stream",
          "text": [
            "Model: \"sequential\"\n",
            "_________________________________________________________________\n",
            " Layer (type)                Output Shape              Param #   \n",
            "=================================================================\n",
            " dense (Dense)               (None, 320)               32320     \n",
            "                                                                 \n",
            " dropout (Dropout)           (None, 320)               0         \n",
            "                                                                 \n",
            " dense_1 (Dense)             (None, 96)                30816     \n",
            "                                                                 \n",
            " dropout_1 (Dropout)         (None, 96)                0         \n",
            "                                                                 \n",
            " dense_2 (Dense)             (None, 8)                 776       \n",
            "                                                                 \n",
            "=================================================================\n",
            "Total params: 63,912\n",
            "Trainable params: 63,912\n",
            "Non-trainable params: 0\n",
            "_________________________________________________________________\n"
          ]
        }
      ],
      "source": [
        "# Get the best model\n",
        "best_model_pca = tuner2.get_best_models(num_models=1)[0]\n",
        "best_model_pca.summary()"
      ]
    },
    {
      "cell_type": "code",
      "execution_count": 24,
      "id": "17a4b59b",
      "metadata": {},
      "outputs": [
        {
          "name": "stdout",
          "output_type": "stream",
          "text": [
            "38/38 [==============================] - 0s 2ms/step - loss: 1.4217 - accuracy: 0.5967\n",
            "Test Accuracy: 0.5967\n"
          ]
        }
      ],
      "source": [
        "test_loss, test_acc = best_model_pca.evaluate(X_val_pca,y_val)\n",
        "print(f\"Test Accuracy: {test_acc:.4f}\")"
      ]
    },
    {
      "cell_type": "code",
      "execution_count": 33,
      "id": "07b5f7d8",
      "metadata": {},
      "outputs": [
        {
          "name": "stdout",
          "output_type": "stream",
          "text": [
            "Best trial ID: 09\n"
          ]
        }
      ],
      "source": [
        "best_trial = tuner2.oracle.get_best_trials(num_trials=1)[0]\n",
        "print(\"Best trial ID:\", best_trial.trial_id)"
      ]
    },
    {
      "cell_type": "code",
      "execution_count": 39,
      "id": "c6588a1c",
      "metadata": {},
      "outputs": [
        {
          "data": {
            "text/plain": [
              "0.596666693687439"
            ]
          },
          "execution_count": 39,
          "metadata": {},
          "output_type": "execute_result"
        }
      ],
      "source": [
        "#best_hps = tuner2.oracle.get_best_trials(num_trials=1)[0].hyperparameters.values\n",
        "best_hps = tuner2.get_best_hyperparameters(num_trials=1)[0]\n",
        "best_trial = tuner2.oracle.get_best_trials(num_trials=1)[0]\n",
        "performance_scores= tuner2.oracle.get_trial(best_trial.trial_id).score\n",
        "performance_scores\n"
      ]
    },
    {
      "cell_type": "markdown",
      "id": "04ce7de9",
      "metadata": {},
      "source": [
        "## Wrapper Method with NN (只是试一下 不能用)"
      ]
    },
    {
      "cell_type": "code",
      "execution_count": 25,
      "id": "15a0cf26",
      "metadata": {},
      "outputs": [],
      "source": [
        "def build_model_wrapper(hp, input_shape):\n",
        "    model = Sequential()\n",
        "    model.add(Dense(units=hp.Int('units', min_value=32, max_value=518, step=32),\n",
        "                    activation=hp.Choice('activation', values=['relu', 'softplus', 'tanh', 'sigmoid']),\n",
        "                    input_shape=input_shape))\n",
        "    model.add(Dropout(rate=hp.Float('dropout_0', min_value=0.0, max_value=0.5, step=0.05)))\n",
        "    for i in range(hp.Int('layers', 1, 5)):\n",
        "        model.add(Dense(units=hp.Int(f'units_{i}', min_value=32, max_value=518, step=32),\n",
        "                        activation=hp.Choice(f'activation_{i}', values=['relu', 'softplus', 'tanh', 'sigmoid'])))\n",
        "        model.add(Dropout(rate=hp.Float(f'dropout_{i+1}',  min_value=0.0, max_value=0.5, step=0.05)))\n",
        "    model.add(Dense(8, activation='softmax'))\n",
        "    model.compile(optimizer=\"adam\", loss='categorical_crossentropy', metrics=['accuracy'])\n",
        "    return model\n"
      ]
    },
    {
      "cell_type": "code",
      "execution_count": 45,
      "id": "2834e8c6",
      "metadata": {},
      "outputs": [
        {
          "name": "stdout",
          "output_type": "stream",
          "text": [
            "Trial 5 Complete [00h 00m 16s]\n",
            "val_accuracy: 0.590833306312561\n",
            "\n",
            "Best val_accuracy So Far: 0.5950000286102295\n",
            "Total elapsed time: 00h 01m 22s\n",
            "\n",
            "Search: Running Trial #1\n",
            "\n",
            "Value             |Best Value So Far |Hyperparameter\n",
            "256               |256               |units\n",
            "sigmoid           |sigmoid           |activation\n",
            "0.05              |0.05              |dropout_0\n",
            "5                 |5                 |layers\n",
            "96                |96                |units_0\n",
            "relu              |relu              |activation_0\n",
            "0.45              |0.45              |dropout_1\n",
            "\n",
            "Epoch 1/20\n",
            "150/150 [==============================] - 1s 5ms/step - loss: 1.8512 - accuracy: 0.2744 - val_loss: 1.6246 - val_accuracy: 0.3900\n",
            "Epoch 2/20\n",
            "150/150 [==============================] - 1s 3ms/step - loss: 1.5697 - accuracy: 0.4206 - val_loss: 1.4393 - val_accuracy: 0.4908\n",
            "Epoch 3/20\n",
            "150/150 [==============================] - 1s 4ms/step - loss: 1.4229 - accuracy: 0.4806 - val_loss: 1.3735 - val_accuracy: 0.5050\n",
            "Epoch 4/20\n",
            "150/150 [==============================] - 0s 3ms/step - loss: 1.3425 - accuracy: 0.5258 - val_loss: 1.3479 - val_accuracy: 0.5258\n",
            "Epoch 5/20\n",
            "150/150 [==============================] - 0s 3ms/step - loss: 1.2727 - accuracy: 0.5500 - val_loss: 1.3367 - val_accuracy: 0.5258\n",
            "Epoch 6/20\n",
            "150/150 [==============================] - 1s 4ms/step - loss: 1.2172 - accuracy: 0.5675 - val_loss: 1.2850 - val_accuracy: 0.5483\n",
            "Epoch 7/20\n",
            "150/150 [==============================] - 1s 3ms/step - loss: 1.1459 - accuracy: 0.5981 - val_loss: 1.2873 - val_accuracy: 0.5550\n",
            "Epoch 8/20\n",
            "150/150 [==============================] - 1s 3ms/step - loss: 1.1057 - accuracy: 0.6165 - val_loss: 1.2937 - val_accuracy: 0.5542\n",
            "Epoch 9/20\n",
            "150/150 [==============================] - 1s 4ms/step - loss: 1.0805 - accuracy: 0.6275 - val_loss: 1.3182 - val_accuracy: 0.5567\n",
            "Epoch 10/20\n",
            "150/150 [==============================] - 1s 3ms/step - loss: 1.0356 - accuracy: 0.6342 - val_loss: 1.2832 - val_accuracy: 0.5592\n",
            "Epoch 11/20\n",
            "150/150 [==============================] - 1s 5ms/step - loss: 0.9904 - accuracy: 0.6600 - val_loss: 1.3115 - val_accuracy: 0.5642\n",
            "Epoch 12/20\n",
            "150/150 [==============================] - 1s 4ms/step - loss: 0.9469 - accuracy: 0.6773 - val_loss: 1.3256 - val_accuracy: 0.5650\n",
            "Epoch 13/20\n",
            "150/150 [==============================] - 1s 4ms/step - loss: 0.9105 - accuracy: 0.6773 - val_loss: 1.3944 - val_accuracy: 0.5550\n",
            "Epoch 14/20\n",
            "150/150 [==============================] - 1s 4ms/step - loss: 0.8825 - accuracy: 0.6896 - val_loss: 1.3212 - val_accuracy: 0.5550\n",
            "Epoch 15/20\n",
            "150/150 [==============================] - 1s 5ms/step - loss: 0.8399 - accuracy: 0.7119 - val_loss: 1.3555 - val_accuracy: 0.5633\n",
            "Epoch 16/20\n",
            "150/150 [==============================] - 1s 4ms/step - loss: 0.8133 - accuracy: 0.7200 - val_loss: 1.3711 - val_accuracy: 0.5800\n",
            "Epoch 17/20\n",
            "150/150 [==============================] - 1s 4ms/step - loss: 0.7811 - accuracy: 0.7242 - val_loss: 1.3960 - val_accuracy: 0.5642\n",
            "Epoch 18/20\n",
            "150/150 [==============================] - 1s 3ms/step - loss: 0.7509 - accuracy: 0.7379 - val_loss: 1.4304 - val_accuracy: 0.5550\n",
            "Epoch 19/20\n",
            " 91/150 [=================>............] - ETA: 0s - loss: 0.7186 - accuracy: 0.7510"
          ]
        },
        {
          "ename": "KeyboardInterrupt",
          "evalue": "",
          "output_type": "error",
          "traceback": [
            "\u001b[0;31m---------------------------------------------------------------------------\u001b[0m",
            "\u001b[0;31mKeyboardInterrupt\u001b[0m                         Traceback (most recent call last)",
            "Input \u001b[0;32mIn [45]\u001b[0m, in \u001b[0;36m<cell line: 5>\u001b[0;34m()\u001b[0m\n\u001b[1;32m     10\u001b[0m \u001b[38;5;66;03m# Update your tuner or model-building function here to accommodate the new shape\u001b[39;00m\n\u001b[1;32m     11\u001b[0m tuner_w \u001b[38;5;241m=\u001b[39m RandomSearch(\n\u001b[1;32m     12\u001b[0m     \u001b[38;5;28;01mlambda\u001b[39;00m hp: build_model_wrapper(hp, input_shape\u001b[38;5;241m=\u001b[39m(X_train_reduced\u001b[38;5;241m.\u001b[39mshape[\u001b[38;5;241m1\u001b[39m],)),\n\u001b[1;32m     13\u001b[0m     objective\u001b[38;5;241m=\u001b[39m\u001b[38;5;124m'\u001b[39m\u001b[38;5;124mval_accuracy\u001b[39m\u001b[38;5;124m'\u001b[39m,\n\u001b[0;32m   (...)\u001b[0m\n\u001b[1;32m     17\u001b[0m     project_name\u001b[38;5;241m=\u001b[39m\u001b[38;5;124mf\u001b[39m\u001b[38;5;124m'\u001b[39m\u001b[38;5;124mhparam_tuning_feature_\u001b[39m\u001b[38;5;132;01m{\u001b[39;00mi\u001b[38;5;132;01m}\u001b[39;00m\u001b[38;5;124m'\u001b[39m\n\u001b[1;32m     18\u001b[0m )\n\u001b[0;32m---> 20\u001b[0m \u001b[43mtuner_w\u001b[49m\u001b[38;5;241;43m.\u001b[39;49m\u001b[43msearch\u001b[49m\u001b[43m(\u001b[49m\u001b[43mX_train_reduced\u001b[49m\u001b[43m,\u001b[49m\u001b[43m \u001b[49m\u001b[43my_training\u001b[49m\u001b[43m,\u001b[49m\u001b[43m \u001b[49m\u001b[43mepochs\u001b[49m\u001b[38;5;241;43m=\u001b[39;49m\u001b[38;5;241;43m20\u001b[39;49m\u001b[43m,\u001b[49m\u001b[43m \u001b[49m\u001b[43mvalidation_data\u001b[49m\u001b[38;5;241;43m=\u001b[39;49m\u001b[43m(\u001b[49m\u001b[43mX_val_reduced\u001b[49m\u001b[43m,\u001b[49m\u001b[43m \u001b[49m\u001b[43my_val\u001b[49m\u001b[43m)\u001b[49m\u001b[43m)\u001b[49m\n\u001b[1;32m     22\u001b[0m \u001b[38;5;66;03m# Store the best score obtained by omitting the i-th feature\u001b[39;00m\n\u001b[1;32m     23\u001b[0m best_hps \u001b[38;5;241m=\u001b[39m tuner_w\u001b[38;5;241m.\u001b[39mget_best_hyperparameters(num_trials\u001b[38;5;241m=\u001b[39m\u001b[38;5;241m1\u001b[39m)[\u001b[38;5;241m0\u001b[39m]\n",
            "File \u001b[0;32m/opt/anaconda3/lib/python3.9/site-packages/keras_tuner/src/engine/base_tuner.py:234\u001b[0m, in \u001b[0;36mBaseTuner.search\u001b[0;34m(self, *fit_args, **fit_kwargs)\u001b[0m\n\u001b[1;32m    231\u001b[0m         \u001b[38;5;28;01mcontinue\u001b[39;00m\n\u001b[1;32m    233\u001b[0m     \u001b[38;5;28mself\u001b[39m\u001b[38;5;241m.\u001b[39mon_trial_begin(trial)\n\u001b[0;32m--> 234\u001b[0m     \u001b[38;5;28;43mself\u001b[39;49m\u001b[38;5;241;43m.\u001b[39;49m\u001b[43m_try_run_and_update_trial\u001b[49m\u001b[43m(\u001b[49m\u001b[43mtrial\u001b[49m\u001b[43m,\u001b[49m\u001b[43m \u001b[49m\u001b[38;5;241;43m*\u001b[39;49m\u001b[43mfit_args\u001b[49m\u001b[43m,\u001b[49m\u001b[43m \u001b[49m\u001b[38;5;241;43m*\u001b[39;49m\u001b[38;5;241;43m*\u001b[39;49m\u001b[43mfit_kwargs\u001b[49m\u001b[43m)\u001b[49m\n\u001b[1;32m    235\u001b[0m     \u001b[38;5;28mself\u001b[39m\u001b[38;5;241m.\u001b[39mon_trial_end(trial)\n\u001b[1;32m    236\u001b[0m \u001b[38;5;28mself\u001b[39m\u001b[38;5;241m.\u001b[39mon_search_end()\n",
            "File \u001b[0;32m/opt/anaconda3/lib/python3.9/site-packages/keras_tuner/src/engine/base_tuner.py:274\u001b[0m, in \u001b[0;36mBaseTuner._try_run_and_update_trial\u001b[0;34m(self, trial, *fit_args, **fit_kwargs)\u001b[0m\n\u001b[1;32m    272\u001b[0m \u001b[38;5;28;01mdef\u001b[39;00m \u001b[38;5;21m_try_run_and_update_trial\u001b[39m(\u001b[38;5;28mself\u001b[39m, trial, \u001b[38;5;241m*\u001b[39mfit_args, \u001b[38;5;241m*\u001b[39m\u001b[38;5;241m*\u001b[39mfit_kwargs):\n\u001b[1;32m    273\u001b[0m     \u001b[38;5;28;01mtry\u001b[39;00m:\n\u001b[0;32m--> 274\u001b[0m         \u001b[38;5;28;43mself\u001b[39;49m\u001b[38;5;241;43m.\u001b[39;49m\u001b[43m_run_and_update_trial\u001b[49m\u001b[43m(\u001b[49m\u001b[43mtrial\u001b[49m\u001b[43m,\u001b[49m\u001b[43m \u001b[49m\u001b[38;5;241;43m*\u001b[39;49m\u001b[43mfit_args\u001b[49m\u001b[43m,\u001b[49m\u001b[43m \u001b[49m\u001b[38;5;241;43m*\u001b[39;49m\u001b[38;5;241;43m*\u001b[39;49m\u001b[43mfit_kwargs\u001b[49m\u001b[43m)\u001b[49m\n\u001b[1;32m    275\u001b[0m         trial\u001b[38;5;241m.\u001b[39mstatus \u001b[38;5;241m=\u001b[39m trial_module\u001b[38;5;241m.\u001b[39mTrialStatus\u001b[38;5;241m.\u001b[39mCOMPLETED\n\u001b[1;32m    276\u001b[0m         \u001b[38;5;28;01mreturn\u001b[39;00m\n",
            "File \u001b[0;32m/opt/anaconda3/lib/python3.9/site-packages/keras_tuner/src/engine/base_tuner.py:239\u001b[0m, in \u001b[0;36mBaseTuner._run_and_update_trial\u001b[0;34m(self, trial, *fit_args, **fit_kwargs)\u001b[0m\n\u001b[1;32m    238\u001b[0m \u001b[38;5;28;01mdef\u001b[39;00m \u001b[38;5;21m_run_and_update_trial\u001b[39m(\u001b[38;5;28mself\u001b[39m, trial, \u001b[38;5;241m*\u001b[39mfit_args, \u001b[38;5;241m*\u001b[39m\u001b[38;5;241m*\u001b[39mfit_kwargs):\n\u001b[0;32m--> 239\u001b[0m     results \u001b[38;5;241m=\u001b[39m \u001b[38;5;28;43mself\u001b[39;49m\u001b[38;5;241;43m.\u001b[39;49m\u001b[43mrun_trial\u001b[49m\u001b[43m(\u001b[49m\u001b[43mtrial\u001b[49m\u001b[43m,\u001b[49m\u001b[43m \u001b[49m\u001b[38;5;241;43m*\u001b[39;49m\u001b[43mfit_args\u001b[49m\u001b[43m,\u001b[49m\u001b[43m \u001b[49m\u001b[38;5;241;43m*\u001b[39;49m\u001b[38;5;241;43m*\u001b[39;49m\u001b[43mfit_kwargs\u001b[49m\u001b[43m)\u001b[49m\n\u001b[1;32m    240\u001b[0m     \u001b[38;5;28;01mif\u001b[39;00m \u001b[38;5;28mself\u001b[39m\u001b[38;5;241m.\u001b[39moracle\u001b[38;5;241m.\u001b[39mget_trial(trial\u001b[38;5;241m.\u001b[39mtrial_id)\u001b[38;5;241m.\u001b[39mmetrics\u001b[38;5;241m.\u001b[39mexists(\n\u001b[1;32m    241\u001b[0m         \u001b[38;5;28mself\u001b[39m\u001b[38;5;241m.\u001b[39moracle\u001b[38;5;241m.\u001b[39mobjective\u001b[38;5;241m.\u001b[39mname\n\u001b[1;32m    242\u001b[0m     ):\n\u001b[1;32m    243\u001b[0m         \u001b[38;5;66;03m# The oracle is updated by calling `self.oracle.update_trial()` in\u001b[39;00m\n\u001b[1;32m    244\u001b[0m         \u001b[38;5;66;03m# `Tuner.run_trial()`. For backward compatibility, we support this\u001b[39;00m\n\u001b[1;32m    245\u001b[0m         \u001b[38;5;66;03m# use case. No further action needed in this case.\u001b[39;00m\n\u001b[1;32m    246\u001b[0m         warnings\u001b[38;5;241m.\u001b[39mwarn(\n\u001b[1;32m    247\u001b[0m             \u001b[38;5;124m\"\u001b[39m\u001b[38;5;124mThe use case of calling \u001b[39m\u001b[38;5;124m\"\u001b[39m\n\u001b[1;32m    248\u001b[0m             \u001b[38;5;124m\"\u001b[39m\u001b[38;5;124m`self.oracle.update_trial(trial_id, metrics)` \u001b[39m\u001b[38;5;124m\"\u001b[39m\n\u001b[0;32m   (...)\u001b[0m\n\u001b[1;32m    254\u001b[0m             stacklevel\u001b[38;5;241m=\u001b[39m\u001b[38;5;241m2\u001b[39m,\n\u001b[1;32m    255\u001b[0m         )\n",
            "File \u001b[0;32m/opt/anaconda3/lib/python3.9/site-packages/keras_tuner/src/engine/tuner.py:314\u001b[0m, in \u001b[0;36mTuner.run_trial\u001b[0;34m(self, trial, *args, **kwargs)\u001b[0m\n\u001b[1;32m    312\u001b[0m     callbacks\u001b[38;5;241m.\u001b[39mappend(model_checkpoint)\n\u001b[1;32m    313\u001b[0m     copied_kwargs[\u001b[38;5;124m\"\u001b[39m\u001b[38;5;124mcallbacks\u001b[39m\u001b[38;5;124m\"\u001b[39m] \u001b[38;5;241m=\u001b[39m callbacks\n\u001b[0;32m--> 314\u001b[0m     obj_value \u001b[38;5;241m=\u001b[39m \u001b[38;5;28;43mself\u001b[39;49m\u001b[38;5;241;43m.\u001b[39;49m\u001b[43m_build_and_fit_model\u001b[49m\u001b[43m(\u001b[49m\u001b[43mtrial\u001b[49m\u001b[43m,\u001b[49m\u001b[43m \u001b[49m\u001b[38;5;241;43m*\u001b[39;49m\u001b[43margs\u001b[49m\u001b[43m,\u001b[49m\u001b[43m \u001b[49m\u001b[38;5;241;43m*\u001b[39;49m\u001b[38;5;241;43m*\u001b[39;49m\u001b[43mcopied_kwargs\u001b[49m\u001b[43m)\u001b[49m\n\u001b[1;32m    316\u001b[0m     histories\u001b[38;5;241m.\u001b[39mappend(obj_value)\n\u001b[1;32m    317\u001b[0m \u001b[38;5;28;01mreturn\u001b[39;00m histories\n",
            "File \u001b[0;32m/opt/anaconda3/lib/python3.9/site-packages/keras_tuner/src/engine/tuner.py:233\u001b[0m, in \u001b[0;36mTuner._build_and_fit_model\u001b[0;34m(self, trial, *args, **kwargs)\u001b[0m\n\u001b[1;32m    231\u001b[0m hp \u001b[38;5;241m=\u001b[39m trial\u001b[38;5;241m.\u001b[39mhyperparameters\n\u001b[1;32m    232\u001b[0m model \u001b[38;5;241m=\u001b[39m \u001b[38;5;28mself\u001b[39m\u001b[38;5;241m.\u001b[39m_try_build(hp)\n\u001b[0;32m--> 233\u001b[0m results \u001b[38;5;241m=\u001b[39m \u001b[38;5;28;43mself\u001b[39;49m\u001b[38;5;241;43m.\u001b[39;49m\u001b[43mhypermodel\u001b[49m\u001b[38;5;241;43m.\u001b[39;49m\u001b[43mfit\u001b[49m\u001b[43m(\u001b[49m\u001b[43mhp\u001b[49m\u001b[43m,\u001b[49m\u001b[43m \u001b[49m\u001b[43mmodel\u001b[49m\u001b[43m,\u001b[49m\u001b[43m \u001b[49m\u001b[38;5;241;43m*\u001b[39;49m\u001b[43margs\u001b[49m\u001b[43m,\u001b[49m\u001b[43m \u001b[49m\u001b[38;5;241;43m*\u001b[39;49m\u001b[38;5;241;43m*\u001b[39;49m\u001b[43mkwargs\u001b[49m\u001b[43m)\u001b[49m\n\u001b[1;32m    235\u001b[0m \u001b[38;5;66;03m# Save the build config for model loading later.\u001b[39;00m\n\u001b[1;32m    236\u001b[0m \u001b[38;5;28;01mif\u001b[39;00m backend\u001b[38;5;241m.\u001b[39mconfig\u001b[38;5;241m.\u001b[39mmulti_backend():\n",
            "File \u001b[0;32m/opt/anaconda3/lib/python3.9/site-packages/keras_tuner/src/engine/hypermodel.py:149\u001b[0m, in \u001b[0;36mHyperModel.fit\u001b[0;34m(self, hp, model, *args, **kwargs)\u001b[0m\n\u001b[1;32m    125\u001b[0m \u001b[38;5;28;01mdef\u001b[39;00m \u001b[38;5;21mfit\u001b[39m(\u001b[38;5;28mself\u001b[39m, hp, model, \u001b[38;5;241m*\u001b[39margs, \u001b[38;5;241m*\u001b[39m\u001b[38;5;241m*\u001b[39mkwargs):\n\u001b[1;32m    126\u001b[0m     \u001b[38;5;124;03m\"\"\"Train the model.\u001b[39;00m\n\u001b[1;32m    127\u001b[0m \n\u001b[1;32m    128\u001b[0m \u001b[38;5;124;03m    Args:\u001b[39;00m\n\u001b[0;32m   (...)\u001b[0m\n\u001b[1;32m    147\u001b[0m \u001b[38;5;124;03m        If return a float, it should be the `objective` value.\u001b[39;00m\n\u001b[1;32m    148\u001b[0m \u001b[38;5;124;03m    \"\"\"\u001b[39;00m\n\u001b[0;32m--> 149\u001b[0m     \u001b[38;5;28;01mreturn\u001b[39;00m \u001b[43mmodel\u001b[49m\u001b[38;5;241;43m.\u001b[39;49m\u001b[43mfit\u001b[49m\u001b[43m(\u001b[49m\u001b[38;5;241;43m*\u001b[39;49m\u001b[43margs\u001b[49m\u001b[43m,\u001b[49m\u001b[43m \u001b[49m\u001b[38;5;241;43m*\u001b[39;49m\u001b[38;5;241;43m*\u001b[39;49m\u001b[43mkwargs\u001b[49m\u001b[43m)\u001b[49m\n",
            "File \u001b[0;32m/opt/anaconda3/lib/python3.9/site-packages/keras/utils/traceback_utils.py:65\u001b[0m, in \u001b[0;36mfilter_traceback.<locals>.error_handler\u001b[0;34m(*args, **kwargs)\u001b[0m\n\u001b[1;32m     63\u001b[0m filtered_tb \u001b[38;5;241m=\u001b[39m \u001b[38;5;28;01mNone\u001b[39;00m\n\u001b[1;32m     64\u001b[0m \u001b[38;5;28;01mtry\u001b[39;00m:\n\u001b[0;32m---> 65\u001b[0m     \u001b[38;5;28;01mreturn\u001b[39;00m \u001b[43mfn\u001b[49m\u001b[43m(\u001b[49m\u001b[38;5;241;43m*\u001b[39;49m\u001b[43margs\u001b[49m\u001b[43m,\u001b[49m\u001b[43m \u001b[49m\u001b[38;5;241;43m*\u001b[39;49m\u001b[38;5;241;43m*\u001b[39;49m\u001b[43mkwargs\u001b[49m\u001b[43m)\u001b[49m\n\u001b[1;32m     66\u001b[0m \u001b[38;5;28;01mexcept\u001b[39;00m \u001b[38;5;167;01mException\u001b[39;00m \u001b[38;5;28;01mas\u001b[39;00m e:\n\u001b[1;32m     67\u001b[0m     filtered_tb \u001b[38;5;241m=\u001b[39m _process_traceback_frames(e\u001b[38;5;241m.\u001b[39m__traceback__)\n",
            "File \u001b[0;32m/opt/anaconda3/lib/python3.9/site-packages/keras/engine/training.py:1564\u001b[0m, in \u001b[0;36mModel.fit\u001b[0;34m(self, x, y, batch_size, epochs, verbose, callbacks, validation_split, validation_data, shuffle, class_weight, sample_weight, initial_epoch, steps_per_epoch, validation_steps, validation_batch_size, validation_freq, max_queue_size, workers, use_multiprocessing)\u001b[0m\n\u001b[1;32m   1556\u001b[0m \u001b[38;5;28;01mwith\u001b[39;00m tf\u001b[38;5;241m.\u001b[39mprofiler\u001b[38;5;241m.\u001b[39mexperimental\u001b[38;5;241m.\u001b[39mTrace(\n\u001b[1;32m   1557\u001b[0m     \u001b[38;5;124m\"\u001b[39m\u001b[38;5;124mtrain\u001b[39m\u001b[38;5;124m\"\u001b[39m,\n\u001b[1;32m   1558\u001b[0m     epoch_num\u001b[38;5;241m=\u001b[39mepoch,\n\u001b[0;32m   (...)\u001b[0m\n\u001b[1;32m   1561\u001b[0m     _r\u001b[38;5;241m=\u001b[39m\u001b[38;5;241m1\u001b[39m,\n\u001b[1;32m   1562\u001b[0m ):\n\u001b[1;32m   1563\u001b[0m     callbacks\u001b[38;5;241m.\u001b[39mon_train_batch_begin(step)\n\u001b[0;32m-> 1564\u001b[0m     tmp_logs \u001b[38;5;241m=\u001b[39m \u001b[38;5;28;43mself\u001b[39;49m\u001b[38;5;241;43m.\u001b[39;49m\u001b[43mtrain_function\u001b[49m\u001b[43m(\u001b[49m\u001b[43miterator\u001b[49m\u001b[43m)\u001b[49m\n\u001b[1;32m   1565\u001b[0m     \u001b[38;5;28;01mif\u001b[39;00m data_handler\u001b[38;5;241m.\u001b[39mshould_sync:\n\u001b[1;32m   1566\u001b[0m         context\u001b[38;5;241m.\u001b[39masync_wait()\n",
            "File \u001b[0;32m/opt/anaconda3/lib/python3.9/site-packages/tensorflow/python/util/traceback_utils.py:150\u001b[0m, in \u001b[0;36mfilter_traceback.<locals>.error_handler\u001b[0;34m(*args, **kwargs)\u001b[0m\n\u001b[1;32m    148\u001b[0m filtered_tb \u001b[38;5;241m=\u001b[39m \u001b[38;5;28;01mNone\u001b[39;00m\n\u001b[1;32m    149\u001b[0m \u001b[38;5;28;01mtry\u001b[39;00m:\n\u001b[0;32m--> 150\u001b[0m   \u001b[38;5;28;01mreturn\u001b[39;00m \u001b[43mfn\u001b[49m\u001b[43m(\u001b[49m\u001b[38;5;241;43m*\u001b[39;49m\u001b[43margs\u001b[49m\u001b[43m,\u001b[49m\u001b[43m \u001b[49m\u001b[38;5;241;43m*\u001b[39;49m\u001b[38;5;241;43m*\u001b[39;49m\u001b[43mkwargs\u001b[49m\u001b[43m)\u001b[49m\n\u001b[1;32m    151\u001b[0m \u001b[38;5;28;01mexcept\u001b[39;00m \u001b[38;5;167;01mException\u001b[39;00m \u001b[38;5;28;01mas\u001b[39;00m e:\n\u001b[1;32m    152\u001b[0m   filtered_tb \u001b[38;5;241m=\u001b[39m _process_traceback_frames(e\u001b[38;5;241m.\u001b[39m__traceback__)\n",
            "File \u001b[0;32m/opt/anaconda3/lib/python3.9/site-packages/tensorflow/python/eager/def_function.py:915\u001b[0m, in \u001b[0;36mFunction.__call__\u001b[0;34m(self, *args, **kwds)\u001b[0m\n\u001b[1;32m    912\u001b[0m compiler \u001b[38;5;241m=\u001b[39m \u001b[38;5;124m\"\u001b[39m\u001b[38;5;124mxla\u001b[39m\u001b[38;5;124m\"\u001b[39m \u001b[38;5;28;01mif\u001b[39;00m \u001b[38;5;28mself\u001b[39m\u001b[38;5;241m.\u001b[39m_jit_compile \u001b[38;5;28;01melse\u001b[39;00m \u001b[38;5;124m\"\u001b[39m\u001b[38;5;124mnonXla\u001b[39m\u001b[38;5;124m\"\u001b[39m\n\u001b[1;32m    914\u001b[0m \u001b[38;5;28;01mwith\u001b[39;00m OptionalXlaContext(\u001b[38;5;28mself\u001b[39m\u001b[38;5;241m.\u001b[39m_jit_compile):\n\u001b[0;32m--> 915\u001b[0m   result \u001b[38;5;241m=\u001b[39m \u001b[38;5;28;43mself\u001b[39;49m\u001b[38;5;241;43m.\u001b[39;49m\u001b[43m_call\u001b[49m\u001b[43m(\u001b[49m\u001b[38;5;241;43m*\u001b[39;49m\u001b[43margs\u001b[49m\u001b[43m,\u001b[49m\u001b[43m \u001b[49m\u001b[38;5;241;43m*\u001b[39;49m\u001b[38;5;241;43m*\u001b[39;49m\u001b[43mkwds\u001b[49m\u001b[43m)\u001b[49m\n\u001b[1;32m    917\u001b[0m new_tracing_count \u001b[38;5;241m=\u001b[39m \u001b[38;5;28mself\u001b[39m\u001b[38;5;241m.\u001b[39mexperimental_get_tracing_count()\n\u001b[1;32m    918\u001b[0m without_tracing \u001b[38;5;241m=\u001b[39m (tracing_count \u001b[38;5;241m==\u001b[39m new_tracing_count)\n",
            "File \u001b[0;32m/opt/anaconda3/lib/python3.9/site-packages/tensorflow/python/eager/def_function.py:947\u001b[0m, in \u001b[0;36mFunction._call\u001b[0;34m(self, *args, **kwds)\u001b[0m\n\u001b[1;32m    944\u001b[0m   \u001b[38;5;28mself\u001b[39m\u001b[38;5;241m.\u001b[39m_lock\u001b[38;5;241m.\u001b[39mrelease()\n\u001b[1;32m    945\u001b[0m   \u001b[38;5;66;03m# In this case we have created variables on the first call, so we run the\u001b[39;00m\n\u001b[1;32m    946\u001b[0m   \u001b[38;5;66;03m# defunned version which is guaranteed to never create variables.\u001b[39;00m\n\u001b[0;32m--> 947\u001b[0m   \u001b[38;5;28;01mreturn\u001b[39;00m \u001b[38;5;28;43mself\u001b[39;49m\u001b[38;5;241;43m.\u001b[39;49m\u001b[43m_stateless_fn\u001b[49m\u001b[43m(\u001b[49m\u001b[38;5;241;43m*\u001b[39;49m\u001b[43margs\u001b[49m\u001b[43m,\u001b[49m\u001b[43m \u001b[49m\u001b[38;5;241;43m*\u001b[39;49m\u001b[38;5;241;43m*\u001b[39;49m\u001b[43mkwds\u001b[49m\u001b[43m)\u001b[49m  \u001b[38;5;66;03m# pylint: disable=not-callable\u001b[39;00m\n\u001b[1;32m    948\u001b[0m \u001b[38;5;28;01melif\u001b[39;00m \u001b[38;5;28mself\u001b[39m\u001b[38;5;241m.\u001b[39m_stateful_fn \u001b[38;5;129;01mis\u001b[39;00m \u001b[38;5;129;01mnot\u001b[39;00m \u001b[38;5;28;01mNone\u001b[39;00m:\n\u001b[1;32m    949\u001b[0m   \u001b[38;5;66;03m# Release the lock early so that multiple threads can perform the call\u001b[39;00m\n\u001b[1;32m    950\u001b[0m   \u001b[38;5;66;03m# in parallel.\u001b[39;00m\n\u001b[1;32m    951\u001b[0m   \u001b[38;5;28mself\u001b[39m\u001b[38;5;241m.\u001b[39m_lock\u001b[38;5;241m.\u001b[39mrelease()\n",
            "File \u001b[0;32m/opt/anaconda3/lib/python3.9/site-packages/tensorflow/python/eager/function.py:2496\u001b[0m, in \u001b[0;36mFunction.__call__\u001b[0;34m(self, *args, **kwargs)\u001b[0m\n\u001b[1;32m   2493\u001b[0m \u001b[38;5;28;01mwith\u001b[39;00m \u001b[38;5;28mself\u001b[39m\u001b[38;5;241m.\u001b[39m_lock:\n\u001b[1;32m   2494\u001b[0m   (graph_function,\n\u001b[1;32m   2495\u001b[0m    filtered_flat_args) \u001b[38;5;241m=\u001b[39m \u001b[38;5;28mself\u001b[39m\u001b[38;5;241m.\u001b[39m_maybe_define_function(args, kwargs)\n\u001b[0;32m-> 2496\u001b[0m \u001b[38;5;28;01mreturn\u001b[39;00m \u001b[43mgraph_function\u001b[49m\u001b[38;5;241;43m.\u001b[39;49m\u001b[43m_call_flat\u001b[49m\u001b[43m(\u001b[49m\n\u001b[1;32m   2497\u001b[0m \u001b[43m    \u001b[49m\u001b[43mfiltered_flat_args\u001b[49m\u001b[43m,\u001b[49m\u001b[43m \u001b[49m\u001b[43mcaptured_inputs\u001b[49m\u001b[38;5;241;43m=\u001b[39;49m\u001b[43mgraph_function\u001b[49m\u001b[38;5;241;43m.\u001b[39;49m\u001b[43mcaptured_inputs\u001b[49m\u001b[43m)\u001b[49m\n",
            "File \u001b[0;32m/opt/anaconda3/lib/python3.9/site-packages/tensorflow/python/eager/function.py:1862\u001b[0m, in \u001b[0;36mConcreteFunction._call_flat\u001b[0;34m(self, args, captured_inputs, cancellation_manager)\u001b[0m\n\u001b[1;32m   1858\u001b[0m possible_gradient_type \u001b[38;5;241m=\u001b[39m gradients_util\u001b[38;5;241m.\u001b[39mPossibleTapeGradientTypes(args)\n\u001b[1;32m   1859\u001b[0m \u001b[38;5;28;01mif\u001b[39;00m (possible_gradient_type \u001b[38;5;241m==\u001b[39m gradients_util\u001b[38;5;241m.\u001b[39mPOSSIBLE_GRADIENT_TYPES_NONE\n\u001b[1;32m   1860\u001b[0m     \u001b[38;5;129;01mand\u001b[39;00m executing_eagerly):\n\u001b[1;32m   1861\u001b[0m   \u001b[38;5;66;03m# No tape is watching; skip to running the function.\u001b[39;00m\n\u001b[0;32m-> 1862\u001b[0m   \u001b[38;5;28;01mreturn\u001b[39;00m \u001b[38;5;28mself\u001b[39m\u001b[38;5;241m.\u001b[39m_build_call_outputs(\u001b[38;5;28;43mself\u001b[39;49m\u001b[38;5;241;43m.\u001b[39;49m\u001b[43m_inference_function\u001b[49m\u001b[38;5;241;43m.\u001b[39;49m\u001b[43mcall\u001b[49m\u001b[43m(\u001b[49m\n\u001b[1;32m   1863\u001b[0m \u001b[43m      \u001b[49m\u001b[43mctx\u001b[49m\u001b[43m,\u001b[49m\u001b[43m \u001b[49m\u001b[43margs\u001b[49m\u001b[43m,\u001b[49m\u001b[43m \u001b[49m\u001b[43mcancellation_manager\u001b[49m\u001b[38;5;241;43m=\u001b[39;49m\u001b[43mcancellation_manager\u001b[49m\u001b[43m)\u001b[49m)\n\u001b[1;32m   1864\u001b[0m forward_backward \u001b[38;5;241m=\u001b[39m \u001b[38;5;28mself\u001b[39m\u001b[38;5;241m.\u001b[39m_select_forward_and_backward_functions(\n\u001b[1;32m   1865\u001b[0m     args,\n\u001b[1;32m   1866\u001b[0m     possible_gradient_type,\n\u001b[1;32m   1867\u001b[0m     executing_eagerly)\n\u001b[1;32m   1868\u001b[0m forward_function, args_with_tangents \u001b[38;5;241m=\u001b[39m forward_backward\u001b[38;5;241m.\u001b[39mforward()\n",
            "File \u001b[0;32m/opt/anaconda3/lib/python3.9/site-packages/tensorflow/python/eager/function.py:499\u001b[0m, in \u001b[0;36m_EagerDefinedFunction.call\u001b[0;34m(self, ctx, args, cancellation_manager)\u001b[0m\n\u001b[1;32m    497\u001b[0m \u001b[38;5;28;01mwith\u001b[39;00m _InterpolateFunctionError(\u001b[38;5;28mself\u001b[39m):\n\u001b[1;32m    498\u001b[0m   \u001b[38;5;28;01mif\u001b[39;00m cancellation_manager \u001b[38;5;129;01mis\u001b[39;00m \u001b[38;5;28;01mNone\u001b[39;00m:\n\u001b[0;32m--> 499\u001b[0m     outputs \u001b[38;5;241m=\u001b[39m \u001b[43mexecute\u001b[49m\u001b[38;5;241;43m.\u001b[39;49m\u001b[43mexecute\u001b[49m\u001b[43m(\u001b[49m\n\u001b[1;32m    500\u001b[0m \u001b[43m        \u001b[49m\u001b[38;5;28;43mstr\u001b[39;49m\u001b[43m(\u001b[49m\u001b[38;5;28;43mself\u001b[39;49m\u001b[38;5;241;43m.\u001b[39;49m\u001b[43msignature\u001b[49m\u001b[38;5;241;43m.\u001b[39;49m\u001b[43mname\u001b[49m\u001b[43m)\u001b[49m\u001b[43m,\u001b[49m\n\u001b[1;32m    501\u001b[0m \u001b[43m        \u001b[49m\u001b[43mnum_outputs\u001b[49m\u001b[38;5;241;43m=\u001b[39;49m\u001b[38;5;28;43mself\u001b[39;49m\u001b[38;5;241;43m.\u001b[39;49m\u001b[43m_num_outputs\u001b[49m\u001b[43m,\u001b[49m\n\u001b[1;32m    502\u001b[0m \u001b[43m        \u001b[49m\u001b[43minputs\u001b[49m\u001b[38;5;241;43m=\u001b[39;49m\u001b[43margs\u001b[49m\u001b[43m,\u001b[49m\n\u001b[1;32m    503\u001b[0m \u001b[43m        \u001b[49m\u001b[43mattrs\u001b[49m\u001b[38;5;241;43m=\u001b[39;49m\u001b[43mattrs\u001b[49m\u001b[43m,\u001b[49m\n\u001b[1;32m    504\u001b[0m \u001b[43m        \u001b[49m\u001b[43mctx\u001b[49m\u001b[38;5;241;43m=\u001b[39;49m\u001b[43mctx\u001b[49m\u001b[43m)\u001b[49m\n\u001b[1;32m    505\u001b[0m   \u001b[38;5;28;01melse\u001b[39;00m:\n\u001b[1;32m    506\u001b[0m     outputs \u001b[38;5;241m=\u001b[39m execute\u001b[38;5;241m.\u001b[39mexecute_with_cancellation(\n\u001b[1;32m    507\u001b[0m         \u001b[38;5;28mstr\u001b[39m(\u001b[38;5;28mself\u001b[39m\u001b[38;5;241m.\u001b[39msignature\u001b[38;5;241m.\u001b[39mname),\n\u001b[1;32m    508\u001b[0m         num_outputs\u001b[38;5;241m=\u001b[39m\u001b[38;5;28mself\u001b[39m\u001b[38;5;241m.\u001b[39m_num_outputs,\n\u001b[0;32m   (...)\u001b[0m\n\u001b[1;32m    511\u001b[0m         ctx\u001b[38;5;241m=\u001b[39mctx,\n\u001b[1;32m    512\u001b[0m         cancellation_manager\u001b[38;5;241m=\u001b[39mcancellation_manager)\n",
            "File \u001b[0;32m/opt/anaconda3/lib/python3.9/site-packages/tensorflow/python/eager/execute.py:54\u001b[0m, in \u001b[0;36mquick_execute\u001b[0;34m(op_name, num_outputs, inputs, attrs, ctx, name)\u001b[0m\n\u001b[1;32m     52\u001b[0m \u001b[38;5;28;01mtry\u001b[39;00m:\n\u001b[1;32m     53\u001b[0m   ctx\u001b[38;5;241m.\u001b[39mensure_initialized()\n\u001b[0;32m---> 54\u001b[0m   tensors \u001b[38;5;241m=\u001b[39m \u001b[43mpywrap_tfe\u001b[49m\u001b[38;5;241;43m.\u001b[39;49m\u001b[43mTFE_Py_Execute\u001b[49m\u001b[43m(\u001b[49m\u001b[43mctx\u001b[49m\u001b[38;5;241;43m.\u001b[39;49m\u001b[43m_handle\u001b[49m\u001b[43m,\u001b[49m\u001b[43m \u001b[49m\u001b[43mdevice_name\u001b[49m\u001b[43m,\u001b[49m\u001b[43m \u001b[49m\u001b[43mop_name\u001b[49m\u001b[43m,\u001b[49m\n\u001b[1;32m     55\u001b[0m \u001b[43m                                      \u001b[49m\u001b[43minputs\u001b[49m\u001b[43m,\u001b[49m\u001b[43m \u001b[49m\u001b[43mattrs\u001b[49m\u001b[43m,\u001b[49m\u001b[43m \u001b[49m\u001b[43mnum_outputs\u001b[49m\u001b[43m)\u001b[49m\n\u001b[1;32m     56\u001b[0m \u001b[38;5;28;01mexcept\u001b[39;00m core\u001b[38;5;241m.\u001b[39m_NotOkStatusException \u001b[38;5;28;01mas\u001b[39;00m e:\n\u001b[1;32m     57\u001b[0m   \u001b[38;5;28;01mif\u001b[39;00m name \u001b[38;5;129;01mis\u001b[39;00m \u001b[38;5;129;01mnot\u001b[39;00m \u001b[38;5;28;01mNone\u001b[39;00m:\n",
            "\u001b[0;31mKeyboardInterrupt\u001b[0m: "
          ]
        }
      ],
      "source": [
        "# Assuming X_training, y_training, X_val, and y_val are available\n",
        "performance_scores = {}\n",
        "n_features = X_training.shape[1]\n",
        "\n",
        "for i in range(n_features):\n",
        "    # Create a new training set omitting the i-th feature\n",
        "    X_train_reduced = np.delete(X_training, i, axis=1)\n",
        "    X_val_reduced = np.delete(X_val, i, axis=1)\n",
        "    \n",
        "    # Update your tuner or model-building function here to accommodate the new shape\n",
        "    tuner_w = RandomSearch(\n",
        "        lambda hp: build_model_wrapper(hp, input_shape=(X_train_reduced.shape[1],)),\n",
        "        objective='val_accuracy',\n",
        "        max_trials=5,\n",
        "        executions_per_trial=1,\n",
        "        directory='my_dir',\n",
        "        project_name=f'hparam_tuning_feature_{i}'\n",
        "    )\n",
        "    \n",
        "    tuner_w.search(X_train_reduced, y_training, epochs=20, validation_data=(X_val_reduced, y_val))\n",
        "    \n",
        "    # Store the best score obtained by omitting the i-th feature\n",
        "    best_hps = tuner_w.get_best_hyperparameters(num_trials=1)[0]\n",
        "    best_trial = tuner_w.oracle.get_best_trials(num_trials=1)[0]\n",
        "    performance_scores[i]= tuner_w.oracle.get_trial(best_trial.trial_id).score  \n",
        "\n",
        "# Evaluate performance scores to determine feature importance\n"
      ]
    },
    {
      "cell_type": "code",
      "execution_count": 44,
      "id": "c3d09456",
      "metadata": {},
      "outputs": [
        {
          "data": {
            "text/plain": [
              "{1: 0.6066666841506958,\n",
              " 2: 0.5991666913032532,\n",
              " 3: 0.6016666889190674,\n",
              " 4: 0.6025000214576721,\n",
              " 5: 0.6058333516120911,\n",
              " 6: 0.6066666841506958,\n",
              " 7: 0.6050000190734863}"
            ]
          },
          "execution_count": 44,
          "metadata": {},
          "output_type": "execute_result"
        }
      ],
      "source": [
        "performance_scores"
      ]
    },
    {
      "cell_type": "code",
      "execution_count": null,
      "id": "ee54417a",
      "metadata": {},
      "outputs": [],
      "source": [
        "#from mlxtend.feature_selection import SequentialFeatureSelector as SFS\n",
        "#from sklearn.linear_model import LogisticRegression\n",
        "\n",
        "\n",
        "\n",
        "#sfs = SFS(LogisticRegression(), \n",
        "#          k_features=7,  # 'best' or an integer for a fixed number of features\n",
        " #         forward=True, \n",
        " #         floating=False, \n",
        " #         scoring='accuracy',\n",
        " #         cv=5)  # 5-fold cross-validation\n",
        "#\n",
        "#sfs = sfs.fit(X_training, y_training)\n",
        "\n",
        "# Now select the features from your training and validation set\n",
        "#X_training_selected = sfs.transform(X_training)\n",
        "#X_val_selected = sfs.transform(X_val)\n",
        "\n",
        "# Then you would use these selected features to define the input shape of your NN model\n",
        "#def build_nn_model(input_shape):\n",
        "##    model = Sequential()\n",
        "    # Define the model with the input shape as determined by the number of selected features\n",
        " #   model.add(Dense(units=64, activation='relu', input_shape=input_shape))\n",
        " #   # Add more layers as needed...\n",
        " #   model.add(Dense(8, activation='softmax'))  # For 8 classes\n",
        "  #  model.compile(optimizer=\"adam\", loss='categorical_crossentropy', metrics=['accuracy'])\n",
        " #   return model\n",
        "\n",
        "# Create the NN model using the selected features\n",
        "#nn_model = build_nn_model(input_shape=(X_training_selected.shape[1],))\n",
        "\n",
        "# Train the NN model on the selected features\n",
        "#nn_model.fit(X_training_selected, y_training, epochs=20, validation_data=(X_val_selected, y_val))\n"
      ]
    },
    {
      "cell_type": "markdown",
      "id": "2c5b6f37",
      "metadata": {
        "id": "2c5b6f37"
      },
      "source": [
        "## Classification with knn and prediction on the test set"
      ]
    },
    {
      "cell_type": "code",
      "execution_count": null,
      "id": "34ed761b",
      "metadata": {
        "colab": {
          "base_uri": "https://localhost:8080/"
        },
        "id": "34ed761b",
        "outputId": "2fff1918-37e2-4d8a-bdad-1ca4466b3386"
      },
      "outputs": [
        {
          "name": "stdout",
          "output_type": "stream",
          "text": [
            "Accuracy of 5-nn on the training set:  0.5468333333333333\n"
          ]
        }
      ],
      "source": [
        "# Example with a k-nearest neighbours classifier\n",
        "clf = KNeighborsClassifier(n_neighbors = 5)\n",
        "clf.fit(X_train, y_train)\n",
        "print('Accuracy of 5-nn on the training set: ', clf.score(X_train, y_train)) # evaluate the accuracy on the training set"
      ]
    },
    {
      "cell_type": "code",
      "execution_count": null,
      "id": "fc5ec2a7",
      "metadata": {
        "colab": {
          "base_uri": "https://localhost:8080/"
        },
        "id": "fc5ec2a7",
        "outputId": "83046c6d-d732-4a0f-864a-e1236ef8fc7a"
      },
      "outputs": [
        {
          "data": {
            "text/plain": [
              "array(['Folk', 'Hip-Hop', 'International', ..., 'Experimental', 'Pop',\n",
              "       'Folk'], dtype=object)"
            ]
          },
          "execution_count": 16,
          "metadata": {},
          "output_type": "execute_result"
        }
      ],
      "source": [
        "y_pred = clf.predict(X_test) # compute knn predictions on the test inputs\n",
        "y_pred"
      ]
    },
    {
      "cell_type": "markdown",
      "id": "d81c8fe7",
      "metadata": {
        "id": "d81c8fe7"
      },
      "source": [
        "## Export in csv format"
      ]
    },
    {
      "cell_type": "code",
      "execution_count": null,
      "id": "706f456c",
      "metadata": {
        "id": "706f456c"
      },
      "outputs": [],
      "source": [
        "# Export the predictions on the test data in csv format\n",
        "prediction = pd.DataFrame(y_pred, columns=['Genre'])\n",
        "prediction.index.name='Id'\n",
        "prediction.to_csv('myprediction.csv') # export to csv file\n",
        "\n",
        "# The csv file should be of the form\n",
        "#Id, Genre\n",
        "#0, Folk\n",
        "#1, Hip-Hop\n",
        "#2, International\n",
        "#...\n",
        "#1998, Experimental\n",
        "#1999, Pop"
      ]
    }
  ],
  "metadata": {
    "colab": {
      "provenance": []
    },
    "kernelspec": {
      "display_name": "Python 3 (ipykernel)",
      "language": "python",
      "name": "python3"
    },
    "language_info": {
      "codemirror_mode": {
        "name": "ipython",
        "version": 3
      },
      "file_extension": ".py",
      "mimetype": "text/x-python",
      "name": "python",
      "nbconvert_exporter": "python",
      "pygments_lexer": "ipython3",
      "version": "3.9.12"
    }
  },
  "nbformat": 4,
  "nbformat_minor": 5
}
