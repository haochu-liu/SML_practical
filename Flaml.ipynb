{
 "cells": [
  {
   "cell_type": "markdown",
   "id": "bb32710c",
   "metadata": {},
   "source": [
    "# FLAML to tune parameters\n",
    "MSc in Statistical Science\\\n",
    "University of Oxford\\\n",
    "Group-assessed practical\\\n",
    "HT 2024\n"
   ]
  },
  {
   "cell_type": "code",
   "execution_count": 1,
   "id": "7b5c7d92",
   "metadata": {},
   "outputs": [],
   "source": [
    "# Import libraries\n",
    "import pandas as pd\n",
    "import numpy as np\n",
    "from sklearn.model_selection import train_test_split,cross_val_score, GridSearchCV\n",
    "from sklearn.metrics import accuracy_score, zero_one_loss, make_scorer, classification_report\n",
    "from sklearn.preprocessing import StandardScaler, LabelEncoder\n",
    "from flaml import AutoML\n",
    "from flaml.ml import sklearn_metric_loss_score"
   ]
  },
  {
   "cell_type": "markdown",
   "id": "ff94689a",
   "metadata": {},
   "source": [
    "## Load dataset"
   ]
  },
  {
   "cell_type": "code",
   "execution_count": 2,
   "id": "ec509956",
   "metadata": {},
   "outputs": [],
   "source": [
    "# Load the training data and the test inputs\n",
    "X_train = pd.read_csv('X_train.csv', index_col = 0, header=[0, 1, 2]) # inputs of the training set\n",
    "y_train = pd.read_csv('y_train.csv', index_col=0).squeeze('columns').to_numpy() # outputs of the training set\n",
    "X_test = pd.read_csv('X_test.csv', index_col = 0, header=[0, 1, 2]) # inputs of the test set"
   ]
  },
  {
   "cell_type": "code",
   "execution_count": 8,
   "id": "135c1798",
   "metadata": {
    "scrolled": true
   },
   "outputs": [
    {
     "data": {
      "text/plain": [
       "array([[ 0.19681275,  0.6254612 ,  0.95287865, ..., -0.24135272,\n",
       "        -0.60184891,  0.01167708],\n",
       "       [ 0.2193385 , -0.01257184, -0.46847935, ...,  0.10675216,\n",
       "        -1.0064726 , -0.95444705],\n",
       "       [-0.26428755, -0.10758321, -0.20438099, ..., -0.58945759,\n",
       "        -0.36409566, -0.55043354],\n",
       "       ...,\n",
       "       [ 1.10534076,  0.19574237,  0.68858455, ..., -0.35738767,\n",
       "        -0.42491963,  0.3646974 ],\n",
       "       [-0.34973988, -0.41117318, -0.20465631, ...,  0.10675216,\n",
       "        -0.03484316,  0.38408757],\n",
       "       [ 1.52698566, -0.64418351, -0.80023496, ...,  0.10675216,\n",
       "        -0.47781726, -0.82483892]])"
      ]
     },
     "execution_count": 8,
     "metadata": {},
     "output_type": "execute_result"
    }
   ],
   "source": [
    "# X_train is a 6,000 * 518 dataframe. \n",
    "# Entries (i,j) correspond to the j'th dimension of the observation i\n",
    "X_train\n"
   ]
  },
  {
   "cell_type": "code",
   "execution_count": 4,
   "id": "5b5cdefe",
   "metadata": {},
   "outputs": [
    {
     "data": {
      "text/plain": [
       "array(['Electronic', 'Rock', 'Instrumental', ..., 'Pop', 'Instrumental',\n",
       "       'Instrumental'], dtype=object)"
      ]
     },
     "execution_count": 4,
     "metadata": {},
     "output_type": "execute_result"
    }
   ],
   "source": [
    "#y_train contains the true class:  Electronic, Experimental, Folk, Hip-Hop, Instrumental, International, Pop or Rock\n",
    "y_train"
   ]
  },
  {
   "cell_type": "code",
   "execution_count": 5,
   "id": "551a7367",
   "metadata": {},
   "outputs": [
    {
     "data": {
      "text/html": [
       "<div>\n",
       "<style scoped>\n",
       "    .dataframe tbody tr th:only-of-type {\n",
       "        vertical-align: middle;\n",
       "    }\n",
       "\n",
       "    .dataframe tbody tr th {\n",
       "        vertical-align: top;\n",
       "    }\n",
       "\n",
       "    .dataframe thead tr th {\n",
       "        text-align: left;\n",
       "    }\n",
       "\n",
       "    .dataframe thead tr:last-of-type th {\n",
       "        text-align: right;\n",
       "    }\n",
       "</style>\n",
       "<table border=\"1\" class=\"dataframe\">\n",
       "  <thead>\n",
       "    <tr>\n",
       "      <th>feature</th>\n",
       "      <th colspan=\"10\" halign=\"left\">chroma_cens</th>\n",
       "      <th>...</th>\n",
       "      <th colspan=\"3\" halign=\"left\">tonnetz</th>\n",
       "      <th colspan=\"7\" halign=\"left\">zcr</th>\n",
       "    </tr>\n",
       "    <tr>\n",
       "      <th>statistics</th>\n",
       "      <th colspan=\"10\" halign=\"left\">kurtosis</th>\n",
       "      <th>...</th>\n",
       "      <th colspan=\"3\" halign=\"left\">std</th>\n",
       "      <th>kurtosis</th>\n",
       "      <th>max</th>\n",
       "      <th>mean</th>\n",
       "      <th>median</th>\n",
       "      <th>min</th>\n",
       "      <th>skew</th>\n",
       "      <th>std</th>\n",
       "    </tr>\n",
       "    <tr>\n",
       "      <th>number</th>\n",
       "      <th>01</th>\n",
       "      <th>02</th>\n",
       "      <th>03</th>\n",
       "      <th>04</th>\n",
       "      <th>05</th>\n",
       "      <th>06</th>\n",
       "      <th>07</th>\n",
       "      <th>08</th>\n",
       "      <th>09</th>\n",
       "      <th>10</th>\n",
       "      <th>...</th>\n",
       "      <th>04</th>\n",
       "      <th>05</th>\n",
       "      <th>06</th>\n",
       "      <th>01</th>\n",
       "      <th>01</th>\n",
       "      <th>01</th>\n",
       "      <th>01</th>\n",
       "      <th>01</th>\n",
       "      <th>01</th>\n",
       "      <th>01</th>\n",
       "    </tr>\n",
       "    <tr>\n",
       "      <th>Id</th>\n",
       "      <th></th>\n",
       "      <th></th>\n",
       "      <th></th>\n",
       "      <th></th>\n",
       "      <th></th>\n",
       "      <th></th>\n",
       "      <th></th>\n",
       "      <th></th>\n",
       "      <th></th>\n",
       "      <th></th>\n",
       "      <th></th>\n",
       "      <th></th>\n",
       "      <th></th>\n",
       "      <th></th>\n",
       "      <th></th>\n",
       "      <th></th>\n",
       "      <th></th>\n",
       "      <th></th>\n",
       "      <th></th>\n",
       "      <th></th>\n",
       "      <th></th>\n",
       "    </tr>\n",
       "  </thead>\n",
       "  <tbody>\n",
       "    <tr>\n",
       "      <th>0</th>\n",
       "      <td>3.974762</td>\n",
       "      <td>4.354650</td>\n",
       "      <td>3.394523</td>\n",
       "      <td>0.033462</td>\n",
       "      <td>5.611623</td>\n",
       "      <td>2.592655</td>\n",
       "      <td>3.041094</td>\n",
       "      <td>2.815378</td>\n",
       "      <td>3.954026</td>\n",
       "      <td>2.365586</td>\n",
       "      <td>...</td>\n",
       "      <td>0.052970</td>\n",
       "      <td>0.013487</td>\n",
       "      <td>0.022031</td>\n",
       "      <td>70.844788</td>\n",
       "      <td>0.671387</td>\n",
       "      <td>0.035129</td>\n",
       "      <td>0.026367</td>\n",
       "      <td>0.010254</td>\n",
       "      <td>8.394708</td>\n",
       "      <td>0.067026</td>\n",
       "    </tr>\n",
       "    <tr>\n",
       "      <th>1</th>\n",
       "      <td>0.033636</td>\n",
       "      <td>-0.139950</td>\n",
       "      <td>0.678688</td>\n",
       "      <td>-0.553824</td>\n",
       "      <td>-0.165293</td>\n",
       "      <td>0.370275</td>\n",
       "      <td>-0.314710</td>\n",
       "      <td>-0.368706</td>\n",
       "      <td>-0.437181</td>\n",
       "      <td>-0.441662</td>\n",
       "      <td>...</td>\n",
       "      <td>0.093105</td>\n",
       "      <td>0.022865</td>\n",
       "      <td>0.028800</td>\n",
       "      <td>18.427612</td>\n",
       "      <td>0.538574</td>\n",
       "      <td>0.055975</td>\n",
       "      <td>0.039062</td>\n",
       "      <td>0.000000</td>\n",
       "      <td>3.638194</td>\n",
       "      <td>0.053879</td>\n",
       "    </tr>\n",
       "    <tr>\n",
       "      <th>2</th>\n",
       "      <td>0.044094</td>\n",
       "      <td>4.285359</td>\n",
       "      <td>0.977213</td>\n",
       "      <td>3.240997</td>\n",
       "      <td>0.400350</td>\n",
       "      <td>1.026224</td>\n",
       "      <td>0.772464</td>\n",
       "      <td>0.807625</td>\n",
       "      <td>1.942534</td>\n",
       "      <td>1.938970</td>\n",
       "      <td>...</td>\n",
       "      <td>0.081955</td>\n",
       "      <td>0.017371</td>\n",
       "      <td>0.016673</td>\n",
       "      <td>38.401405</td>\n",
       "      <td>0.405762</td>\n",
       "      <td>0.030685</td>\n",
       "      <td>0.028809</td>\n",
       "      <td>0.002930</td>\n",
       "      <td>2.620369</td>\n",
       "      <td>0.016835</td>\n",
       "    </tr>\n",
       "    <tr>\n",
       "      <th>3</th>\n",
       "      <td>-0.425218</td>\n",
       "      <td>0.793007</td>\n",
       "      <td>0.509624</td>\n",
       "      <td>-0.967103</td>\n",
       "      <td>-1.432252</td>\n",
       "      <td>-0.900761</td>\n",
       "      <td>-0.501279</td>\n",
       "      <td>-0.855886</td>\n",
       "      <td>-0.556825</td>\n",
       "      <td>7.404243</td>\n",
       "      <td>...</td>\n",
       "      <td>0.098877</td>\n",
       "      <td>0.019089</td>\n",
       "      <td>0.016183</td>\n",
       "      <td>4.129582</td>\n",
       "      <td>0.252441</td>\n",
       "      <td>0.037955</td>\n",
       "      <td>0.024902</td>\n",
       "      <td>0.000000</td>\n",
       "      <td>1.898847</td>\n",
       "      <td>0.034382</td>\n",
       "    </tr>\n",
       "    <tr>\n",
       "      <th>4</th>\n",
       "      <td>-1.120238</td>\n",
       "      <td>-0.503659</td>\n",
       "      <td>0.303515</td>\n",
       "      <td>-0.596549</td>\n",
       "      <td>-0.716761</td>\n",
       "      <td>-0.874363</td>\n",
       "      <td>-0.708101</td>\n",
       "      <td>-0.642351</td>\n",
       "      <td>-0.327327</td>\n",
       "      <td>-0.342220</td>\n",
       "      <td>...</td>\n",
       "      <td>0.102545</td>\n",
       "      <td>0.023823</td>\n",
       "      <td>0.025166</td>\n",
       "      <td>16.758356</td>\n",
       "      <td>0.380371</td>\n",
       "      <td>0.027851</td>\n",
       "      <td>0.019043</td>\n",
       "      <td>0.000000</td>\n",
       "      <td>3.244483</td>\n",
       "      <td>0.027128</td>\n",
       "    </tr>\n",
       "    <tr>\n",
       "      <th>...</th>\n",
       "      <td>...</td>\n",
       "      <td>...</td>\n",
       "      <td>...</td>\n",
       "      <td>...</td>\n",
       "      <td>...</td>\n",
       "      <td>...</td>\n",
       "      <td>...</td>\n",
       "      <td>...</td>\n",
       "      <td>...</td>\n",
       "      <td>...</td>\n",
       "      <td>...</td>\n",
       "      <td>...</td>\n",
       "      <td>...</td>\n",
       "      <td>...</td>\n",
       "      <td>...</td>\n",
       "      <td>...</td>\n",
       "      <td>...</td>\n",
       "      <td>...</td>\n",
       "      <td>...</td>\n",
       "      <td>...</td>\n",
       "      <td>...</td>\n",
       "    </tr>\n",
       "    <tr>\n",
       "      <th>1995</th>\n",
       "      <td>-0.166039</td>\n",
       "      <td>-0.660406</td>\n",
       "      <td>-0.955245</td>\n",
       "      <td>-0.689303</td>\n",
       "      <td>-0.916851</td>\n",
       "      <td>-0.136661</td>\n",
       "      <td>-0.367279</td>\n",
       "      <td>-1.135291</td>\n",
       "      <td>-1.174082</td>\n",
       "      <td>-0.609749</td>\n",
       "      <td>...</td>\n",
       "      <td>0.060857</td>\n",
       "      <td>0.022777</td>\n",
       "      <td>0.017722</td>\n",
       "      <td>8.467750</td>\n",
       "      <td>0.444824</td>\n",
       "      <td>0.055770</td>\n",
       "      <td>0.039062</td>\n",
       "      <td>0.001465</td>\n",
       "      <td>2.520271</td>\n",
       "      <td>0.056601</td>\n",
       "    </tr>\n",
       "    <tr>\n",
       "      <th>1996</th>\n",
       "      <td>2.010343</td>\n",
       "      <td>0.344572</td>\n",
       "      <td>2.738141</td>\n",
       "      <td>1.238262</td>\n",
       "      <td>2.815471</td>\n",
       "      <td>0.689118</td>\n",
       "      <td>4.040531</td>\n",
       "      <td>2.749969</td>\n",
       "      <td>2.658481</td>\n",
       "      <td>4.763800</td>\n",
       "      <td>...</td>\n",
       "      <td>0.050589</td>\n",
       "      <td>0.015169</td>\n",
       "      <td>0.013096</td>\n",
       "      <td>-0.649581</td>\n",
       "      <td>0.357422</td>\n",
       "      <td>0.126850</td>\n",
       "      <td>0.120117</td>\n",
       "      <td>0.000000</td>\n",
       "      <td>0.234551</td>\n",
       "      <td>0.055476</td>\n",
       "    </tr>\n",
       "    <tr>\n",
       "      <th>1997</th>\n",
       "      <td>-0.869148</td>\n",
       "      <td>-0.600280</td>\n",
       "      <td>0.105814</td>\n",
       "      <td>0.553810</td>\n",
       "      <td>-0.839182</td>\n",
       "      <td>-0.706434</td>\n",
       "      <td>-0.360566</td>\n",
       "      <td>0.053638</td>\n",
       "      <td>-0.791513</td>\n",
       "      <td>-0.669329</td>\n",
       "      <td>...</td>\n",
       "      <td>0.079556</td>\n",
       "      <td>0.025229</td>\n",
       "      <td>0.026858</td>\n",
       "      <td>1.563682</td>\n",
       "      <td>0.152344</td>\n",
       "      <td>0.039138</td>\n",
       "      <td>0.035156</td>\n",
       "      <td>0.002441</td>\n",
       "      <td>1.084503</td>\n",
       "      <td>0.020284</td>\n",
       "    </tr>\n",
       "    <tr>\n",
       "      <th>1998</th>\n",
       "      <td>-0.854251</td>\n",
       "      <td>-0.804227</td>\n",
       "      <td>1.347275</td>\n",
       "      <td>-0.748155</td>\n",
       "      <td>-0.408385</td>\n",
       "      <td>-0.909165</td>\n",
       "      <td>-0.870467</td>\n",
       "      <td>-0.077660</td>\n",
       "      <td>-0.538250</td>\n",
       "      <td>-0.108390</td>\n",
       "      <td>...</td>\n",
       "      <td>0.147899</td>\n",
       "      <td>0.023989</td>\n",
       "      <td>0.027429</td>\n",
       "      <td>22.050222</td>\n",
       "      <td>0.319824</td>\n",
       "      <td>0.032715</td>\n",
       "      <td>0.028809</td>\n",
       "      <td>0.000000</td>\n",
       "      <td>3.429668</td>\n",
       "      <td>0.022654</td>\n",
       "    </tr>\n",
       "    <tr>\n",
       "      <th>1999</th>\n",
       "      <td>0.929528</td>\n",
       "      <td>0.922116</td>\n",
       "      <td>1.074849</td>\n",
       "      <td>0.431512</td>\n",
       "      <td>0.040441</td>\n",
       "      <td>-0.361733</td>\n",
       "      <td>0.371801</td>\n",
       "      <td>0.470401</td>\n",
       "      <td>-0.566806</td>\n",
       "      <td>0.082485</td>\n",
       "      <td>...</td>\n",
       "      <td>0.119940</td>\n",
       "      <td>0.023605</td>\n",
       "      <td>0.024036</td>\n",
       "      <td>2.444547</td>\n",
       "      <td>0.256836</td>\n",
       "      <td>0.047209</td>\n",
       "      <td>0.041016</td>\n",
       "      <td>0.002441</td>\n",
       "      <td>1.266626</td>\n",
       "      <td>0.030202</td>\n",
       "    </tr>\n",
       "  </tbody>\n",
       "</table>\n",
       "<p>2000 rows × 518 columns</p>\n",
       "</div>"
      ],
      "text/plain": [
       "feature    chroma_cens                                                    \\\n",
       "statistics    kurtosis                                                     \n",
       "number              01        02        03        04        05        06   \n",
       "Id                                                                         \n",
       "0             3.974762  4.354650  3.394523  0.033462  5.611623  2.592655   \n",
       "1             0.033636 -0.139950  0.678688 -0.553824 -0.165293  0.370275   \n",
       "2             0.044094  4.285359  0.977213  3.240997  0.400350  1.026224   \n",
       "3            -0.425218  0.793007  0.509624 -0.967103 -1.432252 -0.900761   \n",
       "4            -1.120238 -0.503659  0.303515 -0.596549 -0.716761 -0.874363   \n",
       "...                ...       ...       ...       ...       ...       ...   \n",
       "1995         -0.166039 -0.660406 -0.955245 -0.689303 -0.916851 -0.136661   \n",
       "1996          2.010343  0.344572  2.738141  1.238262  2.815471  0.689118   \n",
       "1997         -0.869148 -0.600280  0.105814  0.553810 -0.839182 -0.706434   \n",
       "1998         -0.854251 -0.804227  1.347275 -0.748155 -0.408385 -0.909165   \n",
       "1999          0.929528  0.922116  1.074849  0.431512  0.040441 -0.361733   \n",
       "\n",
       "feature                                             ...   tonnetz            \\\n",
       "statistics                                          ...       std             \n",
       "number            07        08        09        10  ...        04        05   \n",
       "Id                                                  ...                       \n",
       "0           3.041094  2.815378  3.954026  2.365586  ...  0.052970  0.013487   \n",
       "1          -0.314710 -0.368706 -0.437181 -0.441662  ...  0.093105  0.022865   \n",
       "2           0.772464  0.807625  1.942534  1.938970  ...  0.081955  0.017371   \n",
       "3          -0.501279 -0.855886 -0.556825  7.404243  ...  0.098877  0.019089   \n",
       "4          -0.708101 -0.642351 -0.327327 -0.342220  ...  0.102545  0.023823   \n",
       "...              ...       ...       ...       ...  ...       ...       ...   \n",
       "1995       -0.367279 -1.135291 -1.174082 -0.609749  ...  0.060857  0.022777   \n",
       "1996        4.040531  2.749969  2.658481  4.763800  ...  0.050589  0.015169   \n",
       "1997       -0.360566  0.053638 -0.791513 -0.669329  ...  0.079556  0.025229   \n",
       "1998       -0.870467 -0.077660 -0.538250 -0.108390  ...  0.147899  0.023989   \n",
       "1999        0.371801  0.470401 -0.566806  0.082485  ...  0.119940  0.023605   \n",
       "\n",
       "feature                     zcr                                          \\\n",
       "statistics             kurtosis       max      mean    median       min   \n",
       "number            06         01        01        01        01        01   \n",
       "Id                                                                        \n",
       "0           0.022031  70.844788  0.671387  0.035129  0.026367  0.010254   \n",
       "1           0.028800  18.427612  0.538574  0.055975  0.039062  0.000000   \n",
       "2           0.016673  38.401405  0.405762  0.030685  0.028809  0.002930   \n",
       "3           0.016183   4.129582  0.252441  0.037955  0.024902  0.000000   \n",
       "4           0.025166  16.758356  0.380371  0.027851  0.019043  0.000000   \n",
       "...              ...        ...       ...       ...       ...       ...   \n",
       "1995        0.017722   8.467750  0.444824  0.055770  0.039062  0.001465   \n",
       "1996        0.013096  -0.649581  0.357422  0.126850  0.120117  0.000000   \n",
       "1997        0.026858   1.563682  0.152344  0.039138  0.035156  0.002441   \n",
       "1998        0.027429  22.050222  0.319824  0.032715  0.028809  0.000000   \n",
       "1999        0.024036   2.444547  0.256836  0.047209  0.041016  0.002441   \n",
       "\n",
       "feature                         \n",
       "statistics      skew       std  \n",
       "number            01        01  \n",
       "Id                              \n",
       "0           8.394708  0.067026  \n",
       "1           3.638194  0.053879  \n",
       "2           2.620369  0.016835  \n",
       "3           1.898847  0.034382  \n",
       "4           3.244483  0.027128  \n",
       "...              ...       ...  \n",
       "1995        2.520271  0.056601  \n",
       "1996        0.234551  0.055476  \n",
       "1997        1.084503  0.020284  \n",
       "1998        3.429668  0.022654  \n",
       "1999        1.266626  0.030202  \n",
       "\n",
       "[2000 rows x 518 columns]"
      ]
     },
     "execution_count": 5,
     "metadata": {},
     "output_type": "execute_result"
    }
   ],
   "source": [
    "# X_test is the array of test inputs, of the same format as X_train. The objective is to predict the class (Electronic, Experimental, Folk, Hip-Hop, Instrumental, International, Pop or Rock) of the output\n",
    "X_test"
   ]
  },
  {
   "cell_type": "code",
   "execution_count": 6,
   "id": "8c9633c5",
   "metadata": {},
   "outputs": [],
   "source": [
    "X = X_train\n",
    "y = y_train\n",
    "# Assuming you have X_train and y_train defined earlier\n",
    "\n",
    "# Split the data into training and validation sets\n",
    "X_train, X_val, y_train, y_val = train_test_split(X, y, test_size=0.2)\n",
    "\n",
    "# Scale the features using StandardScaler\n",
    "scalerx = StandardScaler()\n",
    "X_train = scalerx.fit_transform(X_train)\n",
    "X_val = scalerx.transform(X_val)\n",
    "\n",
    "# Assuming y is your target variable\n",
    "label_encoder = LabelEncoder()\n",
    "y_train = label_encoder.fit_transform(y_train)\n",
    "y_val = label_encoder.transform(y_val)"
   ]
  },
  {
   "cell_type": "markdown",
   "id": "2c5b6f37",
   "metadata": {},
   "source": [
    "## Classification with AutoML and prediction on the test set"
   ]
  },
  {
   "cell_type": "code",
   "execution_count": 7,
   "id": "7884d451",
   "metadata": {},
   "outputs": [
    {
     "name": "stdout",
     "output_type": "stream",
     "text": [
      "[flaml.automl.logger: 03-10 10:28:30] {1679} INFO - task = classification\n",
      "[flaml.automl.logger: 03-10 10:28:30] {1690} INFO - Evaluation method: holdout\n",
      "[flaml.automl.logger: 03-10 10:28:30] {1788} INFO - Minimizing error metric: 1-accuracy\n",
      "[flaml.automl.logger: 03-10 10:28:30] {1900} INFO - List of ML learners in AutoML Run: ['lgbm', 'rf', 'xgboost', 'extra_tree', 'xgb_limitdepth', 'lrl1']\n",
      "[flaml.automl.logger: 03-10 10:28:30] {2218} INFO - iteration 0, current learner lgbm\n",
      "[flaml.automl.logger: 03-10 10:28:31] {2344} INFO - Estimated sufficient time budget=3398s. Estimated necessary time budget=78s.\n",
      "[flaml.automl.logger: 03-10 10:28:31] {2391} INFO -  at 0.5s,\testimator lgbm's best error=0.5799,\tbest estimator lgbm's best error=0.5799\n",
      "[flaml.automl.logger: 03-10 10:28:31] {2218} INFO - iteration 1, current learner lgbm\n",
      "[flaml.automl.logger: 03-10 10:28:31] {2391} INFO -  at 0.8s,\testimator lgbm's best error=0.5799,\tbest estimator lgbm's best error=0.5799\n",
      "[flaml.automl.logger: 03-10 10:28:31] {2218} INFO - iteration 2, current learner lgbm\n",
      "[flaml.automl.logger: 03-10 10:28:31] {2391} INFO -  at 1.0s,\testimator lgbm's best error=0.5676,\tbest estimator lgbm's best error=0.5676\n",
      "[flaml.automl.logger: 03-10 10:28:31] {2218} INFO - iteration 3, current learner xgboost\n",
      "[flaml.automl.logger: 03-10 10:28:32] {2391} INFO -  at 1.5s,\testimator xgboost's best error=0.5881,\tbest estimator lgbm's best error=0.5676\n",
      "[flaml.automl.logger: 03-10 10:28:32] {2218} INFO - iteration 4, current learner lgbm\n",
      "[flaml.automl.logger: 03-10 10:28:32] {2391} INFO -  at 2.0s,\testimator lgbm's best error=0.5328,\tbest estimator lgbm's best error=0.5328\n",
      "[flaml.automl.logger: 03-10 10:28:32] {2218} INFO - iteration 5, current learner lgbm\n",
      "[flaml.automl.logger: 03-10 10:28:32] {2391} INFO -  at 2.3s,\testimator lgbm's best error=0.5328,\tbest estimator lgbm's best error=0.5328\n",
      "[flaml.automl.logger: 03-10 10:28:32] {2218} INFO - iteration 6, current learner lgbm\n",
      "[flaml.automl.logger: 03-10 10:28:33] {2391} INFO -  at 2.7s,\testimator lgbm's best error=0.5328,\tbest estimator lgbm's best error=0.5328\n",
      "[flaml.automl.logger: 03-10 10:28:33] {2218} INFO - iteration 7, current learner lgbm\n",
      "[flaml.automl.logger: 03-10 10:28:33] {2391} INFO -  at 3.3s,\testimator lgbm's best error=0.5246,\tbest estimator lgbm's best error=0.5246\n",
      "[flaml.automl.logger: 03-10 10:28:33] {2218} INFO - iteration 8, current learner lgbm\n",
      "[flaml.automl.logger: 03-10 10:28:34] {2391} INFO -  at 3.6s,\testimator lgbm's best error=0.5246,\tbest estimator lgbm's best error=0.5246\n",
      "[flaml.automl.logger: 03-10 10:28:34] {2218} INFO - iteration 9, current learner xgboost\n",
      "[flaml.automl.logger: 03-10 10:28:34] {2391} INFO -  at 4.0s,\testimator xgboost's best error=0.5881,\tbest estimator lgbm's best error=0.5246\n",
      "[flaml.automl.logger: 03-10 10:28:34] {2218} INFO - iteration 10, current learner xgboost\n",
      "[flaml.automl.logger: 03-10 10:28:35] {2391} INFO -  at 4.4s,\testimator xgboost's best error=0.5861,\tbest estimator lgbm's best error=0.5246\n",
      "[flaml.automl.logger: 03-10 10:28:35] {2218} INFO - iteration 11, current learner extra_tree\n",
      "[flaml.automl.logger: 03-10 10:28:35] {2391} INFO -  at 4.5s,\testimator extra_tree's best error=0.7111,\tbest estimator lgbm's best error=0.5246\n",
      "[flaml.automl.logger: 03-10 10:28:35] {2218} INFO - iteration 12, current learner extra_tree\n",
      "[flaml.automl.logger: 03-10 10:28:35] {2391} INFO -  at 4.6s,\testimator extra_tree's best error=0.6393,\tbest estimator lgbm's best error=0.5246\n",
      "[flaml.automl.logger: 03-10 10:28:35] {2218} INFO - iteration 13, current learner extra_tree\n",
      "[flaml.automl.logger: 03-10 10:28:35] {2391} INFO -  at 4.7s,\testimator extra_tree's best error=0.6393,\tbest estimator lgbm's best error=0.5246\n",
      "[flaml.automl.logger: 03-10 10:28:35] {2218} INFO - iteration 14, current learner extra_tree\n",
      "[flaml.automl.logger: 03-10 10:28:35] {2391} INFO -  at 4.8s,\testimator extra_tree's best error=0.6230,\tbest estimator lgbm's best error=0.5246\n",
      "[flaml.automl.logger: 03-10 10:28:35] {2218} INFO - iteration 15, current learner rf\n",
      "[flaml.automl.logger: 03-10 10:28:35] {2391} INFO -  at 5.1s,\testimator rf's best error=0.6721,\tbest estimator lgbm's best error=0.5246\n",
      "[flaml.automl.logger: 03-10 10:28:35] {2218} INFO - iteration 16, current learner rf\n",
      "[flaml.automl.logger: 03-10 10:28:35] {2391} INFO -  at 5.3s,\testimator rf's best error=0.6537,\tbest estimator lgbm's best error=0.5246\n",
      "[flaml.automl.logger: 03-10 10:28:35] {2218} INFO - iteration 17, current learner extra_tree\n",
      "[flaml.automl.logger: 03-10 10:28:35] {2391} INFO -  at 5.4s,\testimator extra_tree's best error=0.6230,\tbest estimator lgbm's best error=0.5246\n",
      "[flaml.automl.logger: 03-10 10:28:35] {2218} INFO - iteration 18, current learner lgbm\n",
      "[flaml.automl.logger: 03-10 10:28:37] {2391} INFO -  at 6.5s,\testimator lgbm's best error=0.4693,\tbest estimator lgbm's best error=0.4693\n",
      "[flaml.automl.logger: 03-10 10:28:37] {2218} INFO - iteration 19, current learner rf\n",
      "[flaml.automl.logger: 03-10 10:28:37] {2391} INFO -  at 6.7s,\testimator rf's best error=0.6537,\tbest estimator lgbm's best error=0.4693\n",
      "[flaml.automl.logger: 03-10 10:28:37] {2218} INFO - iteration 20, current learner lgbm\n",
      "[flaml.automl.logger: 03-10 10:28:38] {2391} INFO -  at 7.4s,\testimator lgbm's best error=0.4693,\tbest estimator lgbm's best error=0.4693\n",
      "[flaml.automl.logger: 03-10 10:28:38] {2218} INFO - iteration 21, current learner lgbm\n",
      "[flaml.automl.logger: 03-10 10:28:47] {2391} INFO -  at 16.4s,\testimator lgbm's best error=0.3996,\tbest estimator lgbm's best error=0.3996\n",
      "[flaml.automl.logger: 03-10 10:28:47] {2218} INFO - iteration 22, current learner lgbm\n",
      "[flaml.automl.logger: 03-10 10:29:00] {2391} INFO -  at 29.4s,\testimator lgbm's best error=0.3996,\tbest estimator lgbm's best error=0.3996\n",
      "[flaml.automl.logger: 03-10 10:29:00] {2218} INFO - iteration 23, current learner lgbm\n",
      "[flaml.automl.logger: 03-10 10:29:03] {2391} INFO -  at 32.9s,\testimator lgbm's best error=0.3996,\tbest estimator lgbm's best error=0.3996\n",
      "[flaml.automl.logger: 03-10 10:29:03] {2218} INFO - iteration 24, current learner extra_tree\n",
      "[flaml.automl.logger: 03-10 10:29:03] {2391} INFO -  at 33.0s,\testimator extra_tree's best error=0.6127,\tbest estimator lgbm's best error=0.3996\n",
      "[flaml.automl.logger: 03-10 10:29:03] {2218} INFO - iteration 25, current learner extra_tree\n",
      "[flaml.automl.logger: 03-10 10:29:03] {2391} INFO -  at 33.2s,\testimator extra_tree's best error=0.6127,\tbest estimator lgbm's best error=0.3996\n",
      "[flaml.automl.logger: 03-10 10:29:03] {2218} INFO - iteration 26, current learner rf\n",
      "[flaml.automl.logger: 03-10 10:29:04] {2391} INFO -  at 33.8s,\testimator rf's best error=0.6127,\tbest estimator lgbm's best error=0.3996\n",
      "[flaml.automl.logger: 03-10 10:29:04] {2218} INFO - iteration 27, current learner rf\n",
      "[flaml.automl.logger: 03-10 10:29:05] {2391} INFO -  at 34.5s,\testimator rf's best error=0.6127,\tbest estimator lgbm's best error=0.3996\n",
      "[flaml.automl.logger: 03-10 10:29:05] {2218} INFO - iteration 28, current learner extra_tree\n",
      "[flaml.automl.logger: 03-10 10:29:05] {2391} INFO -  at 34.7s,\testimator extra_tree's best error=0.5697,\tbest estimator lgbm's best error=0.3996\n",
      "[flaml.automl.logger: 03-10 10:29:05] {2218} INFO - iteration 29, current learner extra_tree\n",
      "[flaml.automl.logger: 03-10 10:29:05] {2391} INFO -  at 34.8s,\testimator extra_tree's best error=0.5697,\tbest estimator lgbm's best error=0.3996\n",
      "[flaml.automl.logger: 03-10 10:29:05] {2218} INFO - iteration 30, current learner lgbm\n",
      "[flaml.automl.logger: 03-10 10:29:09] {2391} INFO -  at 39.1s,\testimator lgbm's best error=0.3996,\tbest estimator lgbm's best error=0.3996\n",
      "[flaml.automl.logger: 03-10 10:29:09] {2218} INFO - iteration 31, current learner lgbm\n",
      "[flaml.automl.logger: 03-10 10:29:19] {2391} INFO -  at 48.5s,\testimator lgbm's best error=0.3996,\tbest estimator lgbm's best error=0.3996\n",
      "[flaml.automl.logger: 03-10 10:29:19] {2218} INFO - iteration 32, current learner rf\n",
      "[flaml.automl.logger: 03-10 10:29:19] {2391} INFO -  at 49.2s,\testimator rf's best error=0.6127,\tbest estimator lgbm's best error=0.3996\n",
      "[flaml.automl.logger: 03-10 10:29:19] {2218} INFO - iteration 33, current learner extra_tree\n",
      "[flaml.automl.logger: 03-10 10:29:19] {2391} INFO -  at 49.4s,\testimator extra_tree's best error=0.5697,\tbest estimator lgbm's best error=0.3996\n",
      "[flaml.automl.logger: 03-10 10:29:19] {2218} INFO - iteration 34, current learner lgbm\n",
      "[flaml.automl.logger: 03-10 10:29:38] {2391} INFO -  at 67.8s,\testimator lgbm's best error=0.3996,\tbest estimator lgbm's best error=0.3996\n",
      "[flaml.automl.logger: 03-10 10:29:38] {2218} INFO - iteration 35, current learner extra_tree\n",
      "[flaml.automl.logger: 03-10 10:29:38] {2391} INFO -  at 68.0s,\testimator extra_tree's best error=0.5410,\tbest estimator lgbm's best error=0.3996\n",
      "[flaml.automl.logger: 03-10 10:29:38] {2218} INFO - iteration 36, current learner extra_tree\n",
      "[flaml.automl.logger: 03-10 10:29:38] {2391} INFO -  at 68.2s,\testimator extra_tree's best error=0.5328,\tbest estimator lgbm's best error=0.3996\n",
      "[flaml.automl.logger: 03-10 10:29:38] {2218} INFO - iteration 37, current learner extra_tree\n",
      "[flaml.automl.logger: 03-10 10:29:39] {2391} INFO -  at 68.4s,\testimator extra_tree's best error=0.5225,\tbest estimator lgbm's best error=0.3996\n",
      "[flaml.automl.logger: 03-10 10:29:39] {2218} INFO - iteration 38, current learner extra_tree\n",
      "[flaml.automl.logger: 03-10 10:29:39] {2391} INFO -  at 68.6s,\testimator extra_tree's best error=0.5225,\tbest estimator lgbm's best error=0.3996\n",
      "[flaml.automl.logger: 03-10 10:29:39] {2218} INFO - iteration 39, current learner rf\n",
      "[flaml.automl.logger: 03-10 10:29:39] {2391} INFO -  at 68.8s,\testimator rf's best error=0.6127,\tbest estimator lgbm's best error=0.3996\n",
      "[flaml.automl.logger: 03-10 10:29:39] {2218} INFO - iteration 40, current learner extra_tree\n",
      "[flaml.automl.logger: 03-10 10:29:39] {2391} INFO -  at 69.1s,\testimator extra_tree's best error=0.5225,\tbest estimator lgbm's best error=0.3996\n",
      "[flaml.automl.logger: 03-10 10:29:39] {2218} INFO - iteration 41, current learner extra_tree\n",
      "[flaml.automl.logger: 03-10 10:29:39] {2391} INFO -  at 69.4s,\testimator extra_tree's best error=0.5061,\tbest estimator lgbm's best error=0.3996\n",
      "[flaml.automl.logger: 03-10 10:29:39] {2218} INFO - iteration 42, current learner lgbm\n",
      "[flaml.automl.logger: 03-10 10:29:42] {2391} INFO -  at 71.5s,\testimator lgbm's best error=0.3996,\tbest estimator lgbm's best error=0.3996\n",
      "[flaml.automl.logger: 03-10 10:29:42] {2218} INFO - iteration 43, current learner extra_tree\n",
      "[flaml.automl.logger: 03-10 10:29:42] {2391} INFO -  at 71.6s,\testimator extra_tree's best error=0.5061,\tbest estimator lgbm's best error=0.3996\n",
      "[flaml.automl.logger: 03-10 10:29:42] {2218} INFO - iteration 44, current learner extra_tree\n",
      "[flaml.automl.logger: 03-10 10:29:42] {2391} INFO -  at 71.8s,\testimator extra_tree's best error=0.5061,\tbest estimator lgbm's best error=0.3996\n",
      "[flaml.automl.logger: 03-10 10:29:42] {2218} INFO - iteration 45, current learner extra_tree\n",
      "[flaml.automl.logger: 03-10 10:29:42] {2391} INFO -  at 72.0s,\testimator extra_tree's best error=0.5041,\tbest estimator lgbm's best error=0.3996\n",
      "[flaml.automl.logger: 03-10 10:29:42] {2218} INFO - iteration 46, current learner xgb_limitdepth\n",
      "[flaml.automl.logger: 03-10 10:29:45] {2391} INFO -  at 75.1s,\testimator xgb_limitdepth's best error=0.4590,\tbest estimator lgbm's best error=0.3996\n",
      "[flaml.automl.logger: 03-10 10:29:45] {2218} INFO - iteration 47, current learner xgb_limitdepth\n",
      "[flaml.automl.logger: 03-10 10:29:48] {2391} INFO -  at 78.0s,\testimator xgb_limitdepth's best error=0.4590,\tbest estimator lgbm's best error=0.3996\n",
      "[flaml.automl.logger: 03-10 10:29:48] {2218} INFO - iteration 48, current learner xgb_limitdepth\n",
      "[flaml.automl.logger: 03-10 10:29:51] {2391} INFO -  at 81.1s,\testimator xgb_limitdepth's best error=0.4590,\tbest estimator lgbm's best error=0.3996\n",
      "[flaml.automl.logger: 03-10 10:29:51] {2218} INFO - iteration 49, current learner rf\n",
      "[flaml.automl.logger: 03-10 10:29:52] {2391} INFO -  at 81.6s,\testimator rf's best error=0.5738,\tbest estimator lgbm's best error=0.3996\n",
      "[flaml.automl.logger: 03-10 10:29:52] {2218} INFO - iteration 50, current learner xgb_limitdepth\n",
      "[flaml.automl.logger: 03-10 10:29:54] {2391} INFO -  at 83.6s,\testimator xgb_limitdepth's best error=0.4590,\tbest estimator lgbm's best error=0.3996\n",
      "[flaml.automl.logger: 03-10 10:29:54] {2218} INFO - iteration 51, current learner xgb_limitdepth\n",
      "[flaml.automl.logger: 03-10 10:29:59] {2391} INFO -  at 88.9s,\testimator xgb_limitdepth's best error=0.4590,\tbest estimator lgbm's best error=0.3996\n",
      "[flaml.automl.logger: 03-10 10:29:59] {2218} INFO - iteration 52, current learner rf\n",
      "[flaml.automl.logger: 03-10 10:29:59] {2391} INFO -  at 89.3s,\testimator rf's best error=0.5738,\tbest estimator lgbm's best error=0.3996\n",
      "[flaml.automl.logger: 03-10 10:29:59] {2218} INFO - iteration 53, current learner rf\n",
      "[flaml.automl.logger: 03-10 10:30:00] {2391} INFO -  at 89.8s,\testimator rf's best error=0.5738,\tbest estimator lgbm's best error=0.3996\n",
      "[flaml.automl.logger: 03-10 10:30:00] {2218} INFO - iteration 54, current learner rf\n",
      "[flaml.automl.logger: 03-10 10:30:01] {2391} INFO -  at 90.8s,\testimator rf's best error=0.5348,\tbest estimator lgbm's best error=0.3996\n",
      "[flaml.automl.logger: 03-10 10:30:01] {2218} INFO - iteration 55, current learner lgbm\n",
      "[flaml.automl.logger: 03-10 10:30:17] {2391} INFO -  at 107.2s,\testimator lgbm's best error=0.3996,\tbest estimator lgbm's best error=0.3996\n",
      "[flaml.automl.logger: 03-10 10:30:17] {2218} INFO - iteration 56, current learner xgb_limitdepth\n",
      "[flaml.automl.logger: 03-10 10:30:19] {2391} INFO -  at 108.6s,\testimator xgb_limitdepth's best error=0.4590,\tbest estimator lgbm's best error=0.3996\n",
      "[flaml.automl.logger: 03-10 10:30:19] {2218} INFO - iteration 57, current learner rf\n",
      "[flaml.automl.logger: 03-10 10:30:20] {2391} INFO -  at 109.4s,\testimator rf's best error=0.5348,\tbest estimator lgbm's best error=0.3996\n",
      "[flaml.automl.logger: 03-10 10:30:20] {2218} INFO - iteration 58, current learner rf\n",
      "[flaml.automl.logger: 03-10 10:30:22] {2391} INFO -  at 112.1s,\testimator rf's best error=0.5184,\tbest estimator lgbm's best error=0.3996\n",
      "[flaml.automl.logger: 03-10 10:30:22] {2218} INFO - iteration 59, current learner xgb_limitdepth\n",
      "[flaml.automl.logger: 03-10 10:30:30] {2391} INFO -  at 120.0s,\testimator xgb_limitdepth's best error=0.4590,\tbest estimator lgbm's best error=0.3996\n",
      "[flaml.automl.logger: 03-10 10:30:30] {2218} INFO - iteration 60, current learner lgbm\n",
      "[flaml.automl.logger: 03-10 10:30:33] {2391} INFO -  at 122.8s,\testimator lgbm's best error=0.3996,\tbest estimator lgbm's best error=0.3996\n",
      "[flaml.automl.logger: 03-10 10:30:33] {2218} INFO - iteration 61, current learner xgb_limitdepth\n",
      "[flaml.automl.logger: 03-10 10:30:39] {2391} INFO -  at 128.6s,\testimator xgb_limitdepth's best error=0.4590,\tbest estimator lgbm's best error=0.3996\n",
      "[flaml.automl.logger: 03-10 10:30:39] {2218} INFO - iteration 62, current learner lgbm\n",
      "[flaml.automl.logger: 03-10 10:30:44] {2391} INFO -  at 134.3s,\testimator lgbm's best error=0.3996,\tbest estimator lgbm's best error=0.3996\n",
      "[flaml.automl.logger: 03-10 10:30:44] {2218} INFO - iteration 63, current learner extra_tree\n",
      "[flaml.automl.logger: 03-10 10:30:45] {2391} INFO -  at 135.3s,\testimator extra_tree's best error=0.5041,\tbest estimator lgbm's best error=0.3996\n",
      "[flaml.automl.logger: 03-10 10:30:45] {2218} INFO - iteration 64, current learner xgb_limitdepth\n",
      "[flaml.automl.logger: 03-10 10:30:48] {2391} INFO -  at 138.2s,\testimator xgb_limitdepth's best error=0.4590,\tbest estimator lgbm's best error=0.3996\n",
      "[flaml.automl.logger: 03-10 10:30:48] {2218} INFO - iteration 65, current learner lgbm\n",
      "[flaml.automl.logger: 03-10 10:31:01] {2391} INFO -  at 151.3s,\testimator lgbm's best error=0.3975,\tbest estimator lgbm's best error=0.3975\n",
      "[flaml.automl.logger: 03-10 10:31:01] {2218} INFO - iteration 66, current learner xgboost\n",
      "[flaml.automl.logger: 03-10 10:31:02] {2391} INFO -  at 151.6s,\testimator xgboost's best error=0.5840,\tbest estimator lgbm's best error=0.3975\n",
      "[flaml.automl.logger: 03-10 10:31:02] {2218} INFO - iteration 67, current learner xgb_limitdepth\n",
      "[flaml.automl.logger: 03-10 10:31:08] {2391} INFO -  at 157.5s,\testimator xgb_limitdepth's best error=0.4570,\tbest estimator lgbm's best error=0.3975\n",
      "[flaml.automl.logger: 03-10 10:31:08] {2218} INFO - iteration 68, current learner rf\n",
      "[flaml.automl.logger: 03-10 10:31:09] {2391} INFO -  at 159.1s,\testimator rf's best error=0.5184,\tbest estimator lgbm's best error=0.3975\n",
      "[flaml.automl.logger: 03-10 10:31:09] {2218} INFO - iteration 69, current learner lrl1\n",
      "[flaml.automl.logger: 03-10 10:31:31] {2391} INFO -  at 181.0s,\testimator lrl1's best error=0.4406,\tbest estimator lgbm's best error=0.3975\n",
      "[flaml.automl.logger: 03-10 10:31:31] {2218} INFO - iteration 70, current learner lgbm\n"
     ]
    },
    {
     "name": "stderr",
     "output_type": "stream",
     "text": [
      "c:\\Users\\Sissi\\anaconda3\\Lib\\site-packages\\sklearn\\linear_model\\_sag.py:350: ConvergenceWarning: The max_iter was reached which means the coef_ did not converge\n",
      "  warnings.warn(\n"
     ]
    },
    {
     "name": "stdout",
     "output_type": "stream",
     "text": [
      "[flaml.automl.logger: 03-10 10:31:59] {2391} INFO -  at 208.5s,\testimator lgbm's best error=0.3975,\tbest estimator lgbm's best error=0.3975\n",
      "[flaml.automl.logger: 03-10 10:31:59] {2218} INFO - iteration 71, current learner lrl1\n",
      "[flaml.automl.logger: 03-10 10:32:32] {2391} INFO -  at 242.1s,\testimator lrl1's best error=0.4406,\tbest estimator lgbm's best error=0.3975\n",
      "[flaml.automl.logger: 03-10 10:32:32] {2218} INFO - iteration 72, current learner lrl1\n"
     ]
    },
    {
     "name": "stderr",
     "output_type": "stream",
     "text": [
      "c:\\Users\\Sissi\\anaconda3\\Lib\\site-packages\\sklearn\\linear_model\\_sag.py:350: ConvergenceWarning: The max_iter was reached which means the coef_ did not converge\n",
      "  warnings.warn(\n"
     ]
    },
    {
     "name": "stdout",
     "output_type": "stream",
     "text": [
      "[flaml.automl.logger: 03-10 10:32:51] {2391} INFO -  at 260.8s,\testimator lrl1's best error=0.4406,\tbest estimator lgbm's best error=0.3975\n",
      "[flaml.automl.logger: 03-10 10:32:51] {2218} INFO - iteration 73, current learner xgboost\n"
     ]
    },
    {
     "name": "stderr",
     "output_type": "stream",
     "text": [
      "c:\\Users\\Sissi\\anaconda3\\Lib\\site-packages\\sklearn\\linear_model\\_sag.py:350: ConvergenceWarning: The max_iter was reached which means the coef_ did not converge\n",
      "  warnings.warn(\n"
     ]
    },
    {
     "name": "stdout",
     "output_type": "stream",
     "text": [
      "[flaml.automl.logger: 03-10 10:32:52] {2391} INFO -  at 261.5s,\testimator xgboost's best error=0.5369,\tbest estimator lgbm's best error=0.3975\n",
      "[flaml.automl.logger: 03-10 10:32:52] {2218} INFO - iteration 74, current learner lrl1\n",
      "[flaml.automl.logger: 03-10 10:33:19] {2391} INFO -  at 289.4s,\testimator lrl1's best error=0.4406,\tbest estimator lgbm's best error=0.3975\n",
      "[flaml.automl.logger: 03-10 10:33:19] {2218} INFO - iteration 75, current learner xgboost\n"
     ]
    },
    {
     "name": "stderr",
     "output_type": "stream",
     "text": [
      "c:\\Users\\Sissi\\anaconda3\\Lib\\site-packages\\sklearn\\linear_model\\_sag.py:350: ConvergenceWarning: The max_iter was reached which means the coef_ did not converge\n",
      "  warnings.warn(\n"
     ]
    },
    {
     "name": "stdout",
     "output_type": "stream",
     "text": [
      "[flaml.automl.logger: 03-10 10:33:20] {2391} INFO -  at 290.1s,\testimator xgboost's best error=0.5369,\tbest estimator lgbm's best error=0.3975\n",
      "[flaml.automl.logger: 03-10 10:33:20] {2218} INFO - iteration 76, current learner extra_tree\n",
      "[flaml.automl.logger: 03-10 10:33:20] {2391} INFO -  at 290.3s,\testimator extra_tree's best error=0.4980,\tbest estimator lgbm's best error=0.3975\n",
      "[flaml.automl.logger: 03-10 10:33:20] {2218} INFO - iteration 77, current learner xgboost\n",
      "[flaml.automl.logger: 03-10 10:33:22] {2391} INFO -  at 291.6s,\testimator xgboost's best error=0.4857,\tbest estimator lgbm's best error=0.3975\n",
      "[flaml.automl.logger: 03-10 10:33:22] {2218} INFO - iteration 78, current learner xgboost\n",
      "[flaml.automl.logger: 03-10 10:33:23] {2391} INFO -  at 292.9s,\testimator xgboost's best error=0.4857,\tbest estimator lgbm's best error=0.3975\n",
      "[flaml.automl.logger: 03-10 10:33:23] {2218} INFO - iteration 79, current learner extra_tree\n",
      "[flaml.automl.logger: 03-10 10:33:23] {2391} INFO -  at 293.1s,\testimator extra_tree's best error=0.4980,\tbest estimator lgbm's best error=0.3975\n",
      "[flaml.automl.logger: 03-10 10:33:23] {2218} INFO - iteration 80, current learner xgboost\n",
      "[flaml.automl.logger: 03-10 10:33:24] {2391} INFO -  at 294.2s,\testimator xgboost's best error=0.4857,\tbest estimator lgbm's best error=0.3975\n",
      "[flaml.automl.logger: 03-10 10:33:24] {2218} INFO - iteration 81, current learner rf\n",
      "[flaml.automl.logger: 03-10 10:33:26] {2391} INFO -  at 295.6s,\testimator rf's best error=0.5000,\tbest estimator lgbm's best error=0.3975\n",
      "[flaml.automl.logger: 03-10 10:33:26] {2218} INFO - iteration 82, current learner lrl1\n",
      "[flaml.automl.logger: 03-10 10:33:44] {2391} INFO -  at 314.1s,\testimator lrl1's best error=0.4406,\tbest estimator lgbm's best error=0.3975\n",
      "[flaml.automl.logger: 03-10 10:33:44] {2218} INFO - iteration 83, current learner xgboost\n"
     ]
    },
    {
     "name": "stderr",
     "output_type": "stream",
     "text": [
      "c:\\Users\\Sissi\\anaconda3\\Lib\\site-packages\\sklearn\\linear_model\\_sag.py:350: ConvergenceWarning: The max_iter was reached which means the coef_ did not converge\n",
      "  warnings.warn(\n"
     ]
    },
    {
     "name": "stdout",
     "output_type": "stream",
     "text": [
      "[flaml.automl.logger: 03-10 10:33:47] {2391} INFO -  at 316.8s,\testimator xgboost's best error=0.4857,\tbest estimator lgbm's best error=0.3975\n",
      "[flaml.automl.logger: 03-10 10:33:47] {2218} INFO - iteration 84, current learner extra_tree\n",
      "[flaml.automl.logger: 03-10 10:33:47] {2391} INFO -  at 317.0s,\testimator extra_tree's best error=0.4980,\tbest estimator lgbm's best error=0.3975\n",
      "[flaml.automl.logger: 03-10 10:33:47] {2218} INFO - iteration 85, current learner xgboost\n",
      "[flaml.automl.logger: 03-10 10:33:48] {2391} INFO -  at 318.1s,\testimator xgboost's best error=0.4857,\tbest estimator lgbm's best error=0.3975\n",
      "[flaml.automl.logger: 03-10 10:33:48] {2218} INFO - iteration 86, current learner extra_tree\n",
      "[flaml.automl.logger: 03-10 10:33:49] {2391} INFO -  at 318.5s,\testimator extra_tree's best error=0.4980,\tbest estimator lgbm's best error=0.3975\n",
      "[flaml.automl.logger: 03-10 10:33:49] {2218} INFO - iteration 87, current learner xgboost\n",
      "[flaml.automl.logger: 03-10 10:33:49] {2391} INFO -  at 319.3s,\testimator xgboost's best error=0.4857,\tbest estimator lgbm's best error=0.3975\n",
      "[flaml.automl.logger: 03-10 10:33:49] {2218} INFO - iteration 88, current learner extra_tree\n",
      "[flaml.automl.logger: 03-10 10:33:50] {2391} INFO -  at 319.6s,\testimator extra_tree's best error=0.4980,\tbest estimator lgbm's best error=0.3975\n",
      "[flaml.automl.logger: 03-10 10:33:50] {2218} INFO - iteration 89, current learner rf\n",
      "[flaml.automl.logger: 03-10 10:33:51] {2391} INFO -  at 321.0s,\testimator rf's best error=0.5000,\tbest estimator lgbm's best error=0.3975\n",
      "[flaml.automl.logger: 03-10 10:33:51] {2218} INFO - iteration 90, current learner rf\n",
      "[flaml.automl.logger: 03-10 10:33:53] {2391} INFO -  at 322.6s,\testimator rf's best error=0.5000,\tbest estimator lgbm's best error=0.3975\n",
      "[flaml.automl.logger: 03-10 10:33:53] {2218} INFO - iteration 91, current learner lrl1\n",
      "[flaml.automl.logger: 03-10 10:34:14] {2391} INFO -  at 343.4s,\testimator lrl1's best error=0.4406,\tbest estimator lgbm's best error=0.3975\n",
      "[flaml.automl.logger: 03-10 10:34:14] {2218} INFO - iteration 92, current learner xgboost\n"
     ]
    },
    {
     "name": "stderr",
     "output_type": "stream",
     "text": [
      "c:\\Users\\Sissi\\anaconda3\\Lib\\site-packages\\sklearn\\linear_model\\_sag.py:350: ConvergenceWarning: The max_iter was reached which means the coef_ did not converge\n",
      "  warnings.warn(\n"
     ]
    },
    {
     "name": "stdout",
     "output_type": "stream",
     "text": [
      "[flaml.automl.logger: 03-10 10:34:16] {2391} INFO -  at 346.0s,\testimator xgboost's best error=0.4713,\tbest estimator lgbm's best error=0.3975\n",
      "[flaml.automl.logger: 03-10 10:34:16] {2218} INFO - iteration 93, current learner lrl1\n",
      "[flaml.automl.logger: 03-10 10:34:44] {2391} INFO -  at 374.0s,\testimator lrl1's best error=0.4406,\tbest estimator lgbm's best error=0.3975\n",
      "[flaml.automl.logger: 03-10 10:34:44] {2218} INFO - iteration 94, current learner extra_tree\n"
     ]
    },
    {
     "name": "stderr",
     "output_type": "stream",
     "text": [
      "c:\\Users\\Sissi\\anaconda3\\Lib\\site-packages\\sklearn\\linear_model\\_sag.py:350: ConvergenceWarning: The max_iter was reached which means the coef_ did not converge\n",
      "  warnings.warn(\n"
     ]
    },
    {
     "name": "stdout",
     "output_type": "stream",
     "text": [
      "[flaml.automl.logger: 03-10 10:34:44] {2391} INFO -  at 374.4s,\testimator extra_tree's best error=0.4918,\tbest estimator lgbm's best error=0.3975\n",
      "[flaml.automl.logger: 03-10 10:34:44] {2218} INFO - iteration 95, current learner extra_tree\n",
      "[flaml.automl.logger: 03-10 10:34:45] {2391} INFO -  at 374.6s,\testimator extra_tree's best error=0.4918,\tbest estimator lgbm's best error=0.3975\n",
      "[flaml.automl.logger: 03-10 10:34:45] {2218} INFO - iteration 96, current learner lgbm\n",
      "[flaml.automl.logger: 03-10 10:34:51] {2391} INFO -  at 381.0s,\testimator lgbm's best error=0.3975,\tbest estimator lgbm's best error=0.3975\n",
      "[flaml.automl.logger: 03-10 10:34:51] {2218} INFO - iteration 97, current learner lrl1\n",
      "[flaml.automl.logger: 03-10 10:35:17] {2391} INFO -  at 406.6s,\testimator lrl1's best error=0.4406,\tbest estimator lgbm's best error=0.3975\n",
      "[flaml.automl.logger: 03-10 10:35:17] {2218} INFO - iteration 98, current learner xgboost\n"
     ]
    },
    {
     "name": "stderr",
     "output_type": "stream",
     "text": [
      "c:\\Users\\Sissi\\anaconda3\\Lib\\site-packages\\sklearn\\linear_model\\_sag.py:350: ConvergenceWarning: The max_iter was reached which means the coef_ did not converge\n",
      "  warnings.warn(\n"
     ]
    },
    {
     "name": "stdout",
     "output_type": "stream",
     "text": [
      "[flaml.automl.logger: 03-10 10:35:19] {2391} INFO -  at 408.4s,\testimator xgboost's best error=0.4713,\tbest estimator lgbm's best error=0.3975\n",
      "[flaml.automl.logger: 03-10 10:35:19] {2218} INFO - iteration 99, current learner xgboost\n",
      "[flaml.automl.logger: 03-10 10:35:22] {2391} INFO -  at 411.8s,\testimator xgboost's best error=0.4713,\tbest estimator lgbm's best error=0.3975\n",
      "[flaml.automl.logger: 03-10 10:35:22] {2218} INFO - iteration 100, current learner rf\n",
      "[flaml.automl.logger: 03-10 10:35:23] {2391} INFO -  at 412.8s,\testimator rf's best error=0.5000,\tbest estimator lgbm's best error=0.3975\n",
      "[flaml.automl.logger: 03-10 10:35:23] {2218} INFO - iteration 101, current learner rf\n",
      "[flaml.automl.logger: 03-10 10:35:28] {2391} INFO -  at 417.7s,\testimator rf's best error=0.5000,\tbest estimator lgbm's best error=0.3975\n",
      "[flaml.automl.logger: 03-10 10:35:28] {2218} INFO - iteration 102, current learner lrl1\n",
      "[flaml.automl.logger: 03-10 10:35:48] {2391} INFO -  at 437.4s,\testimator lrl1's best error=0.4406,\tbest estimator lgbm's best error=0.3975\n",
      "[flaml.automl.logger: 03-10 10:35:48] {2218} INFO - iteration 103, current learner extra_tree\n"
     ]
    },
    {
     "name": "stderr",
     "output_type": "stream",
     "text": [
      "c:\\Users\\Sissi\\anaconda3\\Lib\\site-packages\\sklearn\\linear_model\\_sag.py:350: ConvergenceWarning: The max_iter was reached which means the coef_ did not converge\n",
      "  warnings.warn(\n"
     ]
    },
    {
     "name": "stdout",
     "output_type": "stream",
     "text": [
      "[flaml.automl.logger: 03-10 10:35:48] {2391} INFO -  at 437.7s,\testimator extra_tree's best error=0.4918,\tbest estimator lgbm's best error=0.3975\n",
      "[flaml.automl.logger: 03-10 10:35:48] {2218} INFO - iteration 104, current learner lgbm\n",
      "[flaml.automl.logger: 03-10 10:35:58] {2391} INFO -  at 448.1s,\testimator lgbm's best error=0.3975,\tbest estimator lgbm's best error=0.3975\n",
      "[flaml.automl.logger: 03-10 10:35:58] {2218} INFO - iteration 105, current learner extra_tree\n",
      "[flaml.automl.logger: 03-10 10:35:59] {2391} INFO -  at 448.4s,\testimator extra_tree's best error=0.4918,\tbest estimator lgbm's best error=0.3975\n",
      "[flaml.automl.logger: 03-10 10:35:59] {2218} INFO - iteration 106, current learner rf\n",
      "[flaml.automl.logger: 03-10 10:36:01] {2391} INFO -  at 450.7s,\testimator rf's best error=0.5000,\tbest estimator lgbm's best error=0.3975\n",
      "[flaml.automl.logger: 03-10 10:36:01] {2218} INFO - iteration 107, current learner xgboost\n",
      "[flaml.automl.logger: 03-10 10:36:02] {2391} INFO -  at 452.1s,\testimator xgboost's best error=0.4713,\tbest estimator lgbm's best error=0.3975\n",
      "[flaml.automl.logger: 03-10 10:36:02] {2218} INFO - iteration 108, current learner lrl1\n",
      "[flaml.automl.logger: 03-10 10:36:21] {2391} INFO -  at 471.3s,\testimator lrl1's best error=0.4406,\tbest estimator lgbm's best error=0.3975\n",
      "[flaml.automl.logger: 03-10 10:36:21] {2218} INFO - iteration 109, current learner rf\n"
     ]
    },
    {
     "name": "stderr",
     "output_type": "stream",
     "text": [
      "c:\\Users\\Sissi\\anaconda3\\Lib\\site-packages\\sklearn\\linear_model\\_sag.py:350: ConvergenceWarning: The max_iter was reached which means the coef_ did not converge\n",
      "  warnings.warn(\n"
     ]
    },
    {
     "name": "stdout",
     "output_type": "stream",
     "text": [
      "[flaml.automl.logger: 03-10 10:36:23] {2391} INFO -  at 472.8s,\testimator rf's best error=0.5000,\tbest estimator lgbm's best error=0.3975\n",
      "[flaml.automl.logger: 03-10 10:36:23] {2218} INFO - iteration 110, current learner lrl1\n",
      "[flaml.automl.logger: 03-10 10:36:49] {2391} INFO -  at 499.3s,\testimator lrl1's best error=0.4406,\tbest estimator lgbm's best error=0.3975\n",
      "[flaml.automl.logger: 03-10 10:36:49] {2218} INFO - iteration 111, current learner extra_tree\n"
     ]
    },
    {
     "name": "stderr",
     "output_type": "stream",
     "text": [
      "c:\\Users\\Sissi\\anaconda3\\Lib\\site-packages\\sklearn\\linear_model\\_sag.py:350: ConvergenceWarning: The max_iter was reached which means the coef_ did not converge\n",
      "  warnings.warn(\n"
     ]
    },
    {
     "name": "stdout",
     "output_type": "stream",
     "text": [
      "[flaml.automl.logger: 03-10 10:36:50] {2391} INFO -  at 499.5s,\testimator extra_tree's best error=0.4918,\tbest estimator lgbm's best error=0.3975\n",
      "[flaml.automl.logger: 03-10 10:36:50] {2218} INFO - iteration 112, current learner lgbm\n",
      "[flaml.automl.logger: 03-10 10:37:03] {2391} INFO -  at 513.2s,\testimator lgbm's best error=0.3975,\tbest estimator lgbm's best error=0.3975\n",
      "[flaml.automl.logger: 03-10 10:37:03] {2218} INFO - iteration 113, current learner lrl1\n",
      "[flaml.automl.logger: 03-10 10:37:29] {2391} INFO -  at 538.7s,\testimator lrl1's best error=0.4406,\tbest estimator lgbm's best error=0.3975\n",
      "[flaml.automl.logger: 03-10 10:37:29] {2218} INFO - iteration 114, current learner extra_tree\n"
     ]
    },
    {
     "name": "stderr",
     "output_type": "stream",
     "text": [
      "c:\\Users\\Sissi\\anaconda3\\Lib\\site-packages\\sklearn\\linear_model\\_sag.py:350: ConvergenceWarning: The max_iter was reached which means the coef_ did not converge\n",
      "  warnings.warn(\n"
     ]
    },
    {
     "name": "stdout",
     "output_type": "stream",
     "text": [
      "[flaml.automl.logger: 03-10 10:37:29] {2391} INFO -  at 538.9s,\testimator extra_tree's best error=0.4918,\tbest estimator lgbm's best error=0.3975\n",
      "[flaml.automl.logger: 03-10 10:37:29] {2218} INFO - iteration 115, current learner lrl1\n",
      "[flaml.automl.logger: 03-10 10:37:59] {2391} INFO -  at 569.3s,\testimator lrl1's best error=0.4406,\tbest estimator lgbm's best error=0.3975\n",
      "[flaml.automl.logger: 03-10 10:37:59] {2218} INFO - iteration 116, current learner lgbm\n"
     ]
    },
    {
     "name": "stderr",
     "output_type": "stream",
     "text": [
      "c:\\Users\\Sissi\\anaconda3\\Lib\\site-packages\\sklearn\\linear_model\\_sag.py:350: ConvergenceWarning: The max_iter was reached which means the coef_ did not converge\n",
      "  warnings.warn(\n"
     ]
    },
    {
     "name": "stdout",
     "output_type": "stream",
     "text": [
      "[flaml.automl.logger: 03-10 10:38:29] {2391} INFO -  at 599.2s,\testimator lgbm's best error=0.3975,\tbest estimator lgbm's best error=0.3975\n",
      "[flaml.automl.logger: 03-10 10:38:29] {2218} INFO - iteration 117, current learner extra_tree\n",
      "[flaml.automl.logger: 03-10 10:38:30] {2391} INFO -  at 600.1s,\testimator extra_tree's best error=0.4918,\tbest estimator lgbm's best error=0.3975\n",
      "[flaml.automl.logger: 03-10 10:38:50] {2627} INFO - retrain lgbm for 20.0s\n",
      "[flaml.automl.logger: 03-10 10:38:50] {2630} INFO - retrained model: LGBMClassifier(colsample_bytree=0.6874570413763783,\n",
      "               learning_rate=0.0516599331111777, max_bin=511,\n",
      "               min_child_samples=8, n_estimators=1, n_jobs=-1, num_leaves=26,\n",
      "               reg_alpha=0.0009765625, reg_lambda=2.5682014397894393,\n",
      "               verbose=-1)\n",
      "[flaml.automl.logger: 03-10 10:38:50] {1930} INFO - fit succeeded\n",
      "[flaml.automl.logger: 03-10 10:38:50] {1931} INFO - Time taken to find the best model: 151.2748064994812\n",
      "[[0.73553154 0.06133306 0.00889094 ... 0.03446299 0.05941685 0.03688017]\n",
      " [0.00390611 0.02661127 0.01102359 ... 0.01266555 0.0214029  0.91506673]\n",
      " [0.00312202 0.01879042 0.91081251 ... 0.02032214 0.02515535 0.00281132]\n",
      " ...\n",
      " [0.01219513 0.08542179 0.02415372 ... 0.0350578  0.02924992 0.00691136]\n",
      " [0.01866891 0.02803525 0.74696562 ... 0.0389913  0.11984754 0.00498436]\n",
      " [0.00630455 0.00896555 0.01013311 ... 0.00571394 0.01154151 0.0036938 ]]\n",
      "LGBMClassifier(colsample_bytree=0.6874570413763783,\n",
      "               learning_rate=0.0516599331111777, max_bin=511,\n",
      "               min_child_samples=8, n_estimators=1, n_jobs=-1, num_leaves=26,\n",
      "               reg_alpha=0.0009765625, reg_lambda=2.5682014397894393,\n",
      "               verbose=-1)\n"
     ]
    }
   ],
   "source": [
    "# Initialize an AutoML instance\n",
    "automl = AutoML()\n",
    "\n",
    "# Specify automl goal and constraint\n",
    "automl_settings = {\n",
    "    \"time_budget\": 600,  # in seconds\n",
    "    \"metric\": 'accuracy',\n",
    "    \"task\": 'classification',\n",
    "    \"log_file_name\": \"song-600.log\",\n",
    "    \"early_stop\": True,\n",
    "}\n",
    "\n",
    "# Train with labeled input data\n",
    "automl.fit(X_train=X_train, y_train=y_train,\n",
    "           **automl_settings)\n",
    "# Predict\n",
    "print(automl.predict_proba(X_train))\n",
    "# Print the best model\n",
    "print(automl.model.estimator)\n",
    "\n",
    "# Output:\n",
    "#LGBMClassifier(colsample_bytree=0.6888970622475563,\n",
    "               #learning_rate=0.09951515716853933, max_bin=511,\n",
    "               #min_child_samples=4, n_estimators=1, n_jobs=-1, num_leaves=13,\n",
    "               #reg_alpha=0.007704104902643932, reg_lambda=9.757362285043104,\n",
    "               #verbose=-1)"
   ]
  },
  {
   "cell_type": "code",
   "execution_count": 9,
   "id": "8831f429",
   "metadata": {},
   "outputs": [
    {
     "name": "stdout",
     "output_type": "stream",
     "text": [
      "accuracy = 0.5733333333333334\n"
     ]
    }
   ],
   "source": [
    "x_pred = automl.predict(X_val)\n",
    "print('accuracy', '=', 1 - sklearn_metric_loss_score('accuracy', x_pred, y_val))\n",
    "# 0.615"
   ]
  },
  {
   "cell_type": "code",
   "execution_count": 10,
   "id": "4160795d",
   "metadata": {},
   "outputs": [
    {
     "data": {
      "text/plain": [
       "array(['Experimental', 'Pop', 'International', ..., 'Experimental', 'Pop',\n",
       "       'Pop'], dtype=object)"
      ]
     },
     "execution_count": 10,
     "metadata": {},
     "output_type": "execute_result"
    }
   ],
   "source": [
    "X_test = scalerx.transform(X_test)\n",
    "y_pred = automl.predict(X_test) # compute predictions on the test inputs\n",
    "y_pred\n",
    "y_pred_dec = label_encoder.inverse_transform(y_pred)\n",
    "y_pred_dec"
   ]
  },
  {
   "cell_type": "code",
   "execution_count": null,
   "id": "8b1478b5",
   "metadata": {},
   "outputs": [],
   "source": [
    "# Tune parameters of a certain model\n",
    "from flaml.default import preprocess_and_suggest_hyperparams\n",
    "\n",
    "hyperparams, estimator_class, X_transformed, y_transformed, feature_transformer, label_transformer = preprocess_and_suggest_hyperparams(\n",
    "    \"classification\", X_train, y_train, \"lgbm\"\n",
    ")\n",
    "model = estimator_class(**hyperparams)  # estimator_class is lightgbm.LGBMClassifier\n",
    "model.fit(X_transformed, y_train)  # LGBMClassifier can handle raw labels\n",
    "X_val = feature_transformer.transform(X_val)  # preprocess test data\n",
    "x_pred = model.predict(X_val)"
   ]
  },
  {
   "cell_type": "code",
   "execution_count": null,
   "id": "d322675d",
   "metadata": {},
   "outputs": [],
   "source": [
    "print(model)\n",
    "print('accuracy', '=', 1 - sklearn_metric_loss_score('accuracy', x_pred, y_val))"
   ]
  },
  {
   "cell_type": "code",
   "execution_count": 13,
   "id": "1acb4ee5",
   "metadata": {},
   "outputs": [
    {
     "ename": "NameError",
     "evalue": "name 'model' is not defined",
     "output_type": "error",
     "traceback": [
      "\u001b[1;31m---------------------------------------------------------------------------\u001b[0m",
      "\u001b[1;31mNameError\u001b[0m                                 Traceback (most recent call last)",
      "Cell \u001b[1;32mIn[13], line 2\u001b[0m\n\u001b[0;32m      1\u001b[0m X_test \u001b[38;5;241m=\u001b[39m scalerx\u001b[38;5;241m.\u001b[39mtransform(X_test)\n\u001b[1;32m----> 2\u001b[0m y_pred \u001b[38;5;241m=\u001b[39m model\u001b[38;5;241m.\u001b[39mpredict(X_test) \u001b[38;5;66;03m# compute predictions on the test inputs\u001b[39;00m\n\u001b[0;32m      3\u001b[0m y_pred\n",
      "\u001b[1;31mNameError\u001b[0m: name 'model' is not defined"
     ]
    }
   ],
   "source": [
    "X_test = scalerx.transform(X_test)\n",
    "y_pred = model.predict(X_test) # compute predictions on the test inputs\n",
    "y_pred"
   ]
  },
  {
   "cell_type": "code",
   "execution_count": 41,
   "id": "20fe81c8",
   "metadata": {},
   "outputs": [
    {
     "data": {
      "text/plain": [
       "array(['Folk', 'Pop', 'International', ..., 'Rock', 'Pop', 'Pop'],\n",
       "      dtype=object)"
      ]
     },
     "execution_count": 41,
     "metadata": {},
     "output_type": "execute_result"
    }
   ],
   "source": [
    "y_pred_dec = label_encoder.inverse_transform(y_pred)\n",
    "y_pred_dec"
   ]
  },
  {
   "cell_type": "markdown",
   "id": "d81c8fe7",
   "metadata": {},
   "source": [
    "## Export in csv format "
   ]
  },
  {
   "cell_type": "code",
   "execution_count": 31,
   "id": "706f456c",
   "metadata": {},
   "outputs": [],
   "source": [
    "# Export the predictions on the test data in csv format\n",
    "prediction = pd.DataFrame(y_pred, columns=['Genre'])\n",
    "prediction.index.name='Id'\n",
    "prediction.to_csv('myprediction.csv') # export to csv file\n",
    "\n",
    "# The csv file should be of the form\n",
    "#Id, Genre\n",
    "#0, Folk\n",
    "#1, Hip-Hop\n",
    "#2, International\n",
    "#...\n",
    "#1998, Experimental\n",
    "#1999, Pop"
   ]
  }
 ],
 "metadata": {
  "kernelspec": {
   "display_name": "Python 3 (ipykernel)",
   "language": "python",
   "name": "python3"
  },
  "language_info": {
   "codemirror_mode": {
    "name": "ipython",
    "version": 3
   },
   "file_extension": ".py",
   "mimetype": "text/x-python",
   "name": "python",
   "nbconvert_exporter": "python",
   "pygments_lexer": "ipython3",
   "version": "3.11.7"
  }
 },
 "nbformat": 4,
 "nbformat_minor": 5
}
