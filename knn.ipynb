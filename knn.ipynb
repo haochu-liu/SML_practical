{
  "cells": [
    {
      "cell_type": "markdown",
      "metadata": {
        "id": "view-in-github",
        "colab_type": "text"
      },
      "source": [
        "<a href=\"https://colab.research.google.com/github/haochu-liu/SML_practical/blob/main/knn.ipynb\" target=\"_parent\"><img src=\"https://colab.research.google.com/assets/colab-badge.svg\" alt=\"Open In Colab\"/></a>"
      ]
    },
    {
      "cell_type": "code",
      "execution_count": 1,
      "metadata": {
        "id": "T6P3c8d0ZYiM"
      },
      "outputs": [],
      "source": [
        "# Import libraries\n",
        "import pandas as pd\n",
        "import numpy as np\n",
        "from sklearn.neighbors import KNeighborsClassifier\n",
        "from sklearn.decomposition import PCA\n",
        "from sklearn.model_selection import train_test_split\n",
        "from sklearn.model_selection import GridSearchCV\n",
        "import random\n",
        "random.seed(123)"
      ]
    },
    {
      "cell_type": "code",
      "execution_count": 2,
      "metadata": {
        "colab": {
          "base_uri": "https://localhost:8080/"
        },
        "id": "sJmhkgJxiUC4",
        "outputId": "9dccfbb1-c955-4479-9f96-376cf4a455e4"
      },
      "outputs": [
        {
          "output_type": "stream",
          "name": "stderr",
          "text": [
            "<ipython-input-2-4c2798697016>:3: FutureWarning: The squeeze argument has been deprecated and will be removed in a future version. Append .squeeze(\"columns\") to the call to squeeze.\n",
            "\n",
            "\n",
            "  y = pd.read_csv('y_train.csv', index_col = 0, squeeze=True).to_numpy() # outputs of the training set\n"
          ]
        }
      ],
      "source": [
        "# Load the training data and the test inputs\n",
        "X = pd.read_csv('X_train.csv', index_col = 0, header=[0, 1, 2]) # inputs of the training set\n",
        "y = pd.read_csv('y_train.csv', index_col = 0, squeeze=True).to_numpy() # outputs of the training set\n",
        "X_test = pd.read_csv('X_test.csv', index_col = 0, header=[0, 1, 2]) # inputs of the test set\n",
        "X_train, X_val, y_train, y_val = train_test_split(X, y, test_size=0.2)"
      ]
    },
    {
      "cell_type": "code",
      "execution_count": 3,
      "metadata": {
        "colab": {
          "base_uri": "https://localhost:8080/"
        },
        "id": "dYLV1cYgjQIc",
        "outputId": "b4889af7-4ac5-46eb-a6a3-f14857c69146"
      },
      "outputs": [
        {
          "output_type": "stream",
          "name": "stdout",
          "text": [
            "Accuracy of 5-nn on the training set:  0.31333333333333335\n"
          ]
        }
      ],
      "source": [
        "# Example with a k-nearest neighbours classifier\n",
        "clf = KNeighborsClassifier(n_neighbors = 5)\n",
        "clf.fit(X_train, y_train)\n",
        "print('Accuracy of 5-nn on the training set: ', clf.score(X_val, y_val)) # evaluate the accuracy on the training set"
      ]
    },
    {
      "cell_type": "code",
      "execution_count": 4,
      "metadata": {
        "colab": {
          "base_uri": "https://localhost:8080/"
        },
        "id": "vXRjGdvakHTA",
        "outputId": "8ace8f51-044b-4a4d-e46a-801c4c91d283"
      },
      "outputs": [
        {
          "output_type": "execute_result",
          "data": {
            "text/plain": [
              "array(['Instrumental', 'International', 'International', ...,\n",
              "       'Experimental', 'Pop', 'Hip-Hop'], dtype=object)"
            ]
          },
          "metadata": {},
          "execution_count": 4
        }
      ],
      "source": [
        "y_pred = clf.predict(X_test) # compute knn predictions on the test inputs\n",
        "y_pred"
      ]
    },
    {
      "cell_type": "code",
      "execution_count": 5,
      "metadata": {
        "colab": {
          "base_uri": "https://localhost:8080/"
        },
        "id": "uFf8aotKqJgq",
        "outputId": "1935c0ee-b850-47bd-9802-97348193041e"
      },
      "outputs": [
        {
          "output_type": "execute_result",
          "data": {
            "text/plain": [
              "{'Electronic',\n",
              " 'Experimental',\n",
              " 'Folk',\n",
              " 'Hip-Hop',\n",
              " 'Instrumental',\n",
              " 'International',\n",
              " 'Pop',\n",
              " 'Rock'}"
            ]
          },
          "metadata": {},
          "execution_count": 5
        }
      ],
      "source": [
        "set(y_train)"
      ]
    },
    {
      "cell_type": "code",
      "execution_count": null,
      "metadata": {
        "id": "ENB9qsCQ4j5Y"
      },
      "outputs": [],
      "source": []
    },
    {
      "cell_type": "code",
      "execution_count": 6,
      "metadata": {
        "id": "hp0LlCKlk1t5"
      },
      "outputs": [],
      "source": [
        "from sklearn.discriminant_analysis import QuadraticDiscriminantAnalysis\n",
        "from sklearn.discriminant_analysis import LinearDiscriminantAnalysis"
      ]
    },
    {
      "cell_type": "code",
      "execution_count": null,
      "metadata": {
        "colab": {
          "base_uri": "https://localhost:8080/"
        },
        "id": "dYs1VEi6v2w4",
        "outputId": "2e9b6fd0-8a8a-4a6a-bd30-3a4c9409bf36"
      },
      "outputs": [
        {
          "output_type": "stream",
          "name": "stdout",
          "text": [
            "Electronic 589\n",
            "Experimental 587\n",
            "Folk 629\n",
            "Hip-Hop 601\n",
            "Instrumental 601\n",
            "International 598\n",
            "Pop 594\n",
            "Rock 601\n"
          ]
        }
      ],
      "source": [
        "for i in np.unique(y_train):\n",
        "    print(i, list(y_train).count(i))\n",
        "# so we do not need to consider class imbalanaces"
      ]
    },
    {
      "cell_type": "code",
      "execution_count": 7,
      "metadata": {
        "colab": {
          "base_uri": "https://localhost:8080/"
        },
        "id": "8i71SJ0yx86k",
        "outputId": "1b720d9f-d385-4e56-911a-b62d567b810c"
      },
      "outputs": [
        {
          "output_type": "execute_result",
          "data": {
            "text/plain": [
              "array([[-1.9997131 ,  0.95491439,  0.13338873, ...,  0.88751617,\n",
              "        -0.45780651,  0.14808858],\n",
              "       [-0.0384018 ,  2.65769653, -2.06571234, ..., -2.23099479,\n",
              "        -0.55747013, -0.64919299],\n",
              "       [ 2.00105518, -0.98885729,  2.73133914, ..., -1.81271992,\n",
              "         2.24156551, -1.55555946],\n",
              "       ...,\n",
              "       [ 1.44051696, -1.21540951,  2.60643854, ..., -0.97010034,\n",
              "         1.57243378,  0.14955199],\n",
              "       [ 2.17761664,  2.39138252, -1.7319063 , ...,  0.70709862,\n",
              "        -2.19287725,  1.83058055],\n",
              "       [ 1.031973  , -0.84081448,  0.60958749, ..., -0.0338621 ,\n",
              "        -0.64426087,  2.35404358]])"
            ]
          },
          "metadata": {},
          "execution_count": 7
        }
      ],
      "source": [
        "ldaclf = LinearDiscriminantAnalysis()\n",
        "ldaclf.fit(X_train, y_train)\n",
        "ldaclf.transform(X_train)"
      ]
    },
    {
      "cell_type": "code",
      "execution_count": null,
      "metadata": {
        "id": "OI2_jJZi5tYz"
      },
      "outputs": [],
      "source": [
        "pca = PCA(5)\n",
        "pca.fit(X_train)\n",
        "sum(pca.explained_variance_ratio_)"
      ]
    },
    {
      "cell_type": "code",
      "execution_count": null,
      "metadata": {
        "colab": {
          "base_uri": "https://localhost:8080/"
        },
        "id": "xpVQYTrYCuVR",
        "outputId": "9428418f-6c8a-4e54-8817-2df3445a5d89"
      },
      "outputs": [
        {
          "output_type": "stream",
          "name": "stdout",
          "text": [
            "Number of neighbours =  3 0.4875\n",
            "Number of neighbours =  6 0.5075\n",
            "Number of neighbours =  9 0.5166666666666667\n",
            "Number of neighbours =  12 0.52\n",
            "Number of neighbours =  15 0.5291666666666667\n",
            "Number of neighbours =  18 0.5358333333333334\n",
            "Number of neighbours =  21 0.535\n",
            "Number of neighbours =  24 0.5383333333333333\n",
            "Number of neighbours =  27 0.5366666666666666\n",
            "Number of neighbours =  30 0.5383333333333333\n",
            "Number of neighbours =  33 0.5333333333333333\n",
            "Number of neighbours =  36 0.5316666666666666\n",
            "Number of neighbours =  39 0.5308333333333334\n",
            "Number of neighbours =  42 0.54\n",
            "Number of neighbours =  45 0.5383333333333333\n",
            "Number of neighbours =  48 0.5375\n",
            "Number of neighbours =  51 0.5416666666666666\n",
            "Number of neighbours =  54 0.5358333333333334\n",
            "Number of neighbours =  57 0.5375\n",
            "Number of neighbours =  60 0.5375\n",
            "Number of neighbours =  63 0.5441666666666667\n",
            "Number of neighbours =  66 0.5433333333333333\n",
            "Number of neighbours =  69 0.5483333333333333\n",
            "Number of neighbours =  72 0.5491666666666667\n",
            "Number of neighbours =  75 0.5525\n",
            "Number of neighbours =  78 0.5516666666666666\n",
            "Number of neighbours =  81 0.55\n",
            "Number of neighbours =  84 0.55\n",
            "Number of neighbours =  87 0.55\n",
            "Number of neighbours =  90 0.5533333333333333\n",
            "Number of neighbours =  93 0.5525\n",
            "Number of neighbours =  96 0.5525\n",
            "Number of neighbours =  99 0.5516666666666666\n"
          ]
        }
      ],
      "source": [
        "for n_components in range(1, 8):\n",
        "    lda = LinearDiscriminantAnalysis(n_components=n_components)\n",
        "    lda.fit(X_train, y_train)\n",
        "    X_train_lda = lda.transform(X_train)\n",
        "    X_val_lda = lda.transform(X_val)\n",
        "\n",
        "\n",
        "for k in range(3, 100, 3):\n",
        "    clf = KNeighborsClassifier(n_neighbors = k)\n",
        "    clf.fit(X_train_lda5, y_train)\n",
        "    print('Number of neighbours = ', k, clf.score(X_val_lda5, y_val)) # evaluate the accuracy on the training set"
      ]
    },
    {
      "cell_type": "code",
      "execution_count": null,
      "metadata": {
        "id": "R6ncj33M7ra3"
      },
      "outputs": [],
      "source": [
        "X_train5 = pca.transform(X_train)\n",
        "X_val5 = pca.transform(X_val)"
      ]
    },
    {
      "cell_type": "code",
      "execution_count": null,
      "metadata": {
        "colab": {
          "base_uri": "https://localhost:8080/"
        },
        "id": "1sjfgVnw_K2X",
        "outputId": "8d36a6f4-33d0-44e5-eb86-efcd74611e18"
      },
      "outputs": [
        {
          "output_type": "execute_result",
          "data": {
            "text/plain": [
              "0.5625"
            ]
          },
          "metadata": {},
          "execution_count": 20
        }
      ],
      "source": [
        "from sklearn.ensemble import RandomForestClassifier\n",
        "\n",
        "rfc = RandomForestClassifier()\n",
        "rfc.fit(X_train, y_train)\n",
        "rfc.score(X_val, y_val)"
      ]
    },
    {
      "cell_type": "code",
      "execution_count": null,
      "metadata": {
        "colab": {
          "base_uri": "https://localhost:8080/",
          "height": 117
        },
        "id": "koTQMthOHiWw",
        "outputId": "f6c6b051-29fe-41aa-ba11-cc8ac2f33c52"
      },
      "outputs": [
        {
          "output_type": "execute_result",
          "data": {
            "text/plain": [
              "GridSearchCV(estimator=RandomForestClassifier(),\n",
              "             param_grid={'criterion': ('gini', 'entropy'),\n",
              "                         'max_depth': [5, 10, 20, 50, 100, 150]})"
            ],
            "text/html": [
              "<style>#sk-container-id-4 {color: black;background-color: white;}#sk-container-id-4 pre{padding: 0;}#sk-container-id-4 div.sk-toggleable {background-color: white;}#sk-container-id-4 label.sk-toggleable__label {cursor: pointer;display: block;width: 100%;margin-bottom: 0;padding: 0.3em;box-sizing: border-box;text-align: center;}#sk-container-id-4 label.sk-toggleable__label-arrow:before {content: \"▸\";float: left;margin-right: 0.25em;color: #696969;}#sk-container-id-4 label.sk-toggleable__label-arrow:hover:before {color: black;}#sk-container-id-4 div.sk-estimator:hover label.sk-toggleable__label-arrow:before {color: black;}#sk-container-id-4 div.sk-toggleable__content {max-height: 0;max-width: 0;overflow: hidden;text-align: left;background-color: #f0f8ff;}#sk-container-id-4 div.sk-toggleable__content pre {margin: 0.2em;color: black;border-radius: 0.25em;background-color: #f0f8ff;}#sk-container-id-4 input.sk-toggleable__control:checked~div.sk-toggleable__content {max-height: 200px;max-width: 100%;overflow: auto;}#sk-container-id-4 input.sk-toggleable__control:checked~label.sk-toggleable__label-arrow:before {content: \"▾\";}#sk-container-id-4 div.sk-estimator input.sk-toggleable__control:checked~label.sk-toggleable__label {background-color: #d4ebff;}#sk-container-id-4 div.sk-label input.sk-toggleable__control:checked~label.sk-toggleable__label {background-color: #d4ebff;}#sk-container-id-4 input.sk-hidden--visually {border: 0;clip: rect(1px 1px 1px 1px);clip: rect(1px, 1px, 1px, 1px);height: 1px;margin: -1px;overflow: hidden;padding: 0;position: absolute;width: 1px;}#sk-container-id-4 div.sk-estimator {font-family: monospace;background-color: #f0f8ff;border: 1px dotted black;border-radius: 0.25em;box-sizing: border-box;margin-bottom: 0.5em;}#sk-container-id-4 div.sk-estimator:hover {background-color: #d4ebff;}#sk-container-id-4 div.sk-parallel-item::after {content: \"\";width: 100%;border-bottom: 1px solid gray;flex-grow: 1;}#sk-container-id-4 div.sk-label:hover label.sk-toggleable__label {background-color: #d4ebff;}#sk-container-id-4 div.sk-serial::before {content: \"\";position: absolute;border-left: 1px solid gray;box-sizing: border-box;top: 0;bottom: 0;left: 50%;z-index: 0;}#sk-container-id-4 div.sk-serial {display: flex;flex-direction: column;align-items: center;background-color: white;padding-right: 0.2em;padding-left: 0.2em;position: relative;}#sk-container-id-4 div.sk-item {position: relative;z-index: 1;}#sk-container-id-4 div.sk-parallel {display: flex;align-items: stretch;justify-content: center;background-color: white;position: relative;}#sk-container-id-4 div.sk-item::before, #sk-container-id-4 div.sk-parallel-item::before {content: \"\";position: absolute;border-left: 1px solid gray;box-sizing: border-box;top: 0;bottom: 0;left: 50%;z-index: -1;}#sk-container-id-4 div.sk-parallel-item {display: flex;flex-direction: column;z-index: 1;position: relative;background-color: white;}#sk-container-id-4 div.sk-parallel-item:first-child::after {align-self: flex-end;width: 50%;}#sk-container-id-4 div.sk-parallel-item:last-child::after {align-self: flex-start;width: 50%;}#sk-container-id-4 div.sk-parallel-item:only-child::after {width: 0;}#sk-container-id-4 div.sk-dashed-wrapped {border: 1px dashed gray;margin: 0 0.4em 0.5em 0.4em;box-sizing: border-box;padding-bottom: 0.4em;background-color: white;}#sk-container-id-4 div.sk-label label {font-family: monospace;font-weight: bold;display: inline-block;line-height: 1.2em;}#sk-container-id-4 div.sk-label-container {text-align: center;}#sk-container-id-4 div.sk-container {/* jupyter's `normalize.less` sets `[hidden] { display: none; }` but bootstrap.min.css set `[hidden] { display: none !important; }` so we also need the `!important` here to be able to override the default hidden behavior on the sphinx rendered scikit-learn.org. See: https://github.com/scikit-learn/scikit-learn/issues/21755 */display: inline-block !important;position: relative;}#sk-container-id-4 div.sk-text-repr-fallback {display: none;}</style><div id=\"sk-container-id-4\" class=\"sk-top-container\"><div class=\"sk-text-repr-fallback\"><pre>GridSearchCV(estimator=RandomForestClassifier(),\n",
              "             param_grid={&#x27;criterion&#x27;: (&#x27;gini&#x27;, &#x27;entropy&#x27;),\n",
              "                         &#x27;max_depth&#x27;: [5, 10, 20, 50, 100, 150]})</pre><b>In a Jupyter environment, please rerun this cell to show the HTML representation or trust the notebook. <br />On GitHub, the HTML representation is unable to render, please try loading this page with nbviewer.org.</b></div><div class=\"sk-container\" hidden><div class=\"sk-item sk-dashed-wrapped\"><div class=\"sk-label-container\"><div class=\"sk-label sk-toggleable\"><input class=\"sk-toggleable__control sk-hidden--visually\" id=\"sk-estimator-id-10\" type=\"checkbox\" ><label for=\"sk-estimator-id-10\" class=\"sk-toggleable__label sk-toggleable__label-arrow\">GridSearchCV</label><div class=\"sk-toggleable__content\"><pre>GridSearchCV(estimator=RandomForestClassifier(),\n",
              "             param_grid={&#x27;criterion&#x27;: (&#x27;gini&#x27;, &#x27;entropy&#x27;),\n",
              "                         &#x27;max_depth&#x27;: [5, 10, 20, 50, 100, 150]})</pre></div></div></div><div class=\"sk-parallel\"><div class=\"sk-parallel-item\"><div class=\"sk-item\"><div class=\"sk-label-container\"><div class=\"sk-label sk-toggleable\"><input class=\"sk-toggleable__control sk-hidden--visually\" id=\"sk-estimator-id-11\" type=\"checkbox\" ><label for=\"sk-estimator-id-11\" class=\"sk-toggleable__label sk-toggleable__label-arrow\">estimator: RandomForestClassifier</label><div class=\"sk-toggleable__content\"><pre>RandomForestClassifier()</pre></div></div></div><div class=\"sk-serial\"><div class=\"sk-item\"><div class=\"sk-estimator sk-toggleable\"><input class=\"sk-toggleable__control sk-hidden--visually\" id=\"sk-estimator-id-12\" type=\"checkbox\" ><label for=\"sk-estimator-id-12\" class=\"sk-toggleable__label sk-toggleable__label-arrow\">RandomForestClassifier</label><div class=\"sk-toggleable__content\"><pre>RandomForestClassifier()</pre></div></div></div></div></div></div></div></div></div></div>"
            ]
          },
          "metadata": {},
          "execution_count": 26
        }
      ],
      "source": [
        "parameters = {'criterion':('gini', 'entropy'), 'max_depth':[5, 10, 20, 50, 100, 150]}\n",
        "rfc = RandomForestClassifier()\n",
        "clf = GridSearchCV(rfc, parameters)\n",
        "clf.fit(X_train, y_train)"
      ]
    },
    {
      "cell_type": "code",
      "execution_count": null,
      "metadata": {
        "id": "CqEMiZthJrkZ",
        "colab": {
          "base_uri": "https://localhost:8080/"
        },
        "outputId": "02e857cd-401a-40b4-c1e1-69cf8b1ed8e6"
      },
      "outputs": [
        {
          "output_type": "execute_result",
          "data": {
            "text/plain": [
              "{'mean_fit_time': array([ 3.77357974,  6.72549176,  8.08864007,  8.29049296,  8.14980302,\n",
              "         8.28742809,  9.35921874, 15.37616682, 16.78082299, 16.4839992 ,\n",
              "        16.65285649, 16.68828964]),\n",
              " 'std_fit_time': array([0.20330249, 0.36846074, 0.40897994, 0.48945634, 0.32400787,\n",
              "        0.36654914, 0.72477752, 0.25300385, 0.55589231, 0.56148338,\n",
              "        0.45590585, 0.81063907]),\n",
              " 'mean_score_time': array([0.02691059, 0.03956113, 0.04822636, 0.05386896, 0.04890189,\n",
              "        0.04987578, 0.02496405, 0.04722409, 0.04962916, 0.05230365,\n",
              "        0.04724216, 0.04586749]),\n",
              " 'std_score_time': array([0.0057753 , 0.00280639, 0.00517592, 0.0098627 , 0.00327068,\n",
              "        0.00597533, 0.0009132 , 0.01095448, 0.00534903, 0.00695234,\n",
              "        0.00652406, 0.00124546]),\n",
              " 'param_criterion': masked_array(data=['gini', 'gini', 'gini', 'gini', 'gini', 'gini',\n",
              "                    'entropy', 'entropy', 'entropy', 'entropy', 'entropy',\n",
              "                    'entropy'],\n",
              "              mask=[False, False, False, False, False, False, False, False,\n",
              "                    False, False, False, False],\n",
              "        fill_value='?',\n",
              "             dtype=object),\n",
              " 'param_max_depth': masked_array(data=[5, 10, 20, 50, 100, 150, 5, 10, 20, 50, 100, 150],\n",
              "              mask=[False, False, False, False, False, False, False, False,\n",
              "                    False, False, False, False],\n",
              "        fill_value='?',\n",
              "             dtype=object),\n",
              " 'params': [{'criterion': 'gini', 'max_depth': 5},\n",
              "  {'criterion': 'gini', 'max_depth': 10},\n",
              "  {'criterion': 'gini', 'max_depth': 20},\n",
              "  {'criterion': 'gini', 'max_depth': 50},\n",
              "  {'criterion': 'gini', 'max_depth': 100},\n",
              "  {'criterion': 'gini', 'max_depth': 150},\n",
              "  {'criterion': 'entropy', 'max_depth': 5},\n",
              "  {'criterion': 'entropy', 'max_depth': 10},\n",
              "  {'criterion': 'entropy', 'max_depth': 20},\n",
              "  {'criterion': 'entropy', 'max_depth': 50},\n",
              "  {'criterion': 'entropy', 'max_depth': 100},\n",
              "  {'criterion': 'entropy', 'max_depth': 150}],\n",
              " 'split0_test_score': array([0.48541667, 0.528125  , 0.546875  , 0.54583333, 0.553125  ,\n",
              "        0.54270833, 0.47604167, 0.53125   , 0.52395833, 0.553125  ,\n",
              "        0.546875  , 0.55625   ]),\n",
              " 'split1_test_score': array([0.50520833, 0.55833333, 0.565625  , 0.56666667, 0.546875  ,\n",
              "        0.55625   , 0.49479167, 0.54583333, 0.55104167, 0.56145833,\n",
              "        0.54375   , 0.54583333]),\n",
              " 'split2_test_score': array([0.46979167, 0.50833333, 0.53645833, 0.5375    , 0.528125  ,\n",
              "        0.5125    , 0.47604167, 0.51145833, 0.52916667, 0.53645833,\n",
              "        0.53333333, 0.51354167]),\n",
              " 'split3_test_score': array([0.484375  , 0.53854167, 0.52708333, 0.54270833, 0.528125  ,\n",
              "        0.540625  , 0.49895833, 0.52604167, 0.51979167, 0.52916667,\n",
              "        0.52916667, 0.5375    ]),\n",
              " 'split4_test_score': array([0.47604167, 0.53020833, 0.53645833, 0.53854167, 0.528125  ,\n",
              "        0.52395833, 0.47604167, 0.51875   , 0.51145833, 0.52916667,\n",
              "        0.528125  , 0.53645833]),\n",
              " 'mean_test_score': array([0.48416667, 0.53270833, 0.5425    , 0.54625   , 0.536875  ,\n",
              "        0.53520833, 0.484375  , 0.52666667, 0.52708333, 0.541875  ,\n",
              "        0.53625   , 0.53791667]),\n",
              " 'std_test_score': array([0.01197509, 0.01619917, 0.01314978, 0.01063521, 0.01089725,\n",
              "        0.0153008 , 0.01029091, 0.01168525, 0.01330727, 0.01313326,\n",
              "        0.00766599, 0.01410834]),\n",
              " 'rank_test_score': array([12,  8,  2,  1,  5,  7, 11, 10,  9,  3,  6,  4], dtype=int32)}"
            ]
          },
          "metadata": {},
          "execution_count": 27
        }
      ],
      "source": [
        "clf.cv_results_\n",
        "# I get entropy with 50 - 100"
      ]
    },
    {
      "cell_type": "code",
      "source": [],
      "metadata": {
        "id": "StOkRVYoziGK"
      },
      "execution_count": null,
      "outputs": []
    }
  ],
  "metadata": {
    "colab": {
      "provenance": [],
      "authorship_tag": "ABX9TyPY2PcTv5ihRE/OGvk3M4RG",
      "include_colab_link": true
    },
    "kernelspec": {
      "display_name": "Python 3",
      "name": "python3"
    },
    "language_info": {
      "name": "python"
    }
  },
  "nbformat": 4,
  "nbformat_minor": 0
}