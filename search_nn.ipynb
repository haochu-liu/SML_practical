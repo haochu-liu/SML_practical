{
  "cells": [
    {
      "cell_type": "markdown",
      "id": "bb32710c",
      "metadata": {
        "id": "bb32710c"
      },
      "source": [
        "# Tuning Parameters for Neural Network Models\n",
        "MSc in Statistical Science\\\n",
        "University of Oxford\\\n",
        "Group-assessed practical\\\n",
        "HT 2024"
      ]
    },
    {
      "cell_type": "markdown",
      "id": "7357fc0f",
      "metadata": {},
      "source": [
        "## Based on file `NN,LDA+NN,PCA+NN.ipynb`"
      ]
    },
    {
      "cell_type": "code",
      "execution_count": 1,
      "id": "7b5c7d92",
      "metadata": {
        "id": "7b5c7d92"
      },
      "outputs": [],
      "source": [
        "# Import libraries\n",
        "import pandas as pd\n",
        "import numpy as np\n",
        "import tensorflow as tf\n",
        "from tensorflow.keras.models import Sequential\n",
        "from tensorflow.keras.layers import Dense, Dropout\n",
        "from tensorflow.keras.optimizers import Adam\n",
        "from tensorflow.keras.utils import to_categorical\n",
        "from tensorflow.keras.layers import Input\n",
        "from tensorflow.keras.models import Model\n",
        "from search_param.grid_search import read_data, grid_search, rand_search\n",
        "from sklearn.preprocessing import LabelEncoder\n",
        "from sklearn.model_selection import KFold\n",
        "from keras_tuner import RandomSearch"
      ]
    },
    {
      "cell_type": "markdown",
      "id": "ff94689a",
      "metadata": {
        "id": "ff94689a"
      },
      "source": [
        "## Load dataset"
      ]
    },
    {
      "cell_type": "code",
      "execution_count": 2,
      "id": "ec509956",
      "metadata": {
        "colab": {
          "base_uri": "https://localhost:8080/",
          "height": 428
        },
        "id": "ec509956",
        "outputId": "0e323c39-9126-4b85-d3f8-a8b891ffe8cf"
      },
      "outputs": [],
      "source": [
        "X_train_sc, X_val_sc, X_train_pca, X_val_pca, X_train_lda, X_val_lda, y_train, y_val = read_data()\n",
        "y_train = y_train[0].values\n",
        "y_val = y_val[0].values"
      ]
    },
    {
      "cell_type": "markdown",
      "id": "xDDhjqWqq49H",
      "metadata": {
        "id": "xDDhjqWqq49H"
      },
      "source": [
        "## Neural Network"
      ]
    },
    {
      "cell_type": "code",
      "execution_count": 3,
      "id": "GGJA5PV9twjw",
      "metadata": {
        "id": "GGJA5PV9twjw"
      },
      "outputs": [],
      "source": [
        "# Initialize the LabelEncoder\n",
        "label_encoder = LabelEncoder()\n",
        "\n",
        "# Fit label encoder and return encoded labels\n",
        "y_train_encoded = label_encoder.fit_transform(y_train)\n",
        "y_val_encoded = label_encoder.transform(y_val)\n",
        "\n",
        "# Convert labels to one-hot encoding\n",
        "y_train_onehot = to_categorical(y_train_encoded)\n",
        "y_val_onehot = to_categorical(y_val_encoded)"
      ]
    },
    {
      "cell_type": "markdown",
      "id": "2Ub7Qb_HfvaK",
      "metadata": {
        "id": "2Ub7Qb_HfvaK"
      },
      "source": [
        "### Tuning parameters"
      ]
    },
    {
      "cell_type": "code",
      "execution_count": 4,
      "id": "ovO2Ep5PfxqH",
      "metadata": {
        "id": "ovO2Ep5PfxqH"
      },
      "outputs": [],
      "source": [
        "def create_model(n_layers=3, activation='relu', leanring_rate=0.01, dropout=0.5):\n",
        "    inputs = Input(shape=(518,))\n",
        "    x = inputs\n",
        "    for _ in range(n_layers):\n",
        "        x = Dense(256, activation=activation)(x)\n",
        "        x = Dropout(dropout)(x)\n",
        "    outputs = Dense(8, activation='softmax')(x)  # Assuming 8 classes\n",
        "    model = Model(inputs=inputs, outputs=outputs)\n",
        "    model.compile(optimizer=Adam(learning_rate=leanring_rate),\n",
        "                  loss='categorical_crossentropy',\n",
        "                  metrics=['accuracy'])\n",
        "    return model"
      ]
    },
    {
      "cell_type": "code",
      "execution_count": 5,
      "id": "vKYLHk5Jf6hI",
      "metadata": {
        "id": "vKYLHk5Jf6hI"
      },
      "outputs": [],
      "source": [
        "n_splits = 5  # For example, 5-fold cross-validation\n",
        "kf = KFold(n_splits=n_splits, shuffle=True, random_state=42)"
      ]
    },
    {
      "cell_type": "code",
      "execution_count": 6,
      "id": "wMPWSz3CgfRS",
      "metadata": {
        "colab": {
          "base_uri": "https://localhost:8080/"
        },
        "id": "wMPWSz3CgfRS",
        "outputId": "d5cbe997-3289-47ea-a18f-e043e16f76c3"
      },
      "outputs": [
        {
          "name": "stdout",
          "output_type": "stream",
          "text": [
            "Reloading Tuner from my_dir\\hparam_tuning\\tuner0.json\n"
          ]
        }
      ],
      "source": [
        "def build_model(hp):\n",
        "    model = Sequential()\n",
        "    model.add(Dense(units=hp.Int('units', min_value=32, max_value=518, step=32),\n",
        "                    activation=hp.Choice('activation', values=['relu', 'softplus', 'tanh', 'sigmoid']),\n",
        "                    input_shape=(518,)))  # Ensure this matches your feature size\n",
        "    # Use hp.Choice to select the dropout rate\n",
        "    model.add(Dropout(rate=hp.Float('dropout_0', min_value=0.0, max_value=0.5, step=0.05)))\n",
        "\n",
        "    for i in range(hp.Int('layers', 1, 5)):\n",
        "        model.add(Dense(units=hp.Int(f'units_{i}', min_value=32, max_value=518, step=32),\n",
        "                        activation=hp.Choice(f'activation_{i}', values=['relu', 'softplus', 'tanh', 'sigmoid'])))\n",
        "        # Use hp.Choice for each layer's dropout rate\n",
        "        model.add(Dropout(rate=hp.Float(f'dropout_{i+1}',  min_value=0.0, max_value=0.5, step=0.05)))\n",
        "\n",
        "    model.add(Dense(8, activation='softmax'))  # Adjust the number of units based on your number of classes\n",
        "    model.compile(optimizer=\"adam\", loss='categorical_crossentropy', metrics=['accuracy'])\n",
        "    return model\n",
        "\n",
        "\n",
        "tuner = RandomSearch(\n",
        "    build_model,\n",
        "    objective='val_accuracy',\n",
        "    max_trials=5,  # Set smaller during experimentation\n",
        "    executions_per_trial=1,  # Increase for more robust results\n",
        "    directory='my_dir',\n",
        "    project_name='hparam_tuning'\n",
        ")"
      ]
    },
    {
      "cell_type": "code",
      "execution_count": 8,
      "id": "f3492555",
      "metadata": {},
      "outputs": [
        {
          "name": "stdout",
          "output_type": "stream",
          "text": [
            "Trial 5 Complete [00h 00m 14s]\n",
            "val_accuracy: 0.5774999856948853\n",
            "\n",
            "Best val_accuracy So Far: 0.590833306312561\n",
            "Total elapsed time: 00h 06m 24s\n"
          ]
        }
      ],
      "source": [
        "# Use a lower number of epochs for the search phase\n",
        "tuner.search(X_train_sc, y_train_onehot, epochs=20, validation_data=(X_val_sc, y_val_onehot))"
      ]
    },
    {
      "cell_type": "code",
      "execution_count": 10,
      "id": "rF2sNknjqnrL",
      "metadata": {
        "colab": {
          "base_uri": "https://localhost:8080/"
        },
        "id": "rF2sNknjqnrL",
        "outputId": "6b3220ae-70cd-4dc0-9e04-01e55ccd58a4"
      },
      "outputs": [
        {
          "data": {
            "text/html": [
              "<pre style=\"white-space:pre;overflow-x:auto;line-height:normal;font-family:Menlo,'DejaVu Sans Mono',consolas,'Courier New',monospace\"><span style=\"font-weight: bold\">Model: \"sequential\"</span>\n",
              "</pre>\n"
            ],
            "text/plain": [
              "\u001b[1mModel: \"sequential\"\u001b[0m\n"
            ]
          },
          "metadata": {},
          "output_type": "display_data"
        },
        {
          "data": {
            "text/html": [
              "<pre style=\"white-space:pre;overflow-x:auto;line-height:normal;font-family:Menlo,'DejaVu Sans Mono',consolas,'Courier New',monospace\">┏━━━━━━━━━━━━━━━━━━━━━━━━━━━━━━━━━┳━━━━━━━━━━━━━━━━━━━━━━━━┳━━━━━━━━━━━━━━━┓\n",
              "┃<span style=\"font-weight: bold\"> Layer (type)                    </span>┃<span style=\"font-weight: bold\"> Output Shape           </span>┃<span style=\"font-weight: bold\">       Param # </span>┃\n",
              "┡━━━━━━━━━━━━━━━━━━━━━━━━━━━━━━━━━╇━━━━━━━━━━━━━━━━━━━━━━━━╇━━━━━━━━━━━━━━━┩\n",
              "│ dense (<span style=\"color: #0087ff; text-decoration-color: #0087ff\">Dense</span>)                   │ (<span style=\"color: #00d7ff; text-decoration-color: #00d7ff\">None</span>, <span style=\"color: #00af00; text-decoration-color: #00af00\">192</span>)            │        <span style=\"color: #00af00; text-decoration-color: #00af00\">99,648</span> │\n",
              "├─────────────────────────────────┼────────────────────────┼───────────────┤\n",
              "│ dropout (<span style=\"color: #0087ff; text-decoration-color: #0087ff\">Dropout</span>)               │ (<span style=\"color: #00d7ff; text-decoration-color: #00d7ff\">None</span>, <span style=\"color: #00af00; text-decoration-color: #00af00\">192</span>)            │             <span style=\"color: #00af00; text-decoration-color: #00af00\">0</span> │\n",
              "├─────────────────────────────────┼────────────────────────┼───────────────┤\n",
              "│ dense_1 (<span style=\"color: #0087ff; text-decoration-color: #0087ff\">Dense</span>)                 │ (<span style=\"color: #00d7ff; text-decoration-color: #00d7ff\">None</span>, <span style=\"color: #00af00; text-decoration-color: #00af00\">32</span>)             │         <span style=\"color: #00af00; text-decoration-color: #00af00\">6,176</span> │\n",
              "├─────────────────────────────────┼────────────────────────┼───────────────┤\n",
              "│ dropout_1 (<span style=\"color: #0087ff; text-decoration-color: #0087ff\">Dropout</span>)             │ (<span style=\"color: #00d7ff; text-decoration-color: #00d7ff\">None</span>, <span style=\"color: #00af00; text-decoration-color: #00af00\">32</span>)             │             <span style=\"color: #00af00; text-decoration-color: #00af00\">0</span> │\n",
              "├─────────────────────────────────┼────────────────────────┼───────────────┤\n",
              "│ dense_2 (<span style=\"color: #0087ff; text-decoration-color: #0087ff\">Dense</span>)                 │ (<span style=\"color: #00d7ff; text-decoration-color: #00d7ff\">None</span>, <span style=\"color: #00af00; text-decoration-color: #00af00\">480</span>)            │        <span style=\"color: #00af00; text-decoration-color: #00af00\">15,840</span> │\n",
              "├─────────────────────────────────┼────────────────────────┼───────────────┤\n",
              "│ dropout_2 (<span style=\"color: #0087ff; text-decoration-color: #0087ff\">Dropout</span>)             │ (<span style=\"color: #00d7ff; text-decoration-color: #00d7ff\">None</span>, <span style=\"color: #00af00; text-decoration-color: #00af00\">480</span>)            │             <span style=\"color: #00af00; text-decoration-color: #00af00\">0</span> │\n",
              "├─────────────────────────────────┼────────────────────────┼───────────────┤\n",
              "│ dense_3 (<span style=\"color: #0087ff; text-decoration-color: #0087ff\">Dense</span>)                 │ (<span style=\"color: #00d7ff; text-decoration-color: #00d7ff\">None</span>, <span style=\"color: #00af00; text-decoration-color: #00af00\">512</span>)            │       <span style=\"color: #00af00; text-decoration-color: #00af00\">246,272</span> │\n",
              "├─────────────────────────────────┼────────────────────────┼───────────────┤\n",
              "│ dropout_3 (<span style=\"color: #0087ff; text-decoration-color: #0087ff\">Dropout</span>)             │ (<span style=\"color: #00d7ff; text-decoration-color: #00d7ff\">None</span>, <span style=\"color: #00af00; text-decoration-color: #00af00\">512</span>)            │             <span style=\"color: #00af00; text-decoration-color: #00af00\">0</span> │\n",
              "├─────────────────────────────────┼────────────────────────┼───────────────┤\n",
              "│ dense_4 (<span style=\"color: #0087ff; text-decoration-color: #0087ff\">Dense</span>)                 │ (<span style=\"color: #00d7ff; text-decoration-color: #00d7ff\">None</span>, <span style=\"color: #00af00; text-decoration-color: #00af00\">8</span>)              │         <span style=\"color: #00af00; text-decoration-color: #00af00\">4,104</span> │\n",
              "└─────────────────────────────────┴────────────────────────┴───────────────┘\n",
              "</pre>\n"
            ],
            "text/plain": [
              "┏━━━━━━━━━━━━━━━━━━━━━━━━━━━━━━━━━┳━━━━━━━━━━━━━━━━━━━━━━━━┳━━━━━━━━━━━━━━━┓\n",
              "┃\u001b[1m \u001b[0m\u001b[1mLayer (type)                   \u001b[0m\u001b[1m \u001b[0m┃\u001b[1m \u001b[0m\u001b[1mOutput Shape          \u001b[0m\u001b[1m \u001b[0m┃\u001b[1m \u001b[0m\u001b[1m      Param #\u001b[0m\u001b[1m \u001b[0m┃\n",
              "┡━━━━━━━━━━━━━━━━━━━━━━━━━━━━━━━━━╇━━━━━━━━━━━━━━━━━━━━━━━━╇━━━━━━━━━━━━━━━┩\n",
              "│ dense (\u001b[38;5;33mDense\u001b[0m)                   │ (\u001b[38;5;45mNone\u001b[0m, \u001b[38;5;34m192\u001b[0m)            │        \u001b[38;5;34m99,648\u001b[0m │\n",
              "├─────────────────────────────────┼────────────────────────┼───────────────┤\n",
              "│ dropout (\u001b[38;5;33mDropout\u001b[0m)               │ (\u001b[38;5;45mNone\u001b[0m, \u001b[38;5;34m192\u001b[0m)            │             \u001b[38;5;34m0\u001b[0m │\n",
              "├─────────────────────────────────┼────────────────────────┼───────────────┤\n",
              "│ dense_1 (\u001b[38;5;33mDense\u001b[0m)                 │ (\u001b[38;5;45mNone\u001b[0m, \u001b[38;5;34m32\u001b[0m)             │         \u001b[38;5;34m6,176\u001b[0m │\n",
              "├─────────────────────────────────┼────────────────────────┼───────────────┤\n",
              "│ dropout_1 (\u001b[38;5;33mDropout\u001b[0m)             │ (\u001b[38;5;45mNone\u001b[0m, \u001b[38;5;34m32\u001b[0m)             │             \u001b[38;5;34m0\u001b[0m │\n",
              "├─────────────────────────────────┼────────────────────────┼───────────────┤\n",
              "│ dense_2 (\u001b[38;5;33mDense\u001b[0m)                 │ (\u001b[38;5;45mNone\u001b[0m, \u001b[38;5;34m480\u001b[0m)            │        \u001b[38;5;34m15,840\u001b[0m │\n",
              "├─────────────────────────────────┼────────────────────────┼───────────────┤\n",
              "│ dropout_2 (\u001b[38;5;33mDropout\u001b[0m)             │ (\u001b[38;5;45mNone\u001b[0m, \u001b[38;5;34m480\u001b[0m)            │             \u001b[38;5;34m0\u001b[0m │\n",
              "├─────────────────────────────────┼────────────────────────┼───────────────┤\n",
              "│ dense_3 (\u001b[38;5;33mDense\u001b[0m)                 │ (\u001b[38;5;45mNone\u001b[0m, \u001b[38;5;34m512\u001b[0m)            │       \u001b[38;5;34m246,272\u001b[0m │\n",
              "├─────────────────────────────────┼────────────────────────┼───────────────┤\n",
              "│ dropout_3 (\u001b[38;5;33mDropout\u001b[0m)             │ (\u001b[38;5;45mNone\u001b[0m, \u001b[38;5;34m512\u001b[0m)            │             \u001b[38;5;34m0\u001b[0m │\n",
              "├─────────────────────────────────┼────────────────────────┼───────────────┤\n",
              "│ dense_4 (\u001b[38;5;33mDense\u001b[0m)                 │ (\u001b[38;5;45mNone\u001b[0m, \u001b[38;5;34m8\u001b[0m)              │         \u001b[38;5;34m4,104\u001b[0m │\n",
              "└─────────────────────────────────┴────────────────────────┴───────────────┘\n"
            ]
          },
          "metadata": {},
          "output_type": "display_data"
        },
        {
          "data": {
            "text/html": [
              "<pre style=\"white-space:pre;overflow-x:auto;line-height:normal;font-family:Menlo,'DejaVu Sans Mono',consolas,'Courier New',monospace\"><span style=\"font-weight: bold\"> Total params: </span><span style=\"color: #00af00; text-decoration-color: #00af00\">372,040</span> (1.42 MB)\n",
              "</pre>\n"
            ],
            "text/plain": [
              "\u001b[1m Total params: \u001b[0m\u001b[38;5;34m372,040\u001b[0m (1.42 MB)\n"
            ]
          },
          "metadata": {},
          "output_type": "display_data"
        },
        {
          "data": {
            "text/html": [
              "<pre style=\"white-space:pre;overflow-x:auto;line-height:normal;font-family:Menlo,'DejaVu Sans Mono',consolas,'Courier New',monospace\"><span style=\"font-weight: bold\"> Trainable params: </span><span style=\"color: #00af00; text-decoration-color: #00af00\">372,040</span> (1.42 MB)\n",
              "</pre>\n"
            ],
            "text/plain": [
              "\u001b[1m Trainable params: \u001b[0m\u001b[38;5;34m372,040\u001b[0m (1.42 MB)\n"
            ]
          },
          "metadata": {},
          "output_type": "display_data"
        },
        {
          "data": {
            "text/html": [
              "<pre style=\"white-space:pre;overflow-x:auto;line-height:normal;font-family:Menlo,'DejaVu Sans Mono',consolas,'Courier New',monospace\"><span style=\"font-weight: bold\"> Non-trainable params: </span><span style=\"color: #00af00; text-decoration-color: #00af00\">0</span> (0.00 B)\n",
              "</pre>\n"
            ],
            "text/plain": [
              "\u001b[1m Non-trainable params: \u001b[0m\u001b[38;5;34m0\u001b[0m (0.00 B)\n"
            ]
          },
          "metadata": {},
          "output_type": "display_data"
        }
      ],
      "source": [
        "# Get the best model\n",
        "sc_best = tuner.get_best_models(num_models=1)[0]\n",
        "sc_best.summary()"
      ]
    },
    {
      "cell_type": "code",
      "execution_count": 13,
      "id": "yrrlwJSROVUz",
      "metadata": {
        "id": "yrrlwJSROVUz"
      },
      "outputs": [],
      "source": [
        "# Save the best model to a file\n",
        "sc_best.save('search_nn/sc_best.keras')"
      ]
    },
    {
      "cell_type": "code",
      "execution_count": 14,
      "id": "QA5nfAs7QCl_",
      "metadata": {
        "colab": {
          "base_uri": "https://localhost:8080/"
        },
        "id": "QA5nfAs7QCl_",
        "outputId": "39480442-9107-4f7e-be5c-334fc269fcad"
      },
      "outputs": [
        {
          "name": "stdout",
          "output_type": "stream",
          "text": [
            "Layer: dense, Activation Function: relu\n",
            "Layer: dropout, No activation function\n",
            "Layer: dense_1, Activation Function: sigmoid\n",
            "Layer: dropout_1, No activation function\n",
            "Layer: dense_2, Activation Function: relu\n",
            "Layer: dropout_2, No activation function\n",
            "Layer: dense_3, Activation Function: softplus\n",
            "Layer: dropout_3, No activation function\n",
            "Layer: dense_4, Activation Function: softmax\n"
          ]
        }
      ],
      "source": [
        "for layer in sc_best.layers:\n",
        "    config = layer.get_config()  # Get the layer's configuration dict\n",
        "    # The 'activation' key in the config dict contains the activation function name\n",
        "    if 'activation' in config:\n",
        "        print(f\"Layer: {layer.name}, Activation Function: {config['activation']}\")\n",
        "    else:\n",
        "        print(f\"Layer: {layer.name}, No activation function\")\n"
      ]
    },
    {
      "cell_type": "code",
      "execution_count": 15,
      "id": "36e38e01",
      "metadata": {},
      "outputs": [
        {
          "name": "stdout",
          "output_type": "stream",
          "text": [
            "Layer Type: DENSE\n",
            "  - Units: 192\n",
            "  - Activation: relu\n",
            "Layer Type: DROPOUT\n",
            "  - Rate: 0.25\n",
            "Layer Type: DENSE\n",
            "  - Units: 32\n",
            "  - Activation: sigmoid\n",
            "Layer Type: DROPOUT\n",
            "  - Rate: 0.35000000000000003\n",
            "Layer Type: DENSE\n",
            "  - Units: 480\n",
            "  - Activation: relu\n",
            "Layer Type: DROPOUT\n",
            "  - Rate: 0.45\n",
            "Layer Type: DENSE\n",
            "  - Units: 512\n",
            "  - Activation: softplus\n",
            "Layer Type: DROPOUT\n",
            "  - Rate: 0.05\n",
            "Layer Type: DENSE\n",
            "  - Units: 8\n",
            "  - Activation: softmax\n"
          ]
        }
      ],
      "source": [
        "for layer in sc_best.layers:\n",
        "    config = layer.get_config()  # Extract the layer configuration as a dictionary\n",
        "    layer_type = config['name'].split('_')[0]  # Get the type of layer (e.g., \"dense\", \"dropout\")\n",
        "    \n",
        "    # Print layer type and configuration\n",
        "    print(f\"Layer Type: {layer_type.upper()}\")\n",
        "    if layer_type == 'dense':\n",
        "        print(f\"  - Units: {config['units']}\")\n",
        "        print(f\"  - Activation: {config['activation']}\")\n",
        "    elif layer_type == 'dropout':\n",
        "        print(f\"  - Rate: {config['rate']}\")"
      ]
    },
    {
      "cell_type": "code",
      "execution_count": 16,
      "id": "7435a470",
      "metadata": {},
      "outputs": [
        {
          "name": "stdout",
          "output_type": "stream",
          "text": [
            "\u001b[1m38/38\u001b[0m \u001b[32m━━━━━━━━━━━━━━━━━━━━\u001b[0m\u001b[37m\u001b[0m \u001b[1m0s\u001b[0m 1ms/step - accuracy: 0.6166 - loss: 1.2509  \n",
            "Test Accuracy: 0.5908\n"
          ]
        }
      ],
      "source": [
        "test_loss, test_acc = best_model.evaluate(X_val_sc, y_val_onehot)\n",
        "print(f\"Test Accuracy: {test_acc:.4f}\")"
      ]
    },
    {
      "cell_type": "markdown",
      "id": "94c1156a",
      "metadata": {},
      "source": [
        "***\n",
        "Here"
      ]
    },
    {
      "cell_type": "markdown",
      "id": "7e36f83a",
      "metadata": {},
      "source": [
        "## LDA with NN"
      ]
    },
    {
      "cell_type": "code",
      "execution_count": 17,
      "id": "145bb67d",
      "metadata": {},
      "outputs": [],
      "source": [
        "from sklearn.discriminant_analysis import LinearDiscriminantAnalysis as LDA\n",
        "from sklearn.model_selection import cross_val_score\n",
        "# Split the dataset into training and validation sets (using y_train_encoded since LDA does not use one-hot encoding)\n",
        "X_training_l, X_val_l, y_training_l, y_val_l = train_test_split(X_scaled, y_train_encoded, test_size=0.2, random_state=42)\n",
        "\n",
        "# Apply LDA for dimensionality reduction\n",
        "lda = LDA(n_components=None)  # n_components=None for using the maximum number of components less than the number of classes\n",
        "X_training_lda = lda.fit_transform(X_training_l, y_training_l)\n",
        "X_val_lda = lda.transform(X_val_l)\n",
        "\n",
        "# Assuming y_train_encoded is your original label-encoded target array\n",
        "y_training_l_onehot = to_categorical(y_training_l, num_classes=8)\n",
        "y_val_l_onehot = to_categorical(y_val_l, num_classes=8)\n",
        "\n"
      ]
    },
    {
      "cell_type": "code",
      "execution_count": 18,
      "id": "171d1f9c",
      "metadata": {},
      "outputs": [
        {
          "name": "stdout",
          "output_type": "stream",
          "text": [
            "Trial 10 Complete [00h 00m 10s]\n",
            "val_accuracy: 0.54666668176651\n",
            "\n",
            "Best val_accuracy So Far: 0.5616666674613953\n",
            "Total elapsed time: 00h 02m 03s\n"
          ]
        }
      ],
      "source": [
        "def build_model(hp):\n",
        "    model = Sequential()\n",
        "    # Dynamically set the input shape based on LDA's output\n",
        "    input_shape = (X_training_lda.shape[1],)  # Use the feature size from LDA transformation\n",
        "\n",
        "    model.add(Dense(units=hp.Int('units', min_value=32, max_value=518, step=32),\n",
        "                    activation=hp.Choice('activation', values=['relu', 'softplus', 'tanh', 'sigmoid']),\n",
        "                    input_shape=input_shape))  # Adjusted to the dynamic input shape\n",
        "\n",
        "    model.add(Dropout(rate=hp.Float('dropout_0', min_value=0.0, max_value=0.5, step=0.05)))\n",
        "\n",
        "    for i in range(hp.Int('layers', 1, 5)):\n",
        "        model.add(Dense(units=hp.Int(f'units_{i}', min_value=32, max_value=518, step=32),\n",
        "                        activation=hp.Choice(f'activation_{i}', values=['relu', 'softplus', 'tanh', 'sigmoid'])))\n",
        "        model.add(Dropout(rate=hp.Float(f'dropout_{i+1}',  min_value=0.0, max_value=0.5, step=0.05)))\n",
        "\n",
        "    model.add(Dense(8, activation='softmax'))  # Assuming 8 classes, adjust as necessary\n",
        "    model.compile(optimizer=\"adam\", loss='categorical_crossentropy', metrics=['accuracy'])\n",
        "    return model\n",
        "\n",
        "\n",
        "import shutil\n",
        "\n",
        "# Be careful with this operation to avoid deleting important data\n",
        "shutil.rmtree('my_dir/hparam_tuning')\n",
        "\n",
        "# Now, create a new tuner instance as before\n",
        "tuner1 = RandomSearch(\n",
        "    build_model,\n",
        "    objective='val_accuracy',\n",
        "    executions_per_trial=1,\n",
        "    directory='my_dir',\n",
        "    project_name='hparam_tuning'  # The same project name can be reused after deletion\n",
        ")\n",
        "\n",
        "\n",
        "\n",
        "tuner1.search(X_training_lda, y_training_l_onehot, epochs=20, validation_data=(X_val_lda, y_val_l_onehot))  # Use a lower number of epochs for the search phase"
      ]
    },
    {
      "cell_type": "code",
      "execution_count": 19,
      "id": "ba135888",
      "metadata": {},
      "outputs": [
        {
          "name": "stdout",
          "output_type": "stream",
          "text": [
            "Model: \"sequential\"\n",
            "_________________________________________________________________\n",
            " Layer (type)                Output Shape              Param #   \n",
            "=================================================================\n",
            " dense (Dense)               (None, 96)                768       \n",
            "                                                                 \n",
            " dropout (Dropout)           (None, 96)                0         \n",
            "                                                                 \n",
            " dense_1 (Dense)             (None, 224)               21728     \n",
            "                                                                 \n",
            " dropout_1 (Dropout)         (None, 224)               0         \n",
            "                                                                 \n",
            " dense_2 (Dense)             (None, 352)               79200     \n",
            "                                                                 \n",
            " dropout_2 (Dropout)         (None, 352)               0         \n",
            "                                                                 \n",
            " dense_3 (Dense)             (None, 32)                11296     \n",
            "                                                                 \n",
            " dropout_3 (Dropout)         (None, 32)                0         \n",
            "                                                                 \n",
            " dense_4 (Dense)             (None, 32)                1056      \n",
            "                                                                 \n",
            " dropout_4 (Dropout)         (None, 32)                0         \n",
            "                                                                 \n",
            " dense_5 (Dense)             (None, 32)                1056      \n",
            "                                                                 \n",
            " dropout_5 (Dropout)         (None, 32)                0         \n",
            "                                                                 \n",
            " dense_6 (Dense)             (None, 8)                 264       \n",
            "                                                                 \n",
            "=================================================================\n",
            "Total params: 115,368\n",
            "Trainable params: 115,368\n",
            "Non-trainable params: 0\n",
            "_________________________________________________________________\n"
          ]
        }
      ],
      "source": [
        "# Get the best model\n",
        "best_model_lda= tuner1.get_best_models(num_models=1)[0]\n",
        "best_model_lda.summary()"
      ]
    },
    {
      "cell_type": "code",
      "execution_count": 20,
      "id": "eaf21568",
      "metadata": {},
      "outputs": [
        {
          "name": "stdout",
          "output_type": "stream",
          "text": [
            "38/38 [==============================] - 0s 2ms/step - loss: 1.3809 - accuracy: 0.5617\n",
            "Test Accuracy: 0.5617\n"
          ]
        }
      ],
      "source": [
        "test_loss, test_acc = best_model_lda.evaluate(X_val_lda,y_val_l_onehot)\n",
        "print(f\"Test Accuracy: {test_acc:.4f}\")"
      ]
    },
    {
      "cell_type": "code",
      "execution_count": 54,
      "id": "e059d05d",
      "metadata": {},
      "outputs": [
        {
          "name": "stdout",
          "output_type": "stream",
          "text": [
            "LDA Classification Accuracy: 0.555\n"
          ]
        }
      ],
      "source": [
        "# Fit LDA as a classifier\n",
        "#lda_classifier = LDA()\n",
        "\n",
        "#scores = cross_val_score(lda, X_training_l, y_training_l, cv=5)\n",
        "#lda_classifier.fit(X_training_l, y_training_l)\n",
        "#lda.fit(X_training_l, y_training_l)\n",
        "\n",
        "# Make predictions on the validation set\n",
        "#y_pred = lda_classifier.predict(X_val_l)\n",
        "\n",
        "# Evaluate the classifier\n",
        "#from sklearn.metrics import accuracy_score#\n",
        "#print(\"LDA Classification Accuracy:\", accuracy_score(y_val_l, y_pred))"
      ]
    },
    {
      "cell_type": "code",
      "execution_count": 21,
      "id": "793fbe68",
      "metadata": {},
      "outputs": [
        {
          "name": "stdout",
          "output_type": "stream",
          "text": [
            "Layer Type: DENSE\n",
            "  - Units: 96\n",
            "  - Activation: softplus\n",
            "Layer Type: DROPOUT\n",
            "  - Rate: 0.1\n",
            "Layer Type: DENSE\n",
            "  - Units: 224\n",
            "  - Activation: tanh\n",
            "Layer Type: DROPOUT\n",
            "  - Rate: 0.45\n",
            "Layer Type: DENSE\n",
            "  - Units: 352\n",
            "  - Activation: softplus\n",
            "Layer Type: DROPOUT\n",
            "  - Rate: 0.35000000000000003\n",
            "Layer Type: DENSE\n",
            "  - Units: 32\n",
            "  - Activation: relu\n",
            "Layer Type: DROPOUT\n",
            "  - Rate: 0.0\n",
            "Layer Type: DENSE\n",
            "  - Units: 32\n",
            "  - Activation: relu\n",
            "Layer Type: DROPOUT\n",
            "  - Rate: 0.0\n",
            "Layer Type: DENSE\n",
            "  - Units: 32\n",
            "  - Activation: relu\n",
            "Layer Type: DROPOUT\n",
            "  - Rate: 0.0\n",
            "Layer Type: DENSE\n",
            "  - Units: 8\n",
            "  - Activation: softmax\n"
          ]
        }
      ],
      "source": [
        "for layer in best_model_lda.layers:\n",
        "    config = layer.get_config()  # Extract the layer configuration as a dictionary\n",
        "    layer_type = config['name'].split('_')[0]  # Get the type of layer (e.g., \"dense\", \"dropout\")\n",
        "    \n",
        "    # Print layer type and configuration\n",
        "    print(f\"Layer Type: {layer_type.upper()}\")\n",
        "    if layer_type == 'dense':\n",
        "        print(f\"  - Units: {config['units']}\")\n",
        "        print(f\"  - Activation: {config['activation']}\")\n",
        "    elif layer_type == 'dropout':\n",
        "        print(f\"  - Rate: {config['rate']}\")"
      ]
    },
    {
      "cell_type": "markdown",
      "id": "13081026",
      "metadata": {},
      "source": [
        "## PCA with NN"
      ]
    },
    {
      "cell_type": "code",
      "execution_count": 22,
      "id": "424459ea",
      "metadata": {},
      "outputs": [
        {
          "name": "stdout",
          "output_type": "stream",
          "text": [
            "Trial 10 Complete [00h 00m 08s]\n",
            "val_accuracy: 0.596666693687439\n",
            "\n",
            "Best val_accuracy So Far: 0.596666693687439\n",
            "Total elapsed time: 00h 02m 01s\n"
          ]
        }
      ],
      "source": [
        "from sklearn.decomposition import PCA\n",
        "# Apply PCA for dimensionality reduction\n",
        "pca = PCA(n_components=100)  # Select top 100 components\n",
        "X_training_pca = pca.fit_transform(X_training)\n",
        "X_val_pca = pca.transform(X_val)\n",
        "\n",
        "\n",
        "def build_model_pca(hp):\n",
        "    model = Sequential()\n",
        "    model.add(Dense(units=hp.Int('units', min_value=32, max_value=518, step=32),\n",
        "                    activation=hp.Choice('activation', values=['relu', 'softplus', 'tanh', 'sigmoid']),\n",
        "                    input_shape=(100,)))  # Adjusted to match PCA output\n",
        "    model.add(Dropout(rate=hp.Float('dropout_0', min_value=0.0, max_value=0.5, step=0.05)))\n",
        "\n",
        "    for i in range(hp.Int('layers', 1, 5)):\n",
        "        model.add(Dense(units=hp.Int(f'units_{i}', min_value=32, max_value=518, step=32),\n",
        "                        activation=hp.Choice(f'activation_{i}', values=['relu', 'softplus', 'tanh', 'sigmoid'])))\n",
        "        model.add(Dropout(rate=hp.Float(f'dropout_{i+1}',  min_value=0.0, max_value=0.5, step=0.05)))\n",
        "\n",
        "    model.add(Dense(8, activation='softmax'))  # Assuming 8 classes, adjust as necessary\n",
        "    model.compile(optimizer=\"adam\", loss='categorical_crossentropy', metrics=['accuracy'])\n",
        "    return model\n",
        "\n",
        "\n",
        "import shutil\n",
        "\n",
        "# Be careful with this operation to avoid deleting important data\n",
        "shutil.rmtree('my_dir/hparam_tuning')\n",
        "\n",
        "# Now, create a new tuner instance as before\n",
        "tuner2 = RandomSearch(\n",
        "    build_model_pca,\n",
        "    objective='val_accuracy',\n",
        "    executions_per_trial=1,\n",
        "    directory='my_dir',\n",
        "    project_name='hparam_tuning'  # The same project name can be reused after deletion\n",
        ")\n",
        "\n",
        "\n",
        "\n",
        "tuner2.search(X_training_pca, y_training, epochs=20, validation_data=(X_val_pca, y_val))    "
      ]
    },
    {
      "cell_type": "code",
      "execution_count": 23,
      "id": "141519db",
      "metadata": {},
      "outputs": [
        {
          "name": "stdout",
          "output_type": "stream",
          "text": [
            "Model: \"sequential\"\n",
            "_________________________________________________________________\n",
            " Layer (type)                Output Shape              Param #   \n",
            "=================================================================\n",
            " dense (Dense)               (None, 320)               32320     \n",
            "                                                                 \n",
            " dropout (Dropout)           (None, 320)               0         \n",
            "                                                                 \n",
            " dense_1 (Dense)             (None, 96)                30816     \n",
            "                                                                 \n",
            " dropout_1 (Dropout)         (None, 96)                0         \n",
            "                                                                 \n",
            " dense_2 (Dense)             (None, 8)                 776       \n",
            "                                                                 \n",
            "=================================================================\n",
            "Total params: 63,912\n",
            "Trainable params: 63,912\n",
            "Non-trainable params: 0\n",
            "_________________________________________________________________\n"
          ]
        }
      ],
      "source": [
        "# Get the best model\n",
        "best_model_pca = tuner2.get_best_models(num_models=1)[0]\n",
        "best_model_pca.summary()"
      ]
    },
    {
      "cell_type": "code",
      "execution_count": 24,
      "id": "17a4b59b",
      "metadata": {},
      "outputs": [
        {
          "name": "stdout",
          "output_type": "stream",
          "text": [
            "38/38 [==============================] - 0s 2ms/step - loss: 1.4217 - accuracy: 0.5967\n",
            "Test Accuracy: 0.5967\n"
          ]
        }
      ],
      "source": [
        "test_loss, test_acc = best_model_pca.evaluate(X_val_pca,y_val)\n",
        "print(f\"Test Accuracy: {test_acc:.4f}\")"
      ]
    },
    {
      "cell_type": "code",
      "execution_count": 33,
      "id": "07b5f7d8",
      "metadata": {},
      "outputs": [
        {
          "name": "stdout",
          "output_type": "stream",
          "text": [
            "Best trial ID: 09\n"
          ]
        }
      ],
      "source": [
        "best_trial = tuner2.oracle.get_best_trials(num_trials=1)[0]\n",
        "print(\"Best trial ID:\", best_trial.trial_id)"
      ]
    },
    {
      "cell_type": "code",
      "execution_count": 39,
      "id": "c6588a1c",
      "metadata": {},
      "outputs": [
        {
          "data": {
            "text/plain": [
              "0.596666693687439"
            ]
          },
          "execution_count": 39,
          "metadata": {},
          "output_type": "execute_result"
        }
      ],
      "source": [
        "#best_hps = tuner2.oracle.get_best_trials(num_trials=1)[0].hyperparameters.values\n",
        "best_hps = tuner2.get_best_hyperparameters(num_trials=1)[0]\n",
        "best_trial = tuner2.oracle.get_best_trials(num_trials=1)[0]\n",
        "performance_scores= tuner2.oracle.get_trial(best_trial.trial_id).score\n",
        "performance_scores\n"
      ]
    },
    {
      "cell_type": "markdown",
      "id": "04ce7de9",
      "metadata": {},
      "source": [
        "## Wrapper Method with NN (只是试一下 不能用)"
      ]
    },
    {
      "cell_type": "code",
      "execution_count": 25,
      "id": "15a0cf26",
      "metadata": {},
      "outputs": [],
      "source": [
        "def build_model_wrapper(hp, input_shape):\n",
        "    model = Sequential()\n",
        "    model.add(Dense(units=hp.Int('units', min_value=32, max_value=518, step=32),\n",
        "                    activation=hp.Choice('activation', values=['relu', 'softplus', 'tanh', 'sigmoid']),\n",
        "                    input_shape=input_shape))\n",
        "    model.add(Dropout(rate=hp.Float('dropout_0', min_value=0.0, max_value=0.5, step=0.05)))\n",
        "    for i in range(hp.Int('layers', 1, 5)):\n",
        "        model.add(Dense(units=hp.Int(f'units_{i}', min_value=32, max_value=518, step=32),\n",
        "                        activation=hp.Choice(f'activation_{i}', values=['relu', 'softplus', 'tanh', 'sigmoid'])))\n",
        "        model.add(Dropout(rate=hp.Float(f'dropout_{i+1}',  min_value=0.0, max_value=0.5, step=0.05)))\n",
        "    model.add(Dense(8, activation='softmax'))\n",
        "    model.compile(optimizer=\"adam\", loss='categorical_crossentropy', metrics=['accuracy'])\n",
        "    return model\n"
      ]
    },
    {
      "cell_type": "code",
      "execution_count": 45,
      "id": "2834e8c6",
      "metadata": {},
      "outputs": [
        {
          "name": "stdout",
          "output_type": "stream",
          "text": [
            "Trial 5 Complete [00h 00m 16s]\n",
            "val_accuracy: 0.590833306312561\n",
            "\n",
            "Best val_accuracy So Far: 0.5950000286102295\n",
            "Total elapsed time: 00h 01m 22s\n",
            "\n",
            "Search: Running Trial #1\n",
            "\n",
            "Value             |Best Value So Far |Hyperparameter\n",
            "256               |256               |units\n",
            "sigmoid           |sigmoid           |activation\n",
            "0.05              |0.05              |dropout_0\n",
            "5                 |5                 |layers\n",
            "96                |96                |units_0\n",
            "relu              |relu              |activation_0\n",
            "0.45              |0.45              |dropout_1\n",
            "\n",
            "Epoch 1/20\n",
            "150/150 [==============================] - 1s 5ms/step - loss: 1.8512 - accuracy: 0.2744 - val_loss: 1.6246 - val_accuracy: 0.3900\n",
            "Epoch 2/20\n",
            "150/150 [==============================] - 1s 3ms/step - loss: 1.5697 - accuracy: 0.4206 - val_loss: 1.4393 - val_accuracy: 0.4908\n",
            "Epoch 3/20\n",
            "150/150 [==============================] - 1s 4ms/step - loss: 1.4229 - accuracy: 0.4806 - val_loss: 1.3735 - val_accuracy: 0.5050\n",
            "Epoch 4/20\n",
            "150/150 [==============================] - 0s 3ms/step - loss: 1.3425 - accuracy: 0.5258 - val_loss: 1.3479 - val_accuracy: 0.5258\n",
            "Epoch 5/20\n",
            "150/150 [==============================] - 0s 3ms/step - loss: 1.2727 - accuracy: 0.5500 - val_loss: 1.3367 - val_accuracy: 0.5258\n",
            "Epoch 6/20\n",
            "150/150 [==============================] - 1s 4ms/step - loss: 1.2172 - accuracy: 0.5675 - val_loss: 1.2850 - val_accuracy: 0.5483\n",
            "Epoch 7/20\n",
            "150/150 [==============================] - 1s 3ms/step - loss: 1.1459 - accuracy: 0.5981 - val_loss: 1.2873 - val_accuracy: 0.5550\n",
            "Epoch 8/20\n",
            "150/150 [==============================] - 1s 3ms/step - loss: 1.1057 - accuracy: 0.6165 - val_loss: 1.2937 - val_accuracy: 0.5542\n",
            "Epoch 9/20\n",
            "150/150 [==============================] - 1s 4ms/step - loss: 1.0805 - accuracy: 0.6275 - val_loss: 1.3182 - val_accuracy: 0.5567\n",
            "Epoch 10/20\n",
            "150/150 [==============================] - 1s 3ms/step - loss: 1.0356 - accuracy: 0.6342 - val_loss: 1.2832 - val_accuracy: 0.5592\n",
            "Epoch 11/20\n",
            "150/150 [==============================] - 1s 5ms/step - loss: 0.9904 - accuracy: 0.6600 - val_loss: 1.3115 - val_accuracy: 0.5642\n",
            "Epoch 12/20\n",
            "150/150 [==============================] - 1s 4ms/step - loss: 0.9469 - accuracy: 0.6773 - val_loss: 1.3256 - val_accuracy: 0.5650\n",
            "Epoch 13/20\n",
            "150/150 [==============================] - 1s 4ms/step - loss: 0.9105 - accuracy: 0.6773 - val_loss: 1.3944 - val_accuracy: 0.5550\n",
            "Epoch 14/20\n",
            "150/150 [==============================] - 1s 4ms/step - loss: 0.8825 - accuracy: 0.6896 - val_loss: 1.3212 - val_accuracy: 0.5550\n",
            "Epoch 15/20\n",
            "150/150 [==============================] - 1s 5ms/step - loss: 0.8399 - accuracy: 0.7119 - val_loss: 1.3555 - val_accuracy: 0.5633\n",
            "Epoch 16/20\n",
            "150/150 [==============================] - 1s 4ms/step - loss: 0.8133 - accuracy: 0.7200 - val_loss: 1.3711 - val_accuracy: 0.5800\n",
            "Epoch 17/20\n",
            "150/150 [==============================] - 1s 4ms/step - loss: 0.7811 - accuracy: 0.7242 - val_loss: 1.3960 - val_accuracy: 0.5642\n",
            "Epoch 18/20\n",
            "150/150 [==============================] - 1s 3ms/step - loss: 0.7509 - accuracy: 0.7379 - val_loss: 1.4304 - val_accuracy: 0.5550\n",
            "Epoch 19/20\n",
            " 91/150 [=================>............] - ETA: 0s - loss: 0.7186 - accuracy: 0.7510"
          ]
        },
        {
          "ename": "KeyboardInterrupt",
          "evalue": "",
          "output_type": "error",
          "traceback": [
            "\u001b[0;31m---------------------------------------------------------------------------\u001b[0m",
            "\u001b[0;31mKeyboardInterrupt\u001b[0m                         Traceback (most recent call last)",
            "Input \u001b[0;32mIn [45]\u001b[0m, in \u001b[0;36m<cell line: 5>\u001b[0;34m()\u001b[0m\n\u001b[1;32m     10\u001b[0m \u001b[38;5;66;03m# Update your tuner or model-building function here to accommodate the new shape\u001b[39;00m\n\u001b[1;32m     11\u001b[0m tuner_w \u001b[38;5;241m=\u001b[39m RandomSearch(\n\u001b[1;32m     12\u001b[0m     \u001b[38;5;28;01mlambda\u001b[39;00m hp: build_model_wrapper(hp, input_shape\u001b[38;5;241m=\u001b[39m(X_train_reduced\u001b[38;5;241m.\u001b[39mshape[\u001b[38;5;241m1\u001b[39m],)),\n\u001b[1;32m     13\u001b[0m     objective\u001b[38;5;241m=\u001b[39m\u001b[38;5;124m'\u001b[39m\u001b[38;5;124mval_accuracy\u001b[39m\u001b[38;5;124m'\u001b[39m,\n\u001b[0;32m   (...)\u001b[0m\n\u001b[1;32m     17\u001b[0m     project_name\u001b[38;5;241m=\u001b[39m\u001b[38;5;124mf\u001b[39m\u001b[38;5;124m'\u001b[39m\u001b[38;5;124mhparam_tuning_feature_\u001b[39m\u001b[38;5;132;01m{\u001b[39;00mi\u001b[38;5;132;01m}\u001b[39;00m\u001b[38;5;124m'\u001b[39m\n\u001b[1;32m     18\u001b[0m )\n\u001b[0;32m---> 20\u001b[0m \u001b[43mtuner_w\u001b[49m\u001b[38;5;241;43m.\u001b[39;49m\u001b[43msearch\u001b[49m\u001b[43m(\u001b[49m\u001b[43mX_train_reduced\u001b[49m\u001b[43m,\u001b[49m\u001b[43m \u001b[49m\u001b[43my_training\u001b[49m\u001b[43m,\u001b[49m\u001b[43m \u001b[49m\u001b[43mepochs\u001b[49m\u001b[38;5;241;43m=\u001b[39;49m\u001b[38;5;241;43m20\u001b[39;49m\u001b[43m,\u001b[49m\u001b[43m \u001b[49m\u001b[43mvalidation_data\u001b[49m\u001b[38;5;241;43m=\u001b[39;49m\u001b[43m(\u001b[49m\u001b[43mX_val_reduced\u001b[49m\u001b[43m,\u001b[49m\u001b[43m \u001b[49m\u001b[43my_val\u001b[49m\u001b[43m)\u001b[49m\u001b[43m)\u001b[49m\n\u001b[1;32m     22\u001b[0m \u001b[38;5;66;03m# Store the best score obtained by omitting the i-th feature\u001b[39;00m\n\u001b[1;32m     23\u001b[0m best_hps \u001b[38;5;241m=\u001b[39m tuner_w\u001b[38;5;241m.\u001b[39mget_best_hyperparameters(num_trials\u001b[38;5;241m=\u001b[39m\u001b[38;5;241m1\u001b[39m)[\u001b[38;5;241m0\u001b[39m]\n",
            "File \u001b[0;32m/opt/anaconda3/lib/python3.9/site-packages/keras_tuner/src/engine/base_tuner.py:234\u001b[0m, in \u001b[0;36mBaseTuner.search\u001b[0;34m(self, *fit_args, **fit_kwargs)\u001b[0m\n\u001b[1;32m    231\u001b[0m         \u001b[38;5;28;01mcontinue\u001b[39;00m\n\u001b[1;32m    233\u001b[0m     \u001b[38;5;28mself\u001b[39m\u001b[38;5;241m.\u001b[39mon_trial_begin(trial)\n\u001b[0;32m--> 234\u001b[0m     \u001b[38;5;28;43mself\u001b[39;49m\u001b[38;5;241;43m.\u001b[39;49m\u001b[43m_try_run_and_update_trial\u001b[49m\u001b[43m(\u001b[49m\u001b[43mtrial\u001b[49m\u001b[43m,\u001b[49m\u001b[43m \u001b[49m\u001b[38;5;241;43m*\u001b[39;49m\u001b[43mfit_args\u001b[49m\u001b[43m,\u001b[49m\u001b[43m \u001b[49m\u001b[38;5;241;43m*\u001b[39;49m\u001b[38;5;241;43m*\u001b[39;49m\u001b[43mfit_kwargs\u001b[49m\u001b[43m)\u001b[49m\n\u001b[1;32m    235\u001b[0m     \u001b[38;5;28mself\u001b[39m\u001b[38;5;241m.\u001b[39mon_trial_end(trial)\n\u001b[1;32m    236\u001b[0m \u001b[38;5;28mself\u001b[39m\u001b[38;5;241m.\u001b[39mon_search_end()\n",
            "File \u001b[0;32m/opt/anaconda3/lib/python3.9/site-packages/keras_tuner/src/engine/base_tuner.py:274\u001b[0m, in \u001b[0;36mBaseTuner._try_run_and_update_trial\u001b[0;34m(self, trial, *fit_args, **fit_kwargs)\u001b[0m\n\u001b[1;32m    272\u001b[0m \u001b[38;5;28;01mdef\u001b[39;00m \u001b[38;5;21m_try_run_and_update_trial\u001b[39m(\u001b[38;5;28mself\u001b[39m, trial, \u001b[38;5;241m*\u001b[39mfit_args, \u001b[38;5;241m*\u001b[39m\u001b[38;5;241m*\u001b[39mfit_kwargs):\n\u001b[1;32m    273\u001b[0m     \u001b[38;5;28;01mtry\u001b[39;00m:\n\u001b[0;32m--> 274\u001b[0m         \u001b[38;5;28;43mself\u001b[39;49m\u001b[38;5;241;43m.\u001b[39;49m\u001b[43m_run_and_update_trial\u001b[49m\u001b[43m(\u001b[49m\u001b[43mtrial\u001b[49m\u001b[43m,\u001b[49m\u001b[43m \u001b[49m\u001b[38;5;241;43m*\u001b[39;49m\u001b[43mfit_args\u001b[49m\u001b[43m,\u001b[49m\u001b[43m \u001b[49m\u001b[38;5;241;43m*\u001b[39;49m\u001b[38;5;241;43m*\u001b[39;49m\u001b[43mfit_kwargs\u001b[49m\u001b[43m)\u001b[49m\n\u001b[1;32m    275\u001b[0m         trial\u001b[38;5;241m.\u001b[39mstatus \u001b[38;5;241m=\u001b[39m trial_module\u001b[38;5;241m.\u001b[39mTrialStatus\u001b[38;5;241m.\u001b[39mCOMPLETED\n\u001b[1;32m    276\u001b[0m         \u001b[38;5;28;01mreturn\u001b[39;00m\n",
            "File \u001b[0;32m/opt/anaconda3/lib/python3.9/site-packages/keras_tuner/src/engine/base_tuner.py:239\u001b[0m, in \u001b[0;36mBaseTuner._run_and_update_trial\u001b[0;34m(self, trial, *fit_args, **fit_kwargs)\u001b[0m\n\u001b[1;32m    238\u001b[0m \u001b[38;5;28;01mdef\u001b[39;00m \u001b[38;5;21m_run_and_update_trial\u001b[39m(\u001b[38;5;28mself\u001b[39m, trial, \u001b[38;5;241m*\u001b[39mfit_args, \u001b[38;5;241m*\u001b[39m\u001b[38;5;241m*\u001b[39mfit_kwargs):\n\u001b[0;32m--> 239\u001b[0m     results \u001b[38;5;241m=\u001b[39m \u001b[38;5;28;43mself\u001b[39;49m\u001b[38;5;241;43m.\u001b[39;49m\u001b[43mrun_trial\u001b[49m\u001b[43m(\u001b[49m\u001b[43mtrial\u001b[49m\u001b[43m,\u001b[49m\u001b[43m \u001b[49m\u001b[38;5;241;43m*\u001b[39;49m\u001b[43mfit_args\u001b[49m\u001b[43m,\u001b[49m\u001b[43m \u001b[49m\u001b[38;5;241;43m*\u001b[39;49m\u001b[38;5;241;43m*\u001b[39;49m\u001b[43mfit_kwargs\u001b[49m\u001b[43m)\u001b[49m\n\u001b[1;32m    240\u001b[0m     \u001b[38;5;28;01mif\u001b[39;00m \u001b[38;5;28mself\u001b[39m\u001b[38;5;241m.\u001b[39moracle\u001b[38;5;241m.\u001b[39mget_trial(trial\u001b[38;5;241m.\u001b[39mtrial_id)\u001b[38;5;241m.\u001b[39mmetrics\u001b[38;5;241m.\u001b[39mexists(\n\u001b[1;32m    241\u001b[0m         \u001b[38;5;28mself\u001b[39m\u001b[38;5;241m.\u001b[39moracle\u001b[38;5;241m.\u001b[39mobjective\u001b[38;5;241m.\u001b[39mname\n\u001b[1;32m    242\u001b[0m     ):\n\u001b[1;32m    243\u001b[0m         \u001b[38;5;66;03m# The oracle is updated by calling `self.oracle.update_trial()` in\u001b[39;00m\n\u001b[1;32m    244\u001b[0m         \u001b[38;5;66;03m# `Tuner.run_trial()`. For backward compatibility, we support this\u001b[39;00m\n\u001b[1;32m    245\u001b[0m         \u001b[38;5;66;03m# use case. No further action needed in this case.\u001b[39;00m\n\u001b[1;32m    246\u001b[0m         warnings\u001b[38;5;241m.\u001b[39mwarn(\n\u001b[1;32m    247\u001b[0m             \u001b[38;5;124m\"\u001b[39m\u001b[38;5;124mThe use case of calling \u001b[39m\u001b[38;5;124m\"\u001b[39m\n\u001b[1;32m    248\u001b[0m             \u001b[38;5;124m\"\u001b[39m\u001b[38;5;124m`self.oracle.update_trial(trial_id, metrics)` \u001b[39m\u001b[38;5;124m\"\u001b[39m\n\u001b[0;32m   (...)\u001b[0m\n\u001b[1;32m    254\u001b[0m             stacklevel\u001b[38;5;241m=\u001b[39m\u001b[38;5;241m2\u001b[39m,\n\u001b[1;32m    255\u001b[0m         )\n",
            "File \u001b[0;32m/opt/anaconda3/lib/python3.9/site-packages/keras_tuner/src/engine/tuner.py:314\u001b[0m, in \u001b[0;36mTuner.run_trial\u001b[0;34m(self, trial, *args, **kwargs)\u001b[0m\n\u001b[1;32m    312\u001b[0m     callbacks\u001b[38;5;241m.\u001b[39mappend(model_checkpoint)\n\u001b[1;32m    313\u001b[0m     copied_kwargs[\u001b[38;5;124m\"\u001b[39m\u001b[38;5;124mcallbacks\u001b[39m\u001b[38;5;124m\"\u001b[39m] \u001b[38;5;241m=\u001b[39m callbacks\n\u001b[0;32m--> 314\u001b[0m     obj_value \u001b[38;5;241m=\u001b[39m \u001b[38;5;28;43mself\u001b[39;49m\u001b[38;5;241;43m.\u001b[39;49m\u001b[43m_build_and_fit_model\u001b[49m\u001b[43m(\u001b[49m\u001b[43mtrial\u001b[49m\u001b[43m,\u001b[49m\u001b[43m \u001b[49m\u001b[38;5;241;43m*\u001b[39;49m\u001b[43margs\u001b[49m\u001b[43m,\u001b[49m\u001b[43m \u001b[49m\u001b[38;5;241;43m*\u001b[39;49m\u001b[38;5;241;43m*\u001b[39;49m\u001b[43mcopied_kwargs\u001b[49m\u001b[43m)\u001b[49m\n\u001b[1;32m    316\u001b[0m     histories\u001b[38;5;241m.\u001b[39mappend(obj_value)\n\u001b[1;32m    317\u001b[0m \u001b[38;5;28;01mreturn\u001b[39;00m histories\n",
            "File \u001b[0;32m/opt/anaconda3/lib/python3.9/site-packages/keras_tuner/src/engine/tuner.py:233\u001b[0m, in \u001b[0;36mTuner._build_and_fit_model\u001b[0;34m(self, trial, *args, **kwargs)\u001b[0m\n\u001b[1;32m    231\u001b[0m hp \u001b[38;5;241m=\u001b[39m trial\u001b[38;5;241m.\u001b[39mhyperparameters\n\u001b[1;32m    232\u001b[0m model \u001b[38;5;241m=\u001b[39m \u001b[38;5;28mself\u001b[39m\u001b[38;5;241m.\u001b[39m_try_build(hp)\n\u001b[0;32m--> 233\u001b[0m results \u001b[38;5;241m=\u001b[39m \u001b[38;5;28;43mself\u001b[39;49m\u001b[38;5;241;43m.\u001b[39;49m\u001b[43mhypermodel\u001b[49m\u001b[38;5;241;43m.\u001b[39;49m\u001b[43mfit\u001b[49m\u001b[43m(\u001b[49m\u001b[43mhp\u001b[49m\u001b[43m,\u001b[49m\u001b[43m \u001b[49m\u001b[43mmodel\u001b[49m\u001b[43m,\u001b[49m\u001b[43m \u001b[49m\u001b[38;5;241;43m*\u001b[39;49m\u001b[43margs\u001b[49m\u001b[43m,\u001b[49m\u001b[43m \u001b[49m\u001b[38;5;241;43m*\u001b[39;49m\u001b[38;5;241;43m*\u001b[39;49m\u001b[43mkwargs\u001b[49m\u001b[43m)\u001b[49m\n\u001b[1;32m    235\u001b[0m \u001b[38;5;66;03m# Save the build config for model loading later.\u001b[39;00m\n\u001b[1;32m    236\u001b[0m \u001b[38;5;28;01mif\u001b[39;00m backend\u001b[38;5;241m.\u001b[39mconfig\u001b[38;5;241m.\u001b[39mmulti_backend():\n",
            "File \u001b[0;32m/opt/anaconda3/lib/python3.9/site-packages/keras_tuner/src/engine/hypermodel.py:149\u001b[0m, in \u001b[0;36mHyperModel.fit\u001b[0;34m(self, hp, model, *args, **kwargs)\u001b[0m\n\u001b[1;32m    125\u001b[0m \u001b[38;5;28;01mdef\u001b[39;00m \u001b[38;5;21mfit\u001b[39m(\u001b[38;5;28mself\u001b[39m, hp, model, \u001b[38;5;241m*\u001b[39margs, \u001b[38;5;241m*\u001b[39m\u001b[38;5;241m*\u001b[39mkwargs):\n\u001b[1;32m    126\u001b[0m     \u001b[38;5;124;03m\"\"\"Train the model.\u001b[39;00m\n\u001b[1;32m    127\u001b[0m \n\u001b[1;32m    128\u001b[0m \u001b[38;5;124;03m    Args:\u001b[39;00m\n\u001b[0;32m   (...)\u001b[0m\n\u001b[1;32m    147\u001b[0m \u001b[38;5;124;03m        If return a float, it should be the `objective` value.\u001b[39;00m\n\u001b[1;32m    148\u001b[0m \u001b[38;5;124;03m    \"\"\"\u001b[39;00m\n\u001b[0;32m--> 149\u001b[0m     \u001b[38;5;28;01mreturn\u001b[39;00m \u001b[43mmodel\u001b[49m\u001b[38;5;241;43m.\u001b[39;49m\u001b[43mfit\u001b[49m\u001b[43m(\u001b[49m\u001b[38;5;241;43m*\u001b[39;49m\u001b[43margs\u001b[49m\u001b[43m,\u001b[49m\u001b[43m \u001b[49m\u001b[38;5;241;43m*\u001b[39;49m\u001b[38;5;241;43m*\u001b[39;49m\u001b[43mkwargs\u001b[49m\u001b[43m)\u001b[49m\n",
            "File \u001b[0;32m/opt/anaconda3/lib/python3.9/site-packages/keras/utils/traceback_utils.py:65\u001b[0m, in \u001b[0;36mfilter_traceback.<locals>.error_handler\u001b[0;34m(*args, **kwargs)\u001b[0m\n\u001b[1;32m     63\u001b[0m filtered_tb \u001b[38;5;241m=\u001b[39m \u001b[38;5;28;01mNone\u001b[39;00m\n\u001b[1;32m     64\u001b[0m \u001b[38;5;28;01mtry\u001b[39;00m:\n\u001b[0;32m---> 65\u001b[0m     \u001b[38;5;28;01mreturn\u001b[39;00m \u001b[43mfn\u001b[49m\u001b[43m(\u001b[49m\u001b[38;5;241;43m*\u001b[39;49m\u001b[43margs\u001b[49m\u001b[43m,\u001b[49m\u001b[43m \u001b[49m\u001b[38;5;241;43m*\u001b[39;49m\u001b[38;5;241;43m*\u001b[39;49m\u001b[43mkwargs\u001b[49m\u001b[43m)\u001b[49m\n\u001b[1;32m     66\u001b[0m \u001b[38;5;28;01mexcept\u001b[39;00m \u001b[38;5;167;01mException\u001b[39;00m \u001b[38;5;28;01mas\u001b[39;00m e:\n\u001b[1;32m     67\u001b[0m     filtered_tb \u001b[38;5;241m=\u001b[39m _process_traceback_frames(e\u001b[38;5;241m.\u001b[39m__traceback__)\n",
            "File \u001b[0;32m/opt/anaconda3/lib/python3.9/site-packages/keras/engine/training.py:1564\u001b[0m, in \u001b[0;36mModel.fit\u001b[0;34m(self, x, y, batch_size, epochs, verbose, callbacks, validation_split, validation_data, shuffle, class_weight, sample_weight, initial_epoch, steps_per_epoch, validation_steps, validation_batch_size, validation_freq, max_queue_size, workers, use_multiprocessing)\u001b[0m\n\u001b[1;32m   1556\u001b[0m \u001b[38;5;28;01mwith\u001b[39;00m tf\u001b[38;5;241m.\u001b[39mprofiler\u001b[38;5;241m.\u001b[39mexperimental\u001b[38;5;241m.\u001b[39mTrace(\n\u001b[1;32m   1557\u001b[0m     \u001b[38;5;124m\"\u001b[39m\u001b[38;5;124mtrain\u001b[39m\u001b[38;5;124m\"\u001b[39m,\n\u001b[1;32m   1558\u001b[0m     epoch_num\u001b[38;5;241m=\u001b[39mepoch,\n\u001b[0;32m   (...)\u001b[0m\n\u001b[1;32m   1561\u001b[0m     _r\u001b[38;5;241m=\u001b[39m\u001b[38;5;241m1\u001b[39m,\n\u001b[1;32m   1562\u001b[0m ):\n\u001b[1;32m   1563\u001b[0m     callbacks\u001b[38;5;241m.\u001b[39mon_train_batch_begin(step)\n\u001b[0;32m-> 1564\u001b[0m     tmp_logs \u001b[38;5;241m=\u001b[39m \u001b[38;5;28;43mself\u001b[39;49m\u001b[38;5;241;43m.\u001b[39;49m\u001b[43mtrain_function\u001b[49m\u001b[43m(\u001b[49m\u001b[43miterator\u001b[49m\u001b[43m)\u001b[49m\n\u001b[1;32m   1565\u001b[0m     \u001b[38;5;28;01mif\u001b[39;00m data_handler\u001b[38;5;241m.\u001b[39mshould_sync:\n\u001b[1;32m   1566\u001b[0m         context\u001b[38;5;241m.\u001b[39masync_wait()\n",
            "File \u001b[0;32m/opt/anaconda3/lib/python3.9/site-packages/tensorflow/python/util/traceback_utils.py:150\u001b[0m, in \u001b[0;36mfilter_traceback.<locals>.error_handler\u001b[0;34m(*args, **kwargs)\u001b[0m\n\u001b[1;32m    148\u001b[0m filtered_tb \u001b[38;5;241m=\u001b[39m \u001b[38;5;28;01mNone\u001b[39;00m\n\u001b[1;32m    149\u001b[0m \u001b[38;5;28;01mtry\u001b[39;00m:\n\u001b[0;32m--> 150\u001b[0m   \u001b[38;5;28;01mreturn\u001b[39;00m \u001b[43mfn\u001b[49m\u001b[43m(\u001b[49m\u001b[38;5;241;43m*\u001b[39;49m\u001b[43margs\u001b[49m\u001b[43m,\u001b[49m\u001b[43m \u001b[49m\u001b[38;5;241;43m*\u001b[39;49m\u001b[38;5;241;43m*\u001b[39;49m\u001b[43mkwargs\u001b[49m\u001b[43m)\u001b[49m\n\u001b[1;32m    151\u001b[0m \u001b[38;5;28;01mexcept\u001b[39;00m \u001b[38;5;167;01mException\u001b[39;00m \u001b[38;5;28;01mas\u001b[39;00m e:\n\u001b[1;32m    152\u001b[0m   filtered_tb \u001b[38;5;241m=\u001b[39m _process_traceback_frames(e\u001b[38;5;241m.\u001b[39m__traceback__)\n",
            "File \u001b[0;32m/opt/anaconda3/lib/python3.9/site-packages/tensorflow/python/eager/def_function.py:915\u001b[0m, in \u001b[0;36mFunction.__call__\u001b[0;34m(self, *args, **kwds)\u001b[0m\n\u001b[1;32m    912\u001b[0m compiler \u001b[38;5;241m=\u001b[39m \u001b[38;5;124m\"\u001b[39m\u001b[38;5;124mxla\u001b[39m\u001b[38;5;124m\"\u001b[39m \u001b[38;5;28;01mif\u001b[39;00m \u001b[38;5;28mself\u001b[39m\u001b[38;5;241m.\u001b[39m_jit_compile \u001b[38;5;28;01melse\u001b[39;00m \u001b[38;5;124m\"\u001b[39m\u001b[38;5;124mnonXla\u001b[39m\u001b[38;5;124m\"\u001b[39m\n\u001b[1;32m    914\u001b[0m \u001b[38;5;28;01mwith\u001b[39;00m OptionalXlaContext(\u001b[38;5;28mself\u001b[39m\u001b[38;5;241m.\u001b[39m_jit_compile):\n\u001b[0;32m--> 915\u001b[0m   result \u001b[38;5;241m=\u001b[39m \u001b[38;5;28;43mself\u001b[39;49m\u001b[38;5;241;43m.\u001b[39;49m\u001b[43m_call\u001b[49m\u001b[43m(\u001b[49m\u001b[38;5;241;43m*\u001b[39;49m\u001b[43margs\u001b[49m\u001b[43m,\u001b[49m\u001b[43m \u001b[49m\u001b[38;5;241;43m*\u001b[39;49m\u001b[38;5;241;43m*\u001b[39;49m\u001b[43mkwds\u001b[49m\u001b[43m)\u001b[49m\n\u001b[1;32m    917\u001b[0m new_tracing_count \u001b[38;5;241m=\u001b[39m \u001b[38;5;28mself\u001b[39m\u001b[38;5;241m.\u001b[39mexperimental_get_tracing_count()\n\u001b[1;32m    918\u001b[0m without_tracing \u001b[38;5;241m=\u001b[39m (tracing_count \u001b[38;5;241m==\u001b[39m new_tracing_count)\n",
            "File \u001b[0;32m/opt/anaconda3/lib/python3.9/site-packages/tensorflow/python/eager/def_function.py:947\u001b[0m, in \u001b[0;36mFunction._call\u001b[0;34m(self, *args, **kwds)\u001b[0m\n\u001b[1;32m    944\u001b[0m   \u001b[38;5;28mself\u001b[39m\u001b[38;5;241m.\u001b[39m_lock\u001b[38;5;241m.\u001b[39mrelease()\n\u001b[1;32m    945\u001b[0m   \u001b[38;5;66;03m# In this case we have created variables on the first call, so we run the\u001b[39;00m\n\u001b[1;32m    946\u001b[0m   \u001b[38;5;66;03m# defunned version which is guaranteed to never create variables.\u001b[39;00m\n\u001b[0;32m--> 947\u001b[0m   \u001b[38;5;28;01mreturn\u001b[39;00m \u001b[38;5;28;43mself\u001b[39;49m\u001b[38;5;241;43m.\u001b[39;49m\u001b[43m_stateless_fn\u001b[49m\u001b[43m(\u001b[49m\u001b[38;5;241;43m*\u001b[39;49m\u001b[43margs\u001b[49m\u001b[43m,\u001b[49m\u001b[43m \u001b[49m\u001b[38;5;241;43m*\u001b[39;49m\u001b[38;5;241;43m*\u001b[39;49m\u001b[43mkwds\u001b[49m\u001b[43m)\u001b[49m  \u001b[38;5;66;03m# pylint: disable=not-callable\u001b[39;00m\n\u001b[1;32m    948\u001b[0m \u001b[38;5;28;01melif\u001b[39;00m \u001b[38;5;28mself\u001b[39m\u001b[38;5;241m.\u001b[39m_stateful_fn \u001b[38;5;129;01mis\u001b[39;00m \u001b[38;5;129;01mnot\u001b[39;00m \u001b[38;5;28;01mNone\u001b[39;00m:\n\u001b[1;32m    949\u001b[0m   \u001b[38;5;66;03m# Release the lock early so that multiple threads can perform the call\u001b[39;00m\n\u001b[1;32m    950\u001b[0m   \u001b[38;5;66;03m# in parallel.\u001b[39;00m\n\u001b[1;32m    951\u001b[0m   \u001b[38;5;28mself\u001b[39m\u001b[38;5;241m.\u001b[39m_lock\u001b[38;5;241m.\u001b[39mrelease()\n",
            "File \u001b[0;32m/opt/anaconda3/lib/python3.9/site-packages/tensorflow/python/eager/function.py:2496\u001b[0m, in \u001b[0;36mFunction.__call__\u001b[0;34m(self, *args, **kwargs)\u001b[0m\n\u001b[1;32m   2493\u001b[0m \u001b[38;5;28;01mwith\u001b[39;00m \u001b[38;5;28mself\u001b[39m\u001b[38;5;241m.\u001b[39m_lock:\n\u001b[1;32m   2494\u001b[0m   (graph_function,\n\u001b[1;32m   2495\u001b[0m    filtered_flat_args) \u001b[38;5;241m=\u001b[39m \u001b[38;5;28mself\u001b[39m\u001b[38;5;241m.\u001b[39m_maybe_define_function(args, kwargs)\n\u001b[0;32m-> 2496\u001b[0m \u001b[38;5;28;01mreturn\u001b[39;00m \u001b[43mgraph_function\u001b[49m\u001b[38;5;241;43m.\u001b[39;49m\u001b[43m_call_flat\u001b[49m\u001b[43m(\u001b[49m\n\u001b[1;32m   2497\u001b[0m \u001b[43m    \u001b[49m\u001b[43mfiltered_flat_args\u001b[49m\u001b[43m,\u001b[49m\u001b[43m \u001b[49m\u001b[43mcaptured_inputs\u001b[49m\u001b[38;5;241;43m=\u001b[39;49m\u001b[43mgraph_function\u001b[49m\u001b[38;5;241;43m.\u001b[39;49m\u001b[43mcaptured_inputs\u001b[49m\u001b[43m)\u001b[49m\n",
            "File \u001b[0;32m/opt/anaconda3/lib/python3.9/site-packages/tensorflow/python/eager/function.py:1862\u001b[0m, in \u001b[0;36mConcreteFunction._call_flat\u001b[0;34m(self, args, captured_inputs, cancellation_manager)\u001b[0m\n\u001b[1;32m   1858\u001b[0m possible_gradient_type \u001b[38;5;241m=\u001b[39m gradients_util\u001b[38;5;241m.\u001b[39mPossibleTapeGradientTypes(args)\n\u001b[1;32m   1859\u001b[0m \u001b[38;5;28;01mif\u001b[39;00m (possible_gradient_type \u001b[38;5;241m==\u001b[39m gradients_util\u001b[38;5;241m.\u001b[39mPOSSIBLE_GRADIENT_TYPES_NONE\n\u001b[1;32m   1860\u001b[0m     \u001b[38;5;129;01mand\u001b[39;00m executing_eagerly):\n\u001b[1;32m   1861\u001b[0m   \u001b[38;5;66;03m# No tape is watching; skip to running the function.\u001b[39;00m\n\u001b[0;32m-> 1862\u001b[0m   \u001b[38;5;28;01mreturn\u001b[39;00m \u001b[38;5;28mself\u001b[39m\u001b[38;5;241m.\u001b[39m_build_call_outputs(\u001b[38;5;28;43mself\u001b[39;49m\u001b[38;5;241;43m.\u001b[39;49m\u001b[43m_inference_function\u001b[49m\u001b[38;5;241;43m.\u001b[39;49m\u001b[43mcall\u001b[49m\u001b[43m(\u001b[49m\n\u001b[1;32m   1863\u001b[0m \u001b[43m      \u001b[49m\u001b[43mctx\u001b[49m\u001b[43m,\u001b[49m\u001b[43m \u001b[49m\u001b[43margs\u001b[49m\u001b[43m,\u001b[49m\u001b[43m \u001b[49m\u001b[43mcancellation_manager\u001b[49m\u001b[38;5;241;43m=\u001b[39;49m\u001b[43mcancellation_manager\u001b[49m\u001b[43m)\u001b[49m)\n\u001b[1;32m   1864\u001b[0m forward_backward \u001b[38;5;241m=\u001b[39m \u001b[38;5;28mself\u001b[39m\u001b[38;5;241m.\u001b[39m_select_forward_and_backward_functions(\n\u001b[1;32m   1865\u001b[0m     args,\n\u001b[1;32m   1866\u001b[0m     possible_gradient_type,\n\u001b[1;32m   1867\u001b[0m     executing_eagerly)\n\u001b[1;32m   1868\u001b[0m forward_function, args_with_tangents \u001b[38;5;241m=\u001b[39m forward_backward\u001b[38;5;241m.\u001b[39mforward()\n",
            "File \u001b[0;32m/opt/anaconda3/lib/python3.9/site-packages/tensorflow/python/eager/function.py:499\u001b[0m, in \u001b[0;36m_EagerDefinedFunction.call\u001b[0;34m(self, ctx, args, cancellation_manager)\u001b[0m\n\u001b[1;32m    497\u001b[0m \u001b[38;5;28;01mwith\u001b[39;00m _InterpolateFunctionError(\u001b[38;5;28mself\u001b[39m):\n\u001b[1;32m    498\u001b[0m   \u001b[38;5;28;01mif\u001b[39;00m cancellation_manager \u001b[38;5;129;01mis\u001b[39;00m \u001b[38;5;28;01mNone\u001b[39;00m:\n\u001b[0;32m--> 499\u001b[0m     outputs \u001b[38;5;241m=\u001b[39m \u001b[43mexecute\u001b[49m\u001b[38;5;241;43m.\u001b[39;49m\u001b[43mexecute\u001b[49m\u001b[43m(\u001b[49m\n\u001b[1;32m    500\u001b[0m \u001b[43m        \u001b[49m\u001b[38;5;28;43mstr\u001b[39;49m\u001b[43m(\u001b[49m\u001b[38;5;28;43mself\u001b[39;49m\u001b[38;5;241;43m.\u001b[39;49m\u001b[43msignature\u001b[49m\u001b[38;5;241;43m.\u001b[39;49m\u001b[43mname\u001b[49m\u001b[43m)\u001b[49m\u001b[43m,\u001b[49m\n\u001b[1;32m    501\u001b[0m \u001b[43m        \u001b[49m\u001b[43mnum_outputs\u001b[49m\u001b[38;5;241;43m=\u001b[39;49m\u001b[38;5;28;43mself\u001b[39;49m\u001b[38;5;241;43m.\u001b[39;49m\u001b[43m_num_outputs\u001b[49m\u001b[43m,\u001b[49m\n\u001b[1;32m    502\u001b[0m \u001b[43m        \u001b[49m\u001b[43minputs\u001b[49m\u001b[38;5;241;43m=\u001b[39;49m\u001b[43margs\u001b[49m\u001b[43m,\u001b[49m\n\u001b[1;32m    503\u001b[0m \u001b[43m        \u001b[49m\u001b[43mattrs\u001b[49m\u001b[38;5;241;43m=\u001b[39;49m\u001b[43mattrs\u001b[49m\u001b[43m,\u001b[49m\n\u001b[1;32m    504\u001b[0m \u001b[43m        \u001b[49m\u001b[43mctx\u001b[49m\u001b[38;5;241;43m=\u001b[39;49m\u001b[43mctx\u001b[49m\u001b[43m)\u001b[49m\n\u001b[1;32m    505\u001b[0m   \u001b[38;5;28;01melse\u001b[39;00m:\n\u001b[1;32m    506\u001b[0m     outputs \u001b[38;5;241m=\u001b[39m execute\u001b[38;5;241m.\u001b[39mexecute_with_cancellation(\n\u001b[1;32m    507\u001b[0m         \u001b[38;5;28mstr\u001b[39m(\u001b[38;5;28mself\u001b[39m\u001b[38;5;241m.\u001b[39msignature\u001b[38;5;241m.\u001b[39mname),\n\u001b[1;32m    508\u001b[0m         num_outputs\u001b[38;5;241m=\u001b[39m\u001b[38;5;28mself\u001b[39m\u001b[38;5;241m.\u001b[39m_num_outputs,\n\u001b[0;32m   (...)\u001b[0m\n\u001b[1;32m    511\u001b[0m         ctx\u001b[38;5;241m=\u001b[39mctx,\n\u001b[1;32m    512\u001b[0m         cancellation_manager\u001b[38;5;241m=\u001b[39mcancellation_manager)\n",
            "File \u001b[0;32m/opt/anaconda3/lib/python3.9/site-packages/tensorflow/python/eager/execute.py:54\u001b[0m, in \u001b[0;36mquick_execute\u001b[0;34m(op_name, num_outputs, inputs, attrs, ctx, name)\u001b[0m\n\u001b[1;32m     52\u001b[0m \u001b[38;5;28;01mtry\u001b[39;00m:\n\u001b[1;32m     53\u001b[0m   ctx\u001b[38;5;241m.\u001b[39mensure_initialized()\n\u001b[0;32m---> 54\u001b[0m   tensors \u001b[38;5;241m=\u001b[39m \u001b[43mpywrap_tfe\u001b[49m\u001b[38;5;241;43m.\u001b[39;49m\u001b[43mTFE_Py_Execute\u001b[49m\u001b[43m(\u001b[49m\u001b[43mctx\u001b[49m\u001b[38;5;241;43m.\u001b[39;49m\u001b[43m_handle\u001b[49m\u001b[43m,\u001b[49m\u001b[43m \u001b[49m\u001b[43mdevice_name\u001b[49m\u001b[43m,\u001b[49m\u001b[43m \u001b[49m\u001b[43mop_name\u001b[49m\u001b[43m,\u001b[49m\n\u001b[1;32m     55\u001b[0m \u001b[43m                                      \u001b[49m\u001b[43minputs\u001b[49m\u001b[43m,\u001b[49m\u001b[43m \u001b[49m\u001b[43mattrs\u001b[49m\u001b[43m,\u001b[49m\u001b[43m \u001b[49m\u001b[43mnum_outputs\u001b[49m\u001b[43m)\u001b[49m\n\u001b[1;32m     56\u001b[0m \u001b[38;5;28;01mexcept\u001b[39;00m core\u001b[38;5;241m.\u001b[39m_NotOkStatusException \u001b[38;5;28;01mas\u001b[39;00m e:\n\u001b[1;32m     57\u001b[0m   \u001b[38;5;28;01mif\u001b[39;00m name \u001b[38;5;129;01mis\u001b[39;00m \u001b[38;5;129;01mnot\u001b[39;00m \u001b[38;5;28;01mNone\u001b[39;00m:\n",
            "\u001b[0;31mKeyboardInterrupt\u001b[0m: "
          ]
        }
      ],
      "source": [
        "# Assuming X_training, y_training, X_val, and y_val are available\n",
        "performance_scores = {}\n",
        "n_features = X_training.shape[1]\n",
        "\n",
        "for i in range(n_features):\n",
        "    # Create a new training set omitting the i-th feature\n",
        "    X_train_reduced = np.delete(X_training, i, axis=1)\n",
        "    X_val_reduced = np.delete(X_val, i, axis=1)\n",
        "    \n",
        "    # Update your tuner or model-building function here to accommodate the new shape\n",
        "    tuner_w = RandomSearch(\n",
        "        lambda hp: build_model_wrapper(hp, input_shape=(X_train_reduced.shape[1],)),\n",
        "        objective='val_accuracy',\n",
        "        max_trials=5,\n",
        "        executions_per_trial=1,\n",
        "        directory='my_dir',\n",
        "        project_name=f'hparam_tuning_feature_{i}'\n",
        "    )\n",
        "    \n",
        "    tuner_w.search(X_train_reduced, y_training, epochs=20, validation_data=(X_val_reduced, y_val))\n",
        "    \n",
        "    # Store the best score obtained by omitting the i-th feature\n",
        "    best_hps = tuner_w.get_best_hyperparameters(num_trials=1)[0]\n",
        "    best_trial = tuner_w.oracle.get_best_trials(num_trials=1)[0]\n",
        "    performance_scores[i]= tuner_w.oracle.get_trial(best_trial.trial_id).score  \n",
        "\n",
        "# Evaluate performance scores to determine feature importance\n"
      ]
    },
    {
      "cell_type": "code",
      "execution_count": 44,
      "id": "c3d09456",
      "metadata": {},
      "outputs": [
        {
          "data": {
            "text/plain": [
              "{1: 0.6066666841506958,\n",
              " 2: 0.5991666913032532,\n",
              " 3: 0.6016666889190674,\n",
              " 4: 0.6025000214576721,\n",
              " 5: 0.6058333516120911,\n",
              " 6: 0.6066666841506958,\n",
              " 7: 0.6050000190734863}"
            ]
          },
          "execution_count": 44,
          "metadata": {},
          "output_type": "execute_result"
        }
      ],
      "source": [
        "performance_scores"
      ]
    },
    {
      "cell_type": "code",
      "execution_count": null,
      "id": "ee54417a",
      "metadata": {},
      "outputs": [],
      "source": [
        "#from mlxtend.feature_selection import SequentialFeatureSelector as SFS\n",
        "#from sklearn.linear_model import LogisticRegression\n",
        "\n",
        "\n",
        "\n",
        "#sfs = SFS(LogisticRegression(), \n",
        "#          k_features=7,  # 'best' or an integer for a fixed number of features\n",
        " #         forward=True, \n",
        " #         floating=False, \n",
        " #         scoring='accuracy',\n",
        " #         cv=5)  # 5-fold cross-validation\n",
        "#\n",
        "#sfs = sfs.fit(X_training, y_training)\n",
        "\n",
        "# Now select the features from your training and validation set\n",
        "#X_training_selected = sfs.transform(X_training)\n",
        "#X_val_selected = sfs.transform(X_val)\n",
        "\n",
        "# Then you would use these selected features to define the input shape of your NN model\n",
        "#def build_nn_model(input_shape):\n",
        "##    model = Sequential()\n",
        "    # Define the model with the input shape as determined by the number of selected features\n",
        " #   model.add(Dense(units=64, activation='relu', input_shape=input_shape))\n",
        " #   # Add more layers as needed...\n",
        " #   model.add(Dense(8, activation='softmax'))  # For 8 classes\n",
        "  #  model.compile(optimizer=\"adam\", loss='categorical_crossentropy', metrics=['accuracy'])\n",
        " #   return model\n",
        "\n",
        "# Create the NN model using the selected features\n",
        "#nn_model = build_nn_model(input_shape=(X_training_selected.shape[1],))\n",
        "\n",
        "# Train the NN model on the selected features\n",
        "#nn_model.fit(X_training_selected, y_training, epochs=20, validation_data=(X_val_selected, y_val))\n"
      ]
    },
    {
      "cell_type": "markdown",
      "id": "2c5b6f37",
      "metadata": {
        "id": "2c5b6f37"
      },
      "source": [
        "## Classification with knn and prediction on the test set"
      ]
    },
    {
      "cell_type": "code",
      "execution_count": null,
      "id": "34ed761b",
      "metadata": {
        "colab": {
          "base_uri": "https://localhost:8080/"
        },
        "id": "34ed761b",
        "outputId": "2fff1918-37e2-4d8a-bdad-1ca4466b3386"
      },
      "outputs": [
        {
          "name": "stdout",
          "output_type": "stream",
          "text": [
            "Accuracy of 5-nn on the training set:  0.5468333333333333\n"
          ]
        }
      ],
      "source": [
        "# Example with a k-nearest neighbours classifier\n",
        "clf = KNeighborsClassifier(n_neighbors = 5)\n",
        "clf.fit(X_train, y_train)\n",
        "print('Accuracy of 5-nn on the training set: ', clf.score(X_train, y_train)) # evaluate the accuracy on the training set"
      ]
    },
    {
      "cell_type": "code",
      "execution_count": null,
      "id": "fc5ec2a7",
      "metadata": {
        "colab": {
          "base_uri": "https://localhost:8080/"
        },
        "id": "fc5ec2a7",
        "outputId": "83046c6d-d732-4a0f-864a-e1236ef8fc7a"
      },
      "outputs": [
        {
          "data": {
            "text/plain": [
              "array(['Folk', 'Hip-Hop', 'International', ..., 'Experimental', 'Pop',\n",
              "       'Folk'], dtype=object)"
            ]
          },
          "execution_count": 16,
          "metadata": {},
          "output_type": "execute_result"
        }
      ],
      "source": [
        "y_pred = clf.predict(X_test) # compute knn predictions on the test inputs\n",
        "y_pred"
      ]
    },
    {
      "cell_type": "markdown",
      "id": "d81c8fe7",
      "metadata": {
        "id": "d81c8fe7"
      },
      "source": [
        "## Export in csv format"
      ]
    },
    {
      "cell_type": "code",
      "execution_count": null,
      "id": "706f456c",
      "metadata": {
        "id": "706f456c"
      },
      "outputs": [],
      "source": [
        "# Export the predictions on the test data in csv format\n",
        "prediction = pd.DataFrame(y_pred, columns=['Genre'])\n",
        "prediction.index.name='Id'\n",
        "prediction.to_csv('myprediction.csv') # export to csv file\n",
        "\n",
        "# The csv file should be of the form\n",
        "#Id, Genre\n",
        "#0, Folk\n",
        "#1, Hip-Hop\n",
        "#2, International\n",
        "#...\n",
        "#1998, Experimental\n",
        "#1999, Pop"
      ]
    }
  ],
  "metadata": {
    "colab": {
      "provenance": []
    },
    "kernelspec": {
      "display_name": "Python 3 (ipykernel)",
      "language": "python",
      "name": "python3"
    },
    "language_info": {
      "codemirror_mode": {
        "name": "ipython",
        "version": 3
      },
      "file_extension": ".py",
      "mimetype": "text/x-python",
      "name": "python",
      "nbconvert_exporter": "python",
      "pygments_lexer": "ipython3",
      "version": "3.11.5"
    }
  },
  "nbformat": 4,
  "nbformat_minor": 5
}
