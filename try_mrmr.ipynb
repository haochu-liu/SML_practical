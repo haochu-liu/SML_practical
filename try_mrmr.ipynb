{
 "cells": [
  {
   "cell_type": "markdown",
   "metadata": {},
   "source": [
    "# Try mRMR selection for SVM\n",
    "MSc in Statistical Science\\\n",
    "University of Oxford\\\n",
    "Group-assessed practical\\\n",
    "HT 2024"
   ]
  },
  {
   "cell_type": "code",
   "execution_count": 3,
   "metadata": {},
   "outputs": [],
   "source": [
    "# Import libraries\n",
    "import pandas as pd\n",
    "import numpy as np\n",
    "from search_param.grid_search import read_data, decode_dict, grid_search, rand_search\n",
    "from fit_models import fit_model\n",
    "from sklearn.preprocessing import LabelEncoder, StandardScaler\n",
    "from sklearn.metrics import accuracy_score\n",
    "from sklearn.pipeline import Pipeline\n",
    "import shutil\n",
    "import json\n",
    "import time\n",
    "import mrmr\n",
    "from sklearn.svm import SVC"
   ]
  },
  {
   "cell_type": "code",
   "execution_count": 4,
   "metadata": {},
   "outputs": [],
   "source": [
    "pipeline = Pipeline([\n",
    "    ('classifier', SVC())\n",
    "])"
   ]
  },
  {
   "cell_type": "markdown",
   "metadata": {},
   "source": [
    "## Scaling"
   ]
  },
  {
   "cell_type": "code",
   "execution_count": 5,
   "metadata": {},
   "outputs": [],
   "source": [
    "X_train, X_val, y_train, y_val = read_data()"
   ]
  },
  {
   "cell_type": "code",
   "execution_count": 6,
   "metadata": {},
   "outputs": [],
   "source": [
    "# Initialize the LabelEncoder\n",
    "label_encoder = LabelEncoder()\n",
    "\n",
    "# Fit label encoder and return encoded labels\n",
    "y_train_encoded = label_encoder.fit_transform(y_train)\n",
    "y_val_encoded = label_encoder.transform(y_val)"
   ]
  },
  {
   "cell_type": "code",
   "execution_count": 7,
   "metadata": {},
   "outputs": [],
   "source": [
    "# Standard scaling\n",
    "scaler = StandardScaler()\n",
    "scaler.fit(X_train)\n",
    "X_train_sc = scaler.transform(X_train)\n",
    "X_val_sc = scaler.transform(X_val)"
   ]
  },
  {
   "cell_type": "markdown",
   "metadata": {},
   "source": [
    "## Apply random search"
   ]
  },
  {
   "cell_type": "code",
   "execution_count": 10,
   "metadata": {},
   "outputs": [],
   "source": [
    "param_grid = [{'classifier__C': [0.01, 0.1, 1, 10, 100],\n",
    "               'classifier__kernel': ['poly'],\n",
    "               'classifier__degree': [0, 1, 2, 3, 4, 5],\n",
    "               'classifier__gamma': ['scale', 'auto']},\n",
    "              {'classifier__C': [0.01, 0.1, 1, 10, 100],\n",
    "               'classifier__kernel': ['rbf', 'sigmoid'],\n",
    "               'classifier__gamma': ['scale', 'auto']}]"
   ]
  },
  {
   "cell_type": "code",
   "execution_count": 9,
   "metadata": {},
   "outputs": [],
   "source": [
    "best_params = {}\n",
    "X = pd.DataFrame(X_train_sc)\n",
    "y = pd.DataFrame(y_train_encoded)"
   ]
  },
  {
   "cell_type": "code",
   "execution_count": 23,
   "metadata": {},
   "outputs": [
    {
     "name": "stderr",
     "output_type": "stream",
     "text": [
      "100%|██████████| 50/50 [00:13<00:00,  3.61it/s]\n"
     ]
    },
    {
     "name": "stdout",
     "output_type": "stream",
     "text": [
      "Fitting 5 folds for each of 10 candidates, totalling 50 fits\n",
      "The best parameters are\n",
      " {'classifier__kernel': 'rbf', 'classifier__gamma': 'auto', 'classifier__C': 1}\n",
      "\n",
      "Using 50 features, the best parameters are\n",
      " {'classifier__kernel': 'rbf', 'classifier__gamma': 'auto', 'classifier__C': 1, 'val_score': 0.5491666666666667}\n"
     ]
    },
    {
     "name": "stderr",
     "output_type": "stream",
     "text": [
      "100%|██████████| 100/100 [00:26<00:00,  3.75it/s]\n"
     ]
    },
    {
     "name": "stdout",
     "output_type": "stream",
     "text": [
      "Fitting 5 folds for each of 10 candidates, totalling 50 fits\n",
      "The best parameters are\n",
      " {'classifier__kernel': 'rbf', 'classifier__gamma': 'auto', 'classifier__C': 1}\n",
      "\n",
      "Using 100 features, the best parameters are\n",
      " {'classifier__kernel': 'rbf', 'classifier__gamma': 'auto', 'classifier__C': 1, 'val_score': 0.5883333333333334}\n"
     ]
    },
    {
     "name": "stderr",
     "output_type": "stream",
     "text": [
      "100%|██████████| 150/150 [00:39<00:00,  3.84it/s]\n"
     ]
    },
    {
     "name": "stdout",
     "output_type": "stream",
     "text": [
      "Fitting 5 folds for each of 10 candidates, totalling 50 fits\n",
      "The best parameters are\n",
      " {'classifier__kernel': 'rbf', 'classifier__gamma': 'auto', 'classifier__C': 1}\n",
      "\n",
      "Using 150 features, the best parameters are\n",
      " {'classifier__kernel': 'rbf', 'classifier__gamma': 'auto', 'classifier__C': 1, 'val_score': 0.5983333333333334}\n"
     ]
    },
    {
     "name": "stderr",
     "output_type": "stream",
     "text": [
      "100%|██████████| 200/200 [00:51<00:00,  3.89it/s]\n"
     ]
    },
    {
     "name": "stdout",
     "output_type": "stream",
     "text": [
      "Fitting 5 folds for each of 10 candidates, totalling 50 fits\n",
      "The best parameters are\n",
      " {'classifier__kernel': 'rbf', 'classifier__gamma': 'auto', 'classifier__C': 1}\n",
      "\n",
      "Using 200 features, the best parameters are\n",
      " {'classifier__kernel': 'rbf', 'classifier__gamma': 'auto', 'classifier__C': 1, 'val_score': 0.5925}\n"
     ]
    },
    {
     "name": "stderr",
     "output_type": "stream",
     "text": [
      "100%|██████████| 250/250 [01:01<00:00,  4.10it/s]\n"
     ]
    },
    {
     "name": "stdout",
     "output_type": "stream",
     "text": [
      "Fitting 5 folds for each of 10 candidates, totalling 50 fits\n",
      "The best parameters are\n",
      " {'classifier__kernel': 'rbf', 'classifier__gamma': 'auto', 'classifier__C': 1}\n",
      "\n",
      "Using 250 features, the best parameters are\n",
      " {'classifier__kernel': 'rbf', 'classifier__gamma': 'auto', 'classifier__C': 1, 'val_score': 0.6083333333333333}\n"
     ]
    },
    {
     "name": "stderr",
     "output_type": "stream",
     "text": [
      "100%|██████████| 300/300 [01:11<00:00,  4.18it/s]\n"
     ]
    },
    {
     "name": "stdout",
     "output_type": "stream",
     "text": [
      "Fitting 5 folds for each of 10 candidates, totalling 50 fits\n",
      "The best parameters are\n",
      " {'classifier__kernel': 'rbf', 'classifier__gamma': 'auto', 'classifier__C': 1}\n",
      "\n",
      "Using 300 features, the best parameters are\n",
      " {'classifier__kernel': 'rbf', 'classifier__gamma': 'auto', 'classifier__C': 1, 'val_score': 0.6116666666666667}\n"
     ]
    },
    {
     "name": "stderr",
     "output_type": "stream",
     "text": [
      "100%|██████████| 350/350 [01:14<00:00,  4.69it/s]\n"
     ]
    },
    {
     "name": "stdout",
     "output_type": "stream",
     "text": [
      "Fitting 5 folds for each of 10 candidates, totalling 50 fits\n",
      "The best parameters are\n",
      " {'classifier__kernel': 'rbf', 'classifier__gamma': 'auto', 'classifier__C': 1}\n",
      "\n",
      "Using 350 features, the best parameters are\n",
      " {'classifier__kernel': 'rbf', 'classifier__gamma': 'auto', 'classifier__C': 1, 'val_score': 0.6108333333333333}\n"
     ]
    },
    {
     "name": "stderr",
     "output_type": "stream",
     "text": [
      "100%|██████████| 400/400 [01:19<00:00,  5.02it/s]\n"
     ]
    },
    {
     "name": "stdout",
     "output_type": "stream",
     "text": [
      "Fitting 5 folds for each of 10 candidates, totalling 50 fits\n",
      "The best parameters are\n",
      " {'classifier__kernel': 'rbf', 'classifier__gamma': 'auto', 'classifier__C': 1}\n",
      "\n",
      "Using 400 features, the best parameters are\n",
      " {'classifier__kernel': 'rbf', 'classifier__gamma': 'auto', 'classifier__C': 1, 'val_score': 0.6033333333333334}\n"
     ]
    },
    {
     "name": "stderr",
     "output_type": "stream",
     "text": [
      "100%|██████████| 450/450 [01:18<00:00,  5.74it/s]\n"
     ]
    },
    {
     "name": "stdout",
     "output_type": "stream",
     "text": [
      "Fitting 5 folds for each of 10 candidates, totalling 50 fits\n",
      "The best parameters are\n",
      " {'classifier__kernel': 'rbf', 'classifier__gamma': 'auto', 'classifier__C': 1}\n",
      "\n",
      "Using 450 features, the best parameters are\n",
      " {'classifier__kernel': 'rbf', 'classifier__gamma': 'auto', 'classifier__C': 1, 'val_score': 0.6016666666666667}\n"
     ]
    },
    {
     "name": "stderr",
     "output_type": "stream",
     "text": [
      "100%|██████████| 500/500 [01:20<00:00,  6.23it/s]\n"
     ]
    },
    {
     "name": "stdout",
     "output_type": "stream",
     "text": [
      "Fitting 5 folds for each of 10 candidates, totalling 50 fits\n",
      "The best parameters are\n",
      " {'classifier__kernel': 'rbf', 'classifier__gamma': 'auto', 'classifier__C': 1}\n",
      "\n",
      "Using 500 features, the best parameters are\n",
      " {'classifier__kernel': 'rbf', 'classifier__gamma': 'auto', 'classifier__C': 1, 'val_score': 0.5983333333333334}\n"
     ]
    }
   ],
   "source": [
    "for k in range(50, 501, 50):\n",
    "    # apply feature selection\n",
    "    selected_features  = mrmr.mrmr_classif(X=X, y=y, K=k)\n",
    "    X_train_selected = X_train_sc[:, selected_features]\n",
    "    X_val_selected = X_val_sc[:, selected_features]\n",
    "\n",
    "    # apply random search\n",
    "    k_best = rand_search(pipeline, param_grid,\n",
    "        X_train_selected, y_train_encoded, X_val_selected, y_val_encoded, cv_n=5, n=10)\n",
    "    \n",
    "    # save the best parameters\n",
    "    best_params[str(k)] = k_best\n",
    "    print(f'\\nUsing {k} features, the best parameters are\\n', k_best)\n",
    "    "
   ]
  },
  {
   "cell_type": "markdown",
   "metadata": {},
   "source": [
    "## Apply grid search"
   ]
  },
  {
   "cell_type": "code",
   "execution_count": 24,
   "metadata": {},
   "outputs": [],
   "source": [
    "param_grid = {'classifier__C': [0.01, 0.1, 1, 10, 100],\n",
    "              'classifier__kernel': ['rbf'],\n",
    "              'classifier__gamma': ['scale', 'auto']}"
   ]
  },
  {
   "cell_type": "code",
   "execution_count": 26,
   "metadata": {},
   "outputs": [
    {
     "name": "stderr",
     "output_type": "stream",
     "text": [
      "100%|██████████| 200/200 [00:51<00:00,  3.91it/s]\n"
     ]
    },
    {
     "name": "stdout",
     "output_type": "stream",
     "text": [
      "Fitting 5 folds for each of 10 candidates, totalling 50 fits\n",
      "The best parameters are\n",
      " {'classifier__C': 1, 'classifier__gamma': 'scale', 'classifier__kernel': 'rbf'}\n",
      "\n",
      "Using 200 features, the best parameters are\n",
      " {'classifier__C': 1, 'classifier__gamma': 'scale', 'classifier__kernel': 'rbf', 'val_score': 0.5925}\n"
     ]
    },
    {
     "name": "stderr",
     "output_type": "stream",
     "text": [
      "100%|██████████| 250/250 [01:02<00:00,  4.01it/s]\n"
     ]
    },
    {
     "name": "stdout",
     "output_type": "stream",
     "text": [
      "Fitting 5 folds for each of 10 candidates, totalling 50 fits\n",
      "The best parameters are\n",
      " {'classifier__C': 100, 'classifier__gamma': 'scale', 'classifier__kernel': 'rbf'}\n",
      "\n",
      "Using 250 features, the best parameters are\n",
      " {'classifier__C': 100, 'classifier__gamma': 'scale', 'classifier__kernel': 'rbf', 'val_score': 0.6158333333333333}\n"
     ]
    },
    {
     "name": "stderr",
     "output_type": "stream",
     "text": [
      "100%|██████████| 300/300 [01:10<00:00,  4.23it/s]\n"
     ]
    },
    {
     "name": "stdout",
     "output_type": "stream",
     "text": [
      "Fitting 5 folds for each of 10 candidates, totalling 50 fits\n",
      "The best parameters are\n",
      " {'classifier__C': 100, 'classifier__gamma': 'scale', 'classifier__kernel': 'rbf'}\n",
      "\n",
      "Using 300 features, the best parameters are\n",
      " {'classifier__C': 100, 'classifier__gamma': 'scale', 'classifier__kernel': 'rbf', 'val_score': 0.6158333333333333}\n"
     ]
    },
    {
     "name": "stderr",
     "output_type": "stream",
     "text": [
      "100%|██████████| 350/350 [01:15<00:00,  4.63it/s]\n"
     ]
    },
    {
     "name": "stdout",
     "output_type": "stream",
     "text": [
      "Fitting 5 folds for each of 10 candidates, totalling 50 fits\n",
      "The best parameters are\n",
      " {'classifier__C': 10, 'classifier__gamma': 'auto', 'classifier__kernel': 'rbf'}\n",
      "\n",
      "Using 350 features, the best parameters are\n",
      " {'classifier__C': 10, 'classifier__gamma': 'auto', 'classifier__kernel': 'rbf', 'val_score': 0.62}\n"
     ]
    },
    {
     "name": "stderr",
     "output_type": "stream",
     "text": [
      "100%|██████████| 400/400 [01:17<00:00,  5.15it/s]\n"
     ]
    },
    {
     "name": "stdout",
     "output_type": "stream",
     "text": [
      "Fitting 5 folds for each of 10 candidates, totalling 50 fits\n",
      "The best parameters are\n",
      " {'classifier__C': 10, 'classifier__gamma': 'auto', 'classifier__kernel': 'rbf'}\n",
      "\n",
      "Using 400 features, the best parameters are\n",
      " {'classifier__C': 10, 'classifier__gamma': 'auto', 'classifier__kernel': 'rbf', 'val_score': 0.6175}\n"
     ]
    }
   ],
   "source": [
    "for k in range(200, 401, 50):\n",
    "    # apply feature selection\n",
    "    selected_features  = mrmr.mrmr_classif(X=X, y=y, K=k)\n",
    "    X_train_selected = X_train_sc[:, selected_features]\n",
    "    X_val_selected = X_val_sc[:, selected_features]\n",
    "\n",
    "    # apply random search\n",
    "    k_best = grid_search(pipeline, param_grid,\n",
    "        X_train_selected, y_train_encoded, X_val_selected, y_val_encoded)\n",
    "    \n",
    "    # save the best parameters\n",
    "    best_params[str(k)] = k_best\n",
    "    print(f'\\nUsing {k} features, the best parameters are\\n', k_best)"
   ]
  },
  {
   "cell_type": "markdown",
   "metadata": {},
   "source": []
  }
 ],
 "metadata": {
  "kernelspec": {
   "display_name": "base",
   "language": "python",
   "name": "python3"
  },
  "language_info": {
   "codemirror_mode": {
    "name": "ipython",
    "version": 3
   },
   "file_extension": ".py",
   "mimetype": "text/x-python",
   "name": "python",
   "nbconvert_exporter": "python",
   "pygments_lexer": "ipython3",
   "version": "3.11.5"
  }
 },
 "nbformat": 4,
 "nbformat_minor": 2
}
